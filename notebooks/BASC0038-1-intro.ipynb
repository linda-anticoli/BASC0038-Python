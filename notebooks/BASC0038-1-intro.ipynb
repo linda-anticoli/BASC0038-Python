{
  "nbformat": 4,
  "nbformat_minor": 0,
  "metadata": {
    "colab": {
      "name": "BASC0038-1-intro.ipynb",
      "provenance": [],
      "collapsed_sections": [
        "DRa9FOLeqCcl",
        "1RbiublvLuNK",
        "u6AwiaSlLsoi"
      ],
      "toc_visible": true
    },
    "kernelspec": {
      "name": "python3",
      "display_name": "Python 3"
    }
  },
  "cells": [
    {
      "cell_type": "markdown",
      "metadata": {
        "id": "CsiCEQKuFtOB"
      },
      "source": [
        "BASC0038 Algorithms, Logic and Structure\r\n",
        "\r\n",
        "# Week 1: Introduction to Python and Algorithms\r\n",
        "\r\n",
        "Author: Sam J. Griffiths (sam.griffiths.19@ucl.ac.uk)\r\n",
        "\r\n",
        "---"
      ]
    },
    {
      "cell_type": "markdown",
      "metadata": {
        "id": "Nl_eoM_YH5E_"
      },
      "source": [
        "# Hello, world!\r\n",
        "\r\n",
        "Python is one of the most popular and widely-used programming languages available for use. Its simplicity yet expressiveness and power makes it perfect not just for beginners, but for scientists through statisticians through software engineers and beyond. As a programming language, it is:\r\n",
        "\r\n",
        "\r\n",
        "*   **General-purpose**: it can be used to solve a wide variety of tasks across a wide variety of domains.\r\n",
        "*   **High-level**: for common use, it obfuscates low-level computing and implementation issues such as memory management.\r\n",
        "*   **Interpreted**: the written code can be run directly, as opposed to needing to be **compiled** into an executable program such as an .exe file.\r\n",
        "*   **Dynamically typed**: as opposed to **statically typed**, you don't need to explicitly specify the type of a variable (e.g. integer or string), but it is still **strongly typed**, so ill-defined operations on types under the hood will throw errors.\r\n",
        "\r\n",
        "You can use Python to code entire software projects but, as an interpreted language, individual statements can also be run in Python as a command line interface (CLI). This notebook contains code cells such as the one below, which uses the `print` function to output some text:"
      ]
    },
    {
      "cell_type": "code",
      "metadata": {
        "id": "bmiEPrA2GzQz"
      },
      "source": [
        "print(\"Hello, world!\")"
      ],
      "execution_count": null,
      "outputs": []
    },
    {
      "cell_type": "markdown",
      "metadata": {
        "id": "p-UAcj6YqKuo"
      },
      "source": [
        "The use of quotation marks represents an alphanumeric *string* value. You can use either single (`'`) or double (`\"`) marks for this; unless you're following a particular style guide, it's up to you, but the most important thing is always consistency!\r\n",
        "\r\n",
        "By running individual statements on the command line like this, resultant values are automatically output without needing to use `print`:"
      ]
    },
    {
      "cell_type": "code",
      "metadata": {
        "id": "F5Te19mM2FIo"
      },
      "source": [
        "4 + 3 * 2"
      ],
      "execution_count": null,
      "outputs": []
    },
    {
      "cell_type": "markdown",
      "metadata": {
        "id": "rthQdE2MqePf"
      },
      "source": [
        "Note that proper mathemetical order of operations is honoured, i.e. the multiplication is resolved before the addition.\r\n",
        "\r\n",
        "Python provides all the standard numerical operations you might expect:\r\n",
        "\r\n",
        "\r\n",
        "*   `+` Addition\r\n",
        "*   `-` Subtraction\r\n",
        "*   `*` Multiplication\r\n",
        "*   `/` Division (floating-point arithmetic, e.g. 5 / 2 = 2.5)\r\n",
        "*   `//` Floor division (integer arithmetic, e.g. 5 // 2 = 2)\r\n",
        "*   `%` Modulo (division remainder where the sign of the result is the same as the divisor, e.g. 5 % (-2) = -1)\r\n",
        "*   `**` Exponentiation (e.g. 2**3 = 8)\r\n",
        "\r\n"
      ]
    },
    {
      "cell_type": "markdown",
      "metadata": {
        "id": "oDACWfy8sI_f"
      },
      "source": [
        "# Variables\r\n",
        "\r\n",
        "Just like in mathematics, we can assign values to *variables* which are referred to and manipulated by name. The assignment operator `=` assigns the value on its right to the object on its left:"
      ]
    },
    {
      "cell_type": "code",
      "metadata": {
        "id": "DyU-W0skshkZ"
      },
      "source": [
        "a = 2\r\n",
        "x = a * 5\r\n",
        "print(2 * x**2 + 3 * x - 4.5)"
      ],
      "execution_count": null,
      "outputs": []
    },
    {
      "cell_type": "markdown",
      "metadata": {
        "id": "ys2HA0tuswWv"
      },
      "source": [
        "Once initialised, a variable can be reassigned as many times as you wish. Note that the cell above must be run before the one below, otherwise the interpreter won't know anything about `x` needed to calculate the value on the right hand side."
      ]
    },
    {
      "cell_type": "code",
      "metadata": {
        "id": "bjlnxaHTs5Co"
      },
      "source": [
        "x = x + 6\r\n",
        "print(x)"
      ],
      "execution_count": null,
      "outputs": []
    },
    {
      "cell_type": "markdown",
      "metadata": {
        "id": "bLp2AOkntZYs"
      },
      "source": [
        "Above, we used a variable's current value as part of its new value. Special assignment operators are also available, such that the above can be more simply written:"
      ]
    },
    {
      "cell_type": "code",
      "metadata": {
        "id": "t3vSqqIVtyI7"
      },
      "source": [
        "x += 6\r\n",
        "print(x)"
      ],
      "execution_count": null,
      "outputs": []
    },
    {
      "cell_type": "markdown",
      "metadata": {
        "id": "FVc4Y1zCuJUq"
      },
      "source": [
        "Variables can be called almost anything you wish, following certain rules:\r\n",
        "\r\n",
        "\r\n",
        "*   Can only contain alphanumeric characters &ndash; no spaces!\r\n",
        "*   Cannot start with a number (but can contain numbers elsewhere).\r\n",
        "*   Can contain underscores.\r\n",
        " *    Avoid starting variable names with underscores for now, as this holds special meaning by convention (private class members).\r\n",
        "\r\n",
        "\r\n",
        "\r\n"
      ]
    },
    {
      "cell_type": "markdown",
      "metadata": {
        "id": "6xZg5I2PvFhe"
      },
      "source": [
        "# Comments\r\n",
        "\r\n",
        "Code can be documented in-place through the use of comments. Any line beginning with `#` is ignored by the interpreter as a comment:"
      ]
    },
    {
      "cell_type": "code",
      "metadata": {
        "id": "6W_zTOz5vNlk"
      },
      "source": [
        "# Length of a rectangle (in centimetres)\r\n",
        "length = 10"
      ],
      "execution_count": null,
      "outputs": []
    },
    {
      "cell_type": "markdown",
      "metadata": {
        "id": "ffaCWxUhvexi"
      },
      "source": [
        "A comment can also be *inline* (you should generally prefer the above, though):"
      ]
    },
    {
      "cell_type": "code",
      "metadata": {
        "id": "gn9WHHEfveXF"
      },
      "source": [
        "height = 20  # Height of a rectangle (in centimetres)"
      ],
      "execution_count": null,
      "outputs": []
    },
    {
      "cell_type": "markdown",
      "metadata": {
        "id": "yqiSpk5twg9N"
      },
      "source": [
        "You *must, must, must* get in the habit of properly commenting your code *right away*. Not only is it immensely helpful for anyone reading your code to understand what it does, it will be helpful for you to understand what your own code does when coming back to it the next month (or day (or hour)).\r\n",
        "\r\n",
        "Comments should describe *what* is done and/or *why* it is done, but should not be used to state the obvious! An example of good commenting might be:"
      ]
    },
    {
      "cell_type": "code",
      "metadata": {
        "id": "elRvP15yxKCM"
      },
      "source": [
        "# Calculate the area of the rectangle (in square centimetres)\r\n",
        "print(length * height)"
      ],
      "execution_count": null,
      "outputs": []
    },
    {
      "cell_type": "markdown",
      "metadata": {
        "id": "vJlm3owQxXL4"
      },
      "source": [
        "In contrast, a disgustingly bad comment would be:"
      ]
    },
    {
      "cell_type": "code",
      "metadata": {
        "id": "eUXmt7D_xcBc"
      },
      "source": [
        "# Multiply the length by the height and print the result\r\n",
        "print(length * height)"
      ],
      "execution_count": null,
      "outputs": []
    },
    {
      "cell_type": "markdown",
      "metadata": {
        "id": "fnnksDKCxosr"
      },
      "source": [
        "Common sense should prevail, but writing well-documented, clean code is an art to be learned. It's highly recommended to check out the [PEP 8 style guide](https://www.python.org/dev/peps/pep-0008/) for common guidance on comment styles, variable naming conventions etc."
      ]
    },
    {
      "cell_type": "markdown",
      "metadata": {
        "id": "0UnmwOK62YeJ"
      },
      "source": [
        "# Control flow"
      ]
    },
    {
      "cell_type": "markdown",
      "metadata": {
        "id": "QT9iP-uY69Gx"
      },
      "source": [
        "## Functions"
      ]
    },
    {
      "cell_type": "markdown",
      "metadata": {
        "id": "CPX4Ej_Qx604"
      },
      "source": [
        "Speaking of writing clean code, one of the most foundational principles to keep in mind is **DRY: Don't Repeat Yourself!** If you find yourself writing the same piece of code more than once in a single project, a good start would be to write that piece of code as a *function*:"
      ]
    },
    {
      "cell_type": "code",
      "metadata": {
        "id": "y0_pKpVDyUlG"
      },
      "source": [
        "def hello_world():\r\n",
        "  print(\"Hello, world!\")\r\n",
        "\r\n",
        "hello_world()\r\n",
        "hello_world()\r\n",
        "hello_world()"
      ],
      "execution_count": null,
      "outputs": []
    },
    {
      "cell_type": "markdown",
      "metadata": {
        "id": "n4U8Q-yYychG"
      },
      "source": [
        "Functions can take *parameters*, allowing you to pass *arguments* to them. A function can also `return` a value upon its completion."
      ]
    },
    {
      "cell_type": "code",
      "metadata": {
        "id": "ezGFEe342oFQ"
      },
      "source": [
        "def double(x):\r\n",
        "  return x * 2"
      ],
      "execution_count": null,
      "outputs": []
    },
    {
      "cell_type": "code",
      "metadata": {
        "id": "MlSm02Bh2xvG"
      },
      "source": [
        "double(10)"
      ],
      "execution_count": null,
      "outputs": []
    },
    {
      "cell_type": "code",
      "metadata": {
        "id": "ijId0wh521CI"
      },
      "source": [
        "double(double(30))"
      ],
      "execution_count": null,
      "outputs": []
    },
    {
      "cell_type": "markdown",
      "metadata": {
        "id": "sqfnStB76_l2"
      },
      "source": [
        "## Conditionals (`if`)"
      ]
    },
    {
      "cell_type": "markdown",
      "metadata": {
        "id": "ML4EjUlezt23"
      },
      "source": [
        "Usually, there will be bits of code we only want to execute conditionally, based on some form of predicate. A predicate is a statement returning a Boolean value, i.e. either `True` or `False`. Equality and comparison operators are commonly used for conditional predicates:"
      ]
    },
    {
      "cell_type": "code",
      "metadata": {
        "id": "xDHS_aVB0Kq4"
      },
      "source": [
        "print(2 == 3)   # Equality: is equal?\r\n",
        "print(3 < 9)    # Less than\r\n",
        "print(2 > 10)   # Greater than\r\n",
        "print(-1 <= 5)  # Less than or equal to"
      ],
      "execution_count": null,
      "outputs": []
    },
    {
      "cell_type": "markdown",
      "metadata": {
        "id": "VDWLbpvo1Gng"
      },
      "source": [
        "**Warning: Avoid the very common mistake of confusing the assignment operator `=` with the equality operator `==`**"
      ]
    },
    {
      "cell_type": "markdown",
      "metadata": {
        "id": "zHbH5vS40e6O"
      },
      "source": [
        "A Boolean value is inverted with the `not` operator:"
      ]
    },
    {
      "cell_type": "code",
      "metadata": {
        "id": "9T7-6rk50uEr"
      },
      "source": [
        "print(not True)\r\n",
        "print(not False)"
      ],
      "execution_count": null,
      "outputs": []
    },
    {
      "cell_type": "markdown",
      "metadata": {
        "id": "FH2S28ou07Xe"
      },
      "source": [
        "Hence, the existence of the inequality operator:"
      ]
    },
    {
      "cell_type": "code",
      "metadata": {
        "id": "oV-pmkGD1An_"
      },
      "source": [
        "2 != 10"
      ],
      "execution_count": null,
      "outputs": []
    },
    {
      "cell_type": "markdown",
      "metadata": {
        "id": "HxugIY6c1aqC"
      },
      "source": [
        "The `and` operator only returns `True` if all of its predicates are `True`:"
      ]
    },
    {
      "cell_type": "code",
      "metadata": {
        "id": "KqqCfNzS1gOX"
      },
      "source": [
        "print(2 < 3 and 1 > 19)\r\n",
        "print(2 < 3 and 1 > 0)"
      ],
      "execution_count": null,
      "outputs": []
    },
    {
      "cell_type": "markdown",
      "metadata": {
        "id": "gFTz5FfG1pyn"
      },
      "source": [
        "The `or` operator returns `True` if at least one of its predicates is `True`:"
      ]
    },
    {
      "cell_type": "code",
      "metadata": {
        "id": "U4ngai7n1x90"
      },
      "source": [
        "print(2 < 1 or 1 > 19)\r\n",
        "print(2 < 3 or 1 > 19)\r\n",
        "print(2 < 3 or 1 > 0)"
      ],
      "execution_count": null,
      "outputs": []
    },
    {
      "cell_type": "markdown",
      "metadata": {
        "id": "KNz5EamV15-9"
      },
      "source": [
        "A code block which should only be executed if a predicate is `True` is created using the `if` statement. An optional `else` block immediately following an `if` block is executed if the `if` block is not executed.\r\n",
        "\r\n",
        "Additionally, the optional `elif` block is shorthand for *otherwise, if...* which allows for chaining multiple, mutually exclusive blocks.\r\n",
        "\r\n",
        "The following is a script with two variables `a` and `b` which prints the larger of the two values, or a surprised exclamation if they are equal!"
      ]
    },
    {
      "cell_type": "code",
      "metadata": {
        "id": "S1LfV_Cs2__-"
      },
      "source": [
        "a = 10\r\n",
        "b = 20\r\n",
        "\r\n",
        "if a > b:\r\n",
        "  print(a)\r\n",
        "elif a < b:\r\n",
        "  print(b)\r\n",
        "else:\r\n",
        "  print(\"Values are the same!\")"
      ],
      "execution_count": null,
      "outputs": []
    },
    {
      "cell_type": "markdown",
      "metadata": {
        "id": "ixqZN-p146lG"
      },
      "source": [
        "It would be more prudent to turn this logic into a function taking any two numbers `a` and `b`:"
      ]
    },
    {
      "cell_type": "code",
      "metadata": {
        "id": "B2L0-6ul3lrT"
      },
      "source": [
        "def maximum(a, b):\r\n",
        "  if a > b:\r\n",
        "    return a\r\n",
        "  else:\r\n",
        "    return b\r\n",
        "\r\n",
        "\r\n",
        "maximum(10, 20)"
      ],
      "execution_count": null,
      "outputs": []
    },
    {
      "cell_type": "markdown",
      "metadata": {
        "id": "fbe3wGjx5BHj"
      },
      "source": [
        "Notice that the `else` statement is unnecessary in this case due to the `return` statements. That is, if `a > b`, the function returns anyway, so nothing afterwards will be evaluated; therefore, the above is functionally identical to:"
      ]
    },
    {
      "cell_type": "code",
      "metadata": {
        "id": "S6IrsY5-3xKw"
      },
      "source": [
        "def maximum_2(a, b):\r\n",
        "  if a > b:\r\n",
        "    return a\r\n",
        "  return b\r\n",
        "\r\n",
        "\r\n",
        "maximum_2(10, 20)"
      ],
      "execution_count": null,
      "outputs": []
    },
    {
      "cell_type": "markdown",
      "metadata": {
        "id": "RXi88hsB5h_Q"
      },
      "source": [
        "For a simple, one-line conditional such as this, a *conditional expression* of the form `value_if_true if predicate else value_if_false` can be used instead. This is also often known as the *ternary operator* (although this technically refers to *any* operator taking 3 arguments)."
      ]
    },
    {
      "cell_type": "code",
      "metadata": {
        "id": "-l7j0fWQ34m8"
      },
      "source": [
        "def maximum_3(a, b):\r\n",
        "  return a if a > b else b\r\n",
        "\r\n",
        "\r\n",
        "maximum_3(10, 20)"
      ],
      "execution_count": null,
      "outputs": []
    },
    {
      "cell_type": "markdown",
      "metadata": {
        "id": "Y0avGr9R4aP_"
      },
      "source": [
        "Of course, doing any of this would be entirely unnecessary as `max` is already a built-in function in Python taking as many arguments as you like. It's important to understand how things work under the hood, but equally important to not reinvent the wheel!"
      ]
    },
    {
      "cell_type": "code",
      "metadata": {
        "id": "fAPKZ1fD4PQO"
      },
      "source": [
        "max(2, 10, 20, 15)"
      ],
      "execution_count": null,
      "outputs": []
    },
    {
      "cell_type": "markdown",
      "metadata": {
        "id": "52ia9aT47X7f"
      },
      "source": [
        "## Loops (`while`; `for`)\r\n",
        "\r\n",
        "Another common task in programming is to repeat a statement or block of statements multiple times. A `while` block continually repeats as long as a predicate remains `True`, terminating and moving on with the script once it becomes `False`:"
      ]
    },
    {
      "cell_type": "code",
      "metadata": {
        "id": "G5w0Huzk3xnm"
      },
      "source": [
        "x = 0\r\n",
        "\r\n",
        "while x < 10:\r\n",
        "  print(x)\r\n",
        "  x += 1\r\n",
        "\r\n",
        "print(\"Done!\")"
      ],
      "execution_count": null,
      "outputs": []
    },
    {
      "cell_type": "markdown",
      "metadata": {
        "id": "3SwEmVjj39RJ"
      },
      "source": [
        "Generally, `for` loops are used for more sophisticated iteration. We will look at collections of values in the next section, but concisely, a `for` loop allows you to perform an operation on each value in a collection:"
      ]
    },
    {
      "cell_type": "code",
      "metadata": {
        "id": "QKWRn7Dz4Qnq"
      },
      "source": [
        "for value in range(10):\r\n",
        "  print(value)\r\n",
        "\r\n",
        "print(\"Done!\")"
      ],
      "execution_count": null,
      "outputs": []
    },
    {
      "cell_type": "markdown",
      "metadata": {
        "id": "FDOh9dFdBa7C"
      },
      "source": [
        "`range(n)` returns an iterable from `0` to `n-1`, as can be seen above."
      ]
    },
    {
      "cell_type": "markdown",
      "metadata": {
        "id": "sSx5nAbAfD6V"
      },
      "source": [
        "# Collections"
      ]
    },
    {
      "cell_type": "markdown",
      "metadata": {
        "id": "34bt1Wao97vv"
      },
      "source": [
        "## Tuples\r\n",
        "\r\n",
        "So far, a variable has contained a single value, whereas usually we will want to store and manipulate multiple values in a variety of ways.\r\n",
        "\r\n",
        "The most rudimentary collection is a *tuple*, representing the mathematical concept of a tuple (e.g. $(x, y)$ coordinates). A tuple is simply a sequence of values. Tuples are defined using round brackets and individual elements can be retrieved using square brackets containing the *index* of the element to retrieve (starting from 0):"
      ]
    },
    {
      "cell_type": "code",
      "metadata": {
        "id": "H1WxDnZ0_Eg7"
      },
      "source": [
        "position = (3, 5)\r\n",
        "print(position[0])\r\n",
        "print(position[1])"
      ],
      "execution_count": null,
      "outputs": []
    },
    {
      "cell_type": "markdown",
      "metadata": {
        "id": "l4AwbMzGACpB"
      },
      "source": [
        "Tuples are *immutable*, meaning they cannot be changed:"
      ]
    },
    {
      "cell_type": "code",
      "metadata": {
        "id": "gpe03TsiAILK"
      },
      "source": [
        "# Trying to change a tuple throws an error!\r\n",
        "# position[0] = 10  "
      ],
      "execution_count": null,
      "outputs": []
    },
    {
      "cell_type": "markdown",
      "metadata": {
        "id": "YfXqjsrlAZgW"
      },
      "source": [
        "The reason for this is that a tuple represents a primitive mathematical value; that is, for example, $(3,5)$ is itself one whole object, which just happens to have constitutent parts.\r\n",
        "\r\n",
        "Note that the indices of a tuple of size $n$ range from $0$ to $n-1$. The length $n$ of a tuple `t` can be easily obtained via `len(t)`. Thus, in order to iterate over every element in a tuple, we could use a `for` loop like so:"
      ]
    },
    {
      "cell_type": "code",
      "metadata": {
        "id": "kgO3H8UcBJt_"
      },
      "source": [
        "manydimensional_position = (4, 3, 2, 1, 6, 8, 8, 5, 4, 3)  # n = 10\r\n",
        "for i in range(len(manydimensional_position)):             # i = 0, 1, ..., 9\r\n",
        "  print(manydimensional_position[i])"
      ],
      "execution_count": null,
      "outputs": []
    },
    {
      "cell_type": "markdown",
      "metadata": {
        "id": "XqRSpkIZCNEp"
      },
      "source": [
        "Python's `for` loop lets us achieve the above much more concisely, however, by iterating over the values in the collection directly rather than via an index:"
      ]
    },
    {
      "cell_type": "code",
      "metadata": {
        "id": "pGbwlEOgCZu1"
      },
      "source": [
        "for x in manydimensional_position:\r\n",
        "  print(x)"
      ],
      "execution_count": null,
      "outputs": []
    },
    {
      "cell_type": "markdown",
      "metadata": {
        "id": "jEPohOauCwc4"
      },
      "source": [
        "Values in a tuple do not necessarily have to be of the same type. For example, a tuple could represent one entry in a database with multiple fields:"
      ]
    },
    {
      "cell_type": "code",
      "metadata": {
        "id": "ytbPim5VDC0w"
      },
      "source": [
        "entry = (\"Jeremy\", 22, \"September\", 1985, 5.667)\r\n",
        "entry"
      ],
      "execution_count": null,
      "outputs": []
    },
    {
      "cell_type": "markdown",
      "metadata": {
        "id": "rvCgZG0CEbrO"
      },
      "source": [
        "Indexing a collection with square brackets can be much more sophisticated than giving just a single index. Firstly, a negative index refers to the end of the collection:"
      ]
    },
    {
      "cell_type": "code",
      "metadata": {
        "id": "dUN6aq8YEzPd"
      },
      "source": [
        "numbers = (0, 1, 2, 3, 4, 5, 6, 7, 8, 9)\r\n",
        "print(numbers[-1])  # Equivalent to numbers[len(numbers) - 1]\r\n",
        "print(numbers[-3])  # Equivalent to numbers[len(numbers) - 3]"
      ],
      "execution_count": null,
      "outputs": []
    },
    {
      "cell_type": "markdown",
      "metadata": {
        "id": "jHMp9LX4FJuo"
      },
      "source": [
        "Slicing notation `[start:end]` returns a sub-collection from start (inclusive) to end (exclusive): "
      ]
    },
    {
      "cell_type": "code",
      "metadata": {
        "id": "YX9hbTBxFVxT"
      },
      "source": [
        "print(numbers[3:7])"
      ],
      "execution_count": null,
      "outputs": []
    },
    {
      "cell_type": "markdown",
      "metadata": {
        "id": "loiViAeWFaPT"
      },
      "source": [
        "When using slicing notation, the start can be omitted (defaulting to 0) and the end can be omitted (defaulting to $n$):"
      ]
    },
    {
      "cell_type": "code",
      "metadata": {
        "id": "NIbgvCf1FnHz"
      },
      "source": [
        "print(numbers[:6])\r\n",
        "print(numbers[3:])"
      ],
      "execution_count": null,
      "outputs": []
    },
    {
      "cell_type": "markdown",
      "metadata": {
        "id": "6vZju-GPF1uj"
      },
      "source": [
        "A third number after another colon represents the step size:"
      ]
    },
    {
      "cell_type": "code",
      "metadata": {
        "id": "zZ3CnMd3F64k"
      },
      "source": [
        "print(numbers[2:8:2])  # Start at 2, end before 8, return every 2nd element\r\n",
        "print(numbers[::3])    # Return every 3rd element"
      ],
      "execution_count": null,
      "outputs": []
    },
    {
      "cell_type": "markdown",
      "metadata": {
        "id": "KfBrl5qQ6V2v"
      },
      "source": [
        "## Lists"
      ]
    },
    {
      "cell_type": "markdown",
      "metadata": {
        "id": "bjSLlf1KGRrX"
      },
      "source": [
        "Lists are extremely similar to tuples, except they are instead *mutable*. Thus, rather than representing its own mathematical object as such, it represents a true container of different objects to which you can add, remove and change elements.\r\n",
        "\r\n",
        "In computing, a linear list of this form is often called an *array*, and this terminology is often used interchangeably (although this depends heavily on the context).\r\n",
        "\r\n",
        "A list is created with square brackets rather than round brackets:"
      ]
    },
    {
      "cell_type": "code",
      "metadata": {
        "id": "rxPmJKmGGsuL"
      },
      "source": [
        "first_list = []\r\n",
        "second_list = [5, 4, 3, 2, 5, 7]"
      ],
      "execution_count": null,
      "outputs": []
    },
    {
      "cell_type": "markdown",
      "metadata": {
        "id": "uici2HUSG0Eg"
      },
      "source": [
        "You can edit elements in a list and also append new ones:"
      ]
    },
    {
      "cell_type": "code",
      "metadata": {
        "id": "VvczienYHLc6"
      },
      "source": [
        "first_list.append(2)\r\n",
        "print(first_list)\r\n",
        "\r\n",
        "second_list[1] = 10\r\n",
        "second_list.append(100)\r\n",
        "print(second_list)"
      ],
      "execution_count": null,
      "outputs": []
    },
    {
      "cell_type": "markdown",
      "metadata": {
        "id": "HCXaFsohIay_"
      },
      "source": [
        "You can also extend a list by appending elements from another list:"
      ]
    },
    {
      "cell_type": "code",
      "metadata": {
        "id": "ZAAC62jmIfwu"
      },
      "source": [
        "first_list.extend(second_list)\r\n",
        "print(first_list)"
      ],
      "execution_count": null,
      "outputs": []
    },
    {
      "cell_type": "markdown",
      "metadata": {
        "id": "V-6xlHWWI2rS"
      },
      "source": [
        "All of the above techniques in slicing, iteration etc. for tuples also applies to lists, and indeed will be exceptionally useful to you moving forward.\r\n",
        "\r\n",
        "For example, let's say we want to create another list which contains every element in `first_list` multiplied by 2. We could do this by iterating and appending:"
      ]
    },
    {
      "cell_type": "code",
      "metadata": {
        "id": "nHd74kiBJej0"
      },
      "source": [
        "double_list = []\r\n",
        "for x in first_list:\r\n",
        "  double_list.append(x * 2)\r\n",
        "\r\n",
        "print(double_list)"
      ],
      "execution_count": null,
      "outputs": []
    },
    {
      "cell_type": "markdown",
      "metadata": {
        "id": "rVCXilxXJo77"
      },
      "source": [
        "Python makes this even easier for us, however, by providing *list comprehension*. We can embed the above iteration logic into square brackets as one line:"
      ]
    },
    {
      "cell_type": "code",
      "metadata": {
        "id": "ITz4U3tAJ8fM"
      },
      "source": [
        "double_list = [x * 2 for x in first_list]\r\n",
        "print(double_list)"
      ],
      "execution_count": null,
      "outputs": []
    },
    {
      "cell_type": "markdown",
      "metadata": {
        "id": "R8LALFKL1YF4"
      },
      "source": [
        "## ✍️ Exercise: Generating lists"
      ]
    },
    {
      "cell_type": "markdown",
      "metadata": {
        "id": "C3zbBNed1ld4"
      },
      "source": [
        "Using list comprehension, or otherwise, generate a list named `data` containing the first 500 values of $f(x)$ (that is, starting with $x=0,x=1$ etc.) where\r\n",
        "$$f(x) = \\begin{cases}x^2, & x<10,\\\\x+100, & x \\geq 10. \\end{cases}$$\r\n"
      ]
    },
    {
      "cell_type": "markdown",
      "metadata": {
        "id": "yFsZR1Ce0PIg"
      },
      "source": [
        "<h2>👇</h2>"
      ]
    },
    {
      "cell_type": "code",
      "metadata": {
        "id": "rOmCC0loxxi-"
      },
      "source": [
        "data = None"
      ],
      "execution_count": null,
      "outputs": []
    },
    {
      "cell_type": "markdown",
      "metadata": {
        "id": "z6RbkvkZ0gRx"
      },
      "source": [
        "🟢"
      ]
    },
    {
      "cell_type": "code",
      "metadata": {
        "id": "btZUJreKzDJ-"
      },
      "source": [
        "# Output should be:\r\n",
        "# [0, 1, 4, 9, 16, 25, 36, 49, 64, 81, 110, 111, 112, ... , 598, 599]\r\n",
        "# 500\r\n",
        "\r\n",
        "print(data)\r\n",
        "print(len(data))"
      ],
      "execution_count": null,
      "outputs": []
    },
    {
      "cell_type": "markdown",
      "metadata": {
        "id": "7aOyUUBRKQe0"
      },
      "source": [
        "## Sets and dictionaries\r\n",
        "\r\n",
        "Finally, there are a few more collection types available out of the box. Sets are unordered containers which also cannot contain duplicates. It therefore represents the mathematical concept of a set, able to answer the question of whether or not an element is in a set. A set is defined using curly braces:"
      ]
    },
    {
      "cell_type": "code",
      "metadata": {
        "id": "ymmWJUuKLKVe"
      },
      "source": [
        "summer = {\"June\", \"July\", \"September\"}\r\n",
        "summer.add(\"August\")\r\n",
        "\r\n",
        "if \"August\" in summer:\r\n",
        "  print(\"August is indeed in summer!\")\r\n",
        "\r\n",
        "summer.remove(\"September\")\r\n",
        "if not \"September\" in summer:\r\n",
        "  print(\"September is indeed not in summer!\")\r\n",
        "\r\n",
        "summer.add(\"August\")  # Duplicates are specifically ignored, unlike lists etc.\r\n",
        "summer.add(\"August\")\r\n",
        "summer.add(\"August\")\r\n",
        "print(summer)"
      ],
      "execution_count": null,
      "outputs": []
    },
    {
      "cell_type": "markdown",
      "metadata": {
        "id": "DUf6jJVAMPQs"
      },
      "source": [
        "Dictionaries are associative containers, storing `(key, value)` pairs and allowing you to efficiently retrieve a `value` from its `key`:"
      ]
    },
    {
      "cell_type": "code",
      "metadata": {
        "id": "0qgtBCMmMgb4"
      },
      "source": [
        "age = {\r\n",
        "    \"Falk\":  12,\r\n",
        "    \"Eleanor\": 23,\r\n",
        "    \"Sami\": 47\r\n",
        "}\r\n",
        "\r\n",
        "print(age[\"Eleanor\"])\r\n",
        "\r\n",
        "age[\"Sami\"] += 10  # Elements are mutable\r\n",
        "print(age[\"Sami\"])\r\n",
        "\r\n",
        "age[\"Asmae\"] = 123  # Add a new entry\r\n",
        "age[\"Asmae\"] -= 100\r\n",
        "print(age[\"Asmae\"])"
      ],
      "execution_count": null,
      "outputs": []
    },
    {
      "cell_type": "markdown",
      "metadata": {
        "id": "8BXg3a0re5F0"
      },
      "source": [
        "# Search algorithms"
      ]
    },
    {
      "cell_type": "markdown",
      "metadata": {
        "id": "DRa9FOLeqCcl"
      },
      "source": [
        "## Linear search\r\n",
        "\r\n",
        "One of the most fundamental types of problem in computing is that of *search*, e.g. searching a collection for an element, a complex problem space for a solution etc. Think about *sets* introduced above: how is this implemented under the hood? Given a list of values, how can we test whether or not a given value is in it?\r\n",
        "\r\n",
        "A simple approach would be to scan through the list one by one. If we find the element, we can terminate reporting `True`, but if we reach the end without finding the element, we can terminate reporting `False`. Although simple, this is a valid example of an algorithm, and is known as *linear search*."
      ]
    },
    {
      "cell_type": "markdown",
      "metadata": {
        "id": "hUc8Xx0LsnMn"
      },
      "source": [
        "## ✍️ Exercise: Linear search\r\n",
        "\r\n",
        "Implement linear search as `linear_search_iterative`, a function taking an `array` to search through and a `value` to look for. It should return `True` if `value` is in `array`, and `False` otherwise. Place your implementation in the empty function definition below and run the output cell underneath to test if it's performing correctly.\r\n",
        "\r\n",
        "If in doubt, read the docstring provided! Not only is it an example of how to properly document your code and, in particular, your functions, but it should give you hints on what your function needs to do."
      ]
    },
    {
      "cell_type": "markdown",
      "metadata": {
        "id": "J-Q6u2ty0v0r"
      },
      "source": [
        "<h2>👇</h2>"
      ]
    },
    {
      "cell_type": "code",
      "metadata": {
        "id": "uHukWA8fd-5l"
      },
      "source": [
        "def linear_search_iterative(array, value):\r\n",
        "  \"\"\"Query if a value is in an array via iterative linear search.\r\n",
        "\r\n",
        "  Args:\r\n",
        "    array: List of elements to query.\r\n",
        "    value: Value to query presence of.\r\n",
        "  \r\n",
        "  Returns:\r\n",
        "    True if value is in array, False otherwise.\r\n",
        "\r\n",
        "  \"\"\"\r\n",
        "  pass  # Replace this!"
      ],
      "execution_count": null,
      "outputs": []
    },
    {
      "cell_type": "markdown",
      "metadata": {
        "id": "5hCkiBte1NIK"
      },
      "source": [
        "🟢"
      ]
    },
    {
      "cell_type": "code",
      "metadata": {
        "id": "U78-iuokfL3t"
      },
      "source": [
        "# Output should be:\r\n",
        "# (True, True, True, False)\r\n",
        "\r\n",
        "(linear_search_iterative(data, 81),\r\n",
        " linear_search_iterative(data, 0),\r\n",
        " linear_search_iterative(data, 599),\r\n",
        " linear_search_iterative(data, -2))"
      ],
      "execution_count": null,
      "outputs": []
    },
    {
      "cell_type": "markdown",
      "metadata": {
        "id": "OKBgmIgFpxaT"
      },
      "source": [
        "## Binary search"
      ]
    },
    {
      "cell_type": "markdown",
      "metadata": {
        "id": "hf8Ct-qap7Z1"
      },
      "source": [
        "### Recursive approach\r\n",
        "\r\n",
        "We can often improve on naive methods if we can make certain assumptions about our input. For example, what if we assume our array to search through is *sorted*, i.e. all of its elements are in order?\r\n",
        "\r\n",
        "We could begin by testing the middle value. If it is not the one we're looking for, by testing whether it's less than or greater than it instead, we know we only need to check one remaining half of the list, as we can then ignore all of the elements either before or after it. This way, we halve the number of elements left to check at each step, rather than simply reducing by 1.\r\n",
        "\r\n",
        "<img src=\"https://drive.google.com/uc?export=view&id=1BIMB_mm66hxw-o_BeziSs3eV0ezleJVS\" alt=\"1280px-Binary_Search_Depiction.svg.png\" width=\"80%\"/>\r\n",
        "\r\n",
        "(Image by AlwaysAngry / Wikimedia Commons / CC BY-SA 4.0)\r\n",
        "\r\n",
        "This is an example of a *recursive* algorithm. A recursive function is one which calls itself, usually on a smaller input (in this case, half of the original at each step). By recursively calling itself on smaller and smaller inputs, a *base case(s)* will be reached as an alternative to the *recursive case(s)*. This is necessary as a recursive function with no base cases will recur infinitely, which is clearly not what we want.\r\n",
        "\r\n",
        "The two base cases of binary search is an `array` of size 0, which immediately returns `False` as it cannot possibly contain the `value`, and an `array` of size 1, which simply returns `True` or `False` by testing its only element.\r\n",
        "\r\n",
        "The recursive case, therefore, is a set of size 2 or more, which tests the middle value, either returning `True` or else performing binary search on the sublist of all elements either greater than or less than that middle."
      ]
    },
    {
      "cell_type": "markdown",
      "metadata": {
        "id": "Hb6G27GdtKs0"
      },
      "source": [
        "### ✍️ Exercise: Recursive binary search"
      ]
    },
    {
      "cell_type": "markdown",
      "metadata": {
        "id": "vgABzYT6SZeL"
      },
      "source": [
        "Implement binary search as `binary_search_recursive`. Remember that binary search contains two base cases if the size $n$ of the `array` is 0 or 1 and recurs on half of the input if $n$ is greater than 2 and the middle value is not the value we are searching for."
      ]
    },
    {
      "cell_type": "markdown",
      "metadata": {
        "id": "sKATUp840xnS"
      },
      "source": [
        "<h2>👇</h2>"
      ]
    },
    {
      "cell_type": "code",
      "metadata": {
        "id": "RO8Zxq3YffE5"
      },
      "source": [
        "def binary_search_recursive(array, value):\r\n",
        "  \"\"\"Query if a value is in an array via recursive binary search.\r\n",
        "\r\n",
        "  Args:\r\n",
        "    array: List of elements to query.\r\n",
        "    value: Value to query presence of.\r\n",
        "  \r\n",
        "  Returns:\r\n",
        "    True if value is in array, False otherwise.\r\n",
        "    \r\n",
        "  \"\"\"\r\n",
        "  pass  # Replace this!"
      ],
      "execution_count": null,
      "outputs": []
    },
    {
      "cell_type": "markdown",
      "metadata": {
        "id": "lHXnYMB_1OKu"
      },
      "source": [
        "🟢"
      ]
    },
    {
      "cell_type": "code",
      "metadata": {
        "id": "fE8sihR7hMo0"
      },
      "source": [
        "# Output should be:\r\n",
        "# (True, True, True, False)\r\n",
        "\r\n",
        "(binary_search_recursive(data, 81),\r\n",
        " binary_search_recursive(data, 0),\r\n",
        " binary_search_recursive(data, 599),\r\n",
        " binary_search_recursive(data, -2))"
      ],
      "execution_count": null,
      "outputs": []
    },
    {
      "cell_type": "markdown",
      "metadata": {
        "id": "pwAb-WYlp03x"
      },
      "source": [
        "### Iterative approach"
      ]
    },
    {
      "cell_type": "markdown",
      "metadata": {
        "id": "oMf2LL6JS5Sp"
      },
      "source": [
        "So far, we defined linear search iteratively, but binary search recursively. Even though a problem such as binary search is elegant to describe and understand recursively, it is also possible to define and implement iteratively, instead. In fact, any problem that can be solved iteratively can be solved recursively, and vice versa. This follows on from a principle known as Turing completeness, which addresses the fundamental nature of problems being solvable.\r\n",
        "\r\n",
        "In general, though the approaches are theoretically equivalent, in practice one should generally prefer to avoid recursion in real code. This is because each time a function is called comes with its own practical overhead, as the computer must shift control, remember certain information to be able to return to the previous function etc. Function calls are stored on a *stack* (more about stacks and other data structures to follow in later worksheets) which has a practical limit, so recursively calling a function too many times can overwhelm the computer and cause it to crash in a *stack overflow*. By avoiding recursion, we can instead keep all of the work contained on one level of the stack.\r\n",
        "\r\n",
        "If you can implement a problem iteratively (which, theoretically, you always can), then you should. However, this is a very loose rule, as some problems can rapidly become very complex and it can be much more feasible overall to implement recursively with other optimisations and safety techniques instead.\r\n",
        "\r\n",
        "Binary search can be implemented iteratively by maintaining `min` and `max` indices, initialised to represent the full extent of the input array. The middle index between `min` and `max` is retrieved as before. Instead of recurring on half of the array, either `min` is set to the element above the middle, or `max` is set to the element below the middle. The algorithm still terminates when we reach an array of size 0, so we loop until `min` becomes greater than `max`, which means we no longer have a valid array."
      ]
    },
    {
      "cell_type": "markdown",
      "metadata": {
        "id": "ClN0AD4Ntjbx"
      },
      "source": [
        "### ✍️ Exercise: Iterative binary search"
      ]
    },
    {
      "cell_type": "markdown",
      "metadata": {
        "id": "tsaG6VEhVQ7V"
      },
      "source": [
        "Implement an iterative version of binary search as `binary_search_iterative`, which achieves the same results as `binary_search_recursive` but does not call itself recursively."
      ]
    },
    {
      "cell_type": "markdown",
      "metadata": {
        "id": "CqBo4S6z0zIi"
      },
      "source": [
        "<h2>👇</h2>"
      ]
    },
    {
      "cell_type": "code",
      "metadata": {
        "id": "HID-Yz4ZhpeU"
      },
      "source": [
        "def binary_search_iterative(array, value):\r\n",
        "  \"\"\"Query if a value is in an array via iterative binary search.\r\n",
        "\r\n",
        "  Args:\r\n",
        "    array: List of elements to query.\r\n",
        "    value: Value to query presence of.\r\n",
        "  \r\n",
        "  Returns:\r\n",
        "    True if value is in array, False otherwise.\r\n",
        "\r\n",
        "  \"\"\"  \r\n",
        "  pass  # Replace this!"
      ],
      "execution_count": null,
      "outputs": []
    },
    {
      "cell_type": "markdown",
      "metadata": {
        "id": "koeR2ZTa1PuF"
      },
      "source": [
        "🟢"
      ]
    },
    {
      "cell_type": "code",
      "metadata": {
        "id": "_8gUhy9citSI"
      },
      "source": [
        "# Output should be:\r\n",
        "# (True, True, True, False)\r\n",
        "\r\n",
        "(binary_search_iterative(data, 81),\r\n",
        " binary_search_iterative(data, 0),\r\n",
        " binary_search_iterative(data, 599),\r\n",
        " binary_search_iterative(data, -2))"
      ],
      "execution_count": null,
      "outputs": []
    },
    {
      "cell_type": "markdown",
      "metadata": {
        "id": "9RDqWDUHi7GZ"
      },
      "source": [
        "## ✍️ Exercise: Recursive linear search\r\n",
        "We have seen that binary search can be implemented recursively or iteratively. In general, any problem that can be solved recursively can be solved iteratively, and vice versa (see *Turing completeness*).\r\n",
        "\r\n",
        "Write a recursive implementation of linear search as `linear_search_recursive`. Hint: linear search checks the first element, before moving onto 'the next'.\r\n"
      ]
    },
    {
      "cell_type": "markdown",
      "metadata": {
        "id": "yHe5SoWY0z1j"
      },
      "source": [
        "<h2>👇</h2>"
      ]
    },
    {
      "cell_type": "code",
      "metadata": {
        "id": "DIkrawP_jGWe"
      },
      "source": [
        "def linear_search_recursive(array, value):\r\n",
        "  \"\"\"Query if a value is in an array via recursive linear search.\r\n",
        "\r\n",
        "  Args:\r\n",
        "    array: List of elements to query.\r\n",
        "    value: Value to query presence of.\r\n",
        "  \r\n",
        "  Returns:\r\n",
        "    True if value is in array, False otherwise.\r\n",
        "    \r\n",
        "  \"\"\"\r\n",
        "  pass  # Replace this!"
      ],
      "execution_count": null,
      "outputs": []
    },
    {
      "cell_type": "markdown",
      "metadata": {
        "id": "47dQ3Qvb1ugv"
      },
      "source": [
        "🟢"
      ]
    },
    {
      "cell_type": "code",
      "metadata": {
        "id": "8o0d9PV0jXKs"
      },
      "source": [
        "# Output should be:\r\n",
        "# (True, True, True, False)\r\n",
        "\r\n",
        "(linear_search_recursive(data, 81),\r\n",
        " linear_search_recursive(data, 0),\r\n",
        " linear_search_recursive(data, 599),\r\n",
        " linear_search_recursive(data, -2))"
      ],
      "execution_count": null,
      "outputs": []
    },
    {
      "cell_type": "markdown",
      "metadata": {
        "id": "MKi09NlGtKEW"
      },
      "source": [
        "# Complexity analysis"
      ]
    },
    {
      "cell_type": "markdown",
      "metadata": {
        "id": "1RbiublvLuNK"
      },
      "source": [
        "## Big O notation\r\n",
        "\r\n",
        "Take a function $f(x)$ such as\r\n",
        "\r\n",
        "$$f(x) = 2x^2 + 3x + 4$$\r\n",
        "\r\n",
        "This is a quadratic function with 3 terms: a quadratic, linear and constant term. Of these, the quadratic term is the fastest-growing; that is, **for sufficiently large $x$** (i.e. $x \\to \\infty$) the $2x^2$ term will dwarf the others. Asymptotically, the quadratic term is sufficient to characterise the growth of the function, so we say that the *order* of the function is quadratic, written as\r\n",
        "\r\n",
        "$$f(x) \\in O(x^2)$$\r\n",
        "\r\n",
        "or simply\r\n",
        "\r\n",
        "$$f(x) = O(x^2)$$\r\n",
        "\r\n",
        "The big O notation indicates an *upper bound* on the growth of the function $f(x)$ &ndash; here, we are stating that $f(x)$ *grows no faster* than any constant multiple of $x^2$. Given a function, it is usually straightforward to state its order by inspection, by simply citing only the fastest-growing term ignoring constant factors (the $2$ is dropped).\r\n",
        "\r\n",
        "As an upper bound, it is also correct to say that $f(x)=O(x^3)$, $f(x)=O(x^{42})$, $f(x)=O(e^{e^x})$ etc., but naturally this is not particularly informative, as it is the minimisation of the upper bound which is of interest.\r\n"
      ]
    },
    {
      "cell_type": "markdown",
      "metadata": {
        "id": "u6AwiaSlLsoi"
      },
      "source": [
        "## Linear search\r\n",
        "\r\n",
        "1.   Decide the *elementary operation* for the algorithm. Here, it is a comparison between two values.\r\n",
        "2.   Decide on a *case* to analyse. Here, we are interested in the *worst case*, i.e. the maximum number of comparisons.\r\n",
        "3.    Form an expression $T(n)$ for the number of elementary operations in terms of the input size $n$.\r\n",
        "4.    Report the complexity as the order (big O) of $T(n)$.\r\n",
        "\r\n",
        "The worst case of linear search is if the element to be found is in the very last position, or not in the list at all &ndash; both cases maximise the number of comparisons performed.\r\n",
        "\r\n",
        "The analysis for linear search is trivial: in the worst case, $n$ comparisons are performed:\r\n",
        "\r\n",
        "\\begin{align}\r\n",
        "T(n) &= n \\\\\r\n",
        "\\therefore \\quad T(n) &= O(n)\r\n",
        "\\end{align}\r\n",
        "\r\n",
        "In conclusion, we can say that this algorithm runs in *linear time* (hence its name) in the worst case.\r\n",
        "\r\n",
        "The best case is the search value being in the very first position, so only a single comparison will ever be performed, i.e. $T(n)=1=O(1)$, described as *constant-time*. The average case is the search value being in the middle of the list, so\r\n",
        "\r\n",
        "\\begin{align}\r\n",
        "T(n) &= \\frac{n}{2} \\\\\r\n",
        "\\therefore \\quad T(n) &= O(n)\r\n",
        "\\end{align}\r\n",
        "\r\n",
        "So, the best case is trivially constant-time, and the worst-case and average-case complexities are of the same order. Both facts are true for a lot of algorithms... but not always, as we will see!\r\n"
      ]
    },
    {
      "cell_type": "markdown",
      "metadata": {
        "id": "HoOXA3QHtPNf"
      },
      "source": [
        "## Binary search\r\n",
        "\r\n",
        "The analysis is not so trivial for binary search. We begin, as always, by selecting an elementary operation (comparisons) and forming an expression to count the number of operations for an input of size $n$. \r\n",
        "\r\n",
        "A step (iteration/recursion) of binary search on a set of size $n$ comprises a single comparison, followed by the same step on a set of size $n/2$:\r\n",
        "\r\n",
        "\\begin{equation}\r\n",
        "T(n) = 1+T{\\left(\\frac{n}{2}\\right)}\r\n",
        "\\end{equation}\r\n",
        "\r\n",
        "This forms a recurrence relation, which in this case is straightforward to resolve by inspection. Here, we expand it twice (substitute it into itself), then simplify it by introducing a parameter $k$ as the number of steps (a technique known as *telescoping*):\r\n",
        "\r\n",
        "\\begin{align}\r\n",
        "T(n) &= 1+1+T{\\left(\\frac{n}{4}\\right)} \\\\\r\n",
        "&= 1+1+1+T{\\left(\\frac{n}{8}\\right)} \\\\\r\n",
        "&\\;\\;\\vdots \\\\\r\n",
        "&= k+T{\\left(\\frac{n}{2^k}\\right)} \\\\\r\n",
        "\\end{align}\r\n",
        "\r\n",
        "The base case is a set of size 1, achieved after halving the set $k$ times:\r\n",
        "\r\n",
        "\\begin{align}\r\n",
        "\\frac{n}{2^k} &= 1 \\\\\r\n",
        "\\implies \\quad k &= \\log_2{n}\r\n",
        "\\end{align}\r\n",
        "\r\n",
        "Substituting this back in gives\r\n",
        "\r\n",
        "\\begin{align}\r\n",
        "T(n) &= \\log_2{n} + T(1)\r\n",
        "\\end{align}\r\n",
        "\r\n",
        "A set of size 1 requires 1 comparison to search, so $T(1)=1$:\r\n",
        "\r\n",
        "\\begin{align}\r\n",
        "T(n) &= \\log_2{n} + 1\\\\\r\n",
        "\\therefore \\quad T(n) &= O(\\log{n})\r\n",
        "\\end{align}\r\n",
        "\r\n",
        "Therefore, we can say that binary search runs in *logarithmic time* in the worst case: a definite improvement over linear time. It is common to leave the base out of the logarithm when reporting bounds, as logarithms of different bases are interchangeable by a constant factor.\r\n",
        "\r\n",
        "NB: As we are dealing with integer values which may not necessarily be powers of 2, the formula should more correctly be $T(n)=\\lfloor\\log_2{n}+1\\rfloor$. This is simply because there are always $\\lfloor\\log_2{n}+1\\rfloor$ levels in a binary tree with $n$ nodes, and one comparison is performed for each level. This is the *floor* function, simply representing rounding down to the nearest integer. For example, for $n=8$, there are $\\lfloor\\log_2(8)+1\\rfloor=4$ levels, and one comparison is performed at each level:"
      ]
    },
    {
      "cell_type": "markdown",
      "metadata": {
        "id": "te1q5l3W5GqI"
      },
      "source": [
        "<img src=\"https://drive.google.com/uc?export=view&id=1Dcx-WpUCD3crrpuUJ8P8B3qFRYbFPF5a\" alt=\"bst.png\" width=\"30%\"/>\r\n"
      ]
    },
    {
      "cell_type": "markdown",
      "metadata": {
        "id": "SJ89Z-Kd5mbr"
      },
      "source": [
        "The best case of binary search is, again, the element being in the first position queried, which this time is the middle position, yielding $O(1)$. Derivation of the average-case complexity for binary search is non-trivial and out of scope, but rest assured that it is $O(\\log{n})$ as with the worst case.\r\n",
        "\r\n",
        "Finally, note that we can also solve the complexity of linear search in its recursive form by telescoping, showing that its iterative and recursive forms are equivalent:\r\n",
        "\r\n",
        "\\begin{align}\r\n",
        "T(n) &= 1 + T(n-1) \\\\\r\n",
        "&= 1 + 1 + T(n-2) \\\\\r\n",
        "&= 1 + 1 + 1 + T(n-3) \\\\\r\n",
        "&\\;\\;\\vdots \\\\\r\n",
        "&= k+T(n-k) \\\\\r\n",
        "n-k &= 1 \\\\\r\n",
        "\\implies \\quad k &= n-1 \\\\\r\n",
        "\\implies \\quad T(n) &= n - 1 + T(1) \\\\\r\n",
        "&= n-1+1 \\\\\r\n",
        "&= n\r\n",
        "\\end{align}"
      ]
    },
    {
      "cell_type": "markdown",
      "metadata": {
        "id": "daBgZQXJ6GgG"
      },
      "source": [
        "# ✍️ Exercise: Timing experiments\r\n",
        "\r\n",
        "Let us profile our implementations of linear and binary search by performing timing experiments. In this section, a basic framework is provided for both performing timing experiments and producing graphs of results. This code will use your implementations in the exercises above, but future worksheets will give timing experiments as an exercise: you can use the framework given here.\r\n",
        "\r\n",
        "As described above, the best cases are trivial for these searches, so let's explore the worst case. For both searches, the worst case is a list of size $n$ where the value to search does not appear anywhere in the list (equivalent to the value being the last element to check, but we will keep things simpler by taking the first option).\r\n",
        "\r\n",
        "Recall that the key point is we are determining how the consumption of a resource (here, time) scales with the input size $n$. We will perform timing experiments for each of the four implementations across a range of values of $n$.\r\n",
        "\r\n",
        "For each experiment instance (e.g. binary search with $n=32$) we should perform repeat readings, as per rudimentary scientific technique. Some manner of average should be taken each time. Often, the mean of values is taken, but computational timing experiments can be particularly susceptible to anomalies &ndash; the computer is doing many other things at any given time, after all. The median could be more appropriate as it is less sensitive to outliers in the data. However, note that in this case anomalies are only every *upwards*; unrelated delays could be introduced to increase the time reading, but the function can never short-circuit and take less time than it should. Therefore, the minimum is actually the most appropriate average to take for computational timing experiments.\r\n",
        "\r\n",
        "First, let's compare all four implementations together:"
      ]
    },
    {
      "cell_type": "code",
      "metadata": {
        "id": "05g-9F_zfXIC"
      },
      "source": [
        "import time\r\n",
        "\r\n",
        "%matplotlib inline\r\n",
        "import matplotlib.pyplot as plt\r\n",
        "import numpy as np\r\n",
        "\r\n",
        "\r\n",
        "def time_function(function, runs=1, average=min):\r\n",
        "  \"\"\"Test the average execution time of a given function.\r\n",
        "\r\n",
        "  Args:\r\n",
        "    function: Callable to time.\r\n",
        "    runs (int, optional): Number of runs. Defaults to 1.\r\n",
        "    average (optional): Average function to apply. Defaults to min.\r\n",
        "\r\n",
        "  Returns:\r\n",
        "    Function time (average of runs).\r\n",
        "\r\n",
        "  \"\"\"\r\n",
        "  results = [None] * runs\r\n",
        "  for i in range(runs):\r\n",
        "    t0 = time.perf_counter()\r\n",
        "    function()\r\n",
        "    t1 = time.perf_counter()\r\n",
        "    results[i] = t1 - t0\r\n",
        "  \r\n",
        "  return average(results)\r\n",
        "\r\n",
        "\r\n",
        "# Mediocre range of values of n, small to avoid stack overflow\r\n",
        "small_problem_sizes = [0, 1, 2, 5, 10, 32, 64, 100]\r\n",
        "\r\n",
        "# Lists of time results\r\n",
        "l_search_iterative = []\r\n",
        "l_search_recursive = []\r\n",
        "b_search_iterative = []\r\n",
        "b_search_recursive = []\r\n",
        "\r\n",
        "for n in small_problem_sizes:\r\n",
        "  # List of numbers from 0 to n-1\r\n",
        "  array = [i for i in range(n)]\r\n",
        "\r\n",
        "  # Worst case is value not present\r\n",
        "  value = n\r\n",
        "\r\n",
        "  # Obtain minimum time of 10 runs for each algorithm\r\n",
        "  runs = 10\r\n",
        "  l_search_iterative.append(time_function(\r\n",
        "      lambda: linear_search_iterative(array, value),\r\n",
        "      runs))\r\n",
        "  l_search_recursive.append(time_function(\r\n",
        "      lambda: linear_search_recursive(array, value),\r\n",
        "      runs))\r\n",
        "  b_search_iterative.append(time_function(\r\n",
        "      lambda: binary_search_iterative(array, value),\r\n",
        "      runs))\r\n",
        "  b_search_recursive.append(time_function(\r\n",
        "      lambda: binary_search_recursive(array, value),\r\n",
        "      runs))\r\n",
        "\r\n",
        "# Plot graph of times\r\n",
        "plt.plot(small_problem_sizes, l_search_iterative, label=\"linear-iterative\")\r\n",
        "plt.plot(small_problem_sizes, l_search_recursive, label=\"linear-recursive\")\r\n",
        "plt.plot(small_problem_sizes, b_search_iterative, label=\"binary-iterative\")\r\n",
        "plt.plot(small_problem_sizes, b_search_recursive, label=\"binary-recursive\")\r\n",
        "plt.legend()\r\n",
        "plt.xlabel(r\"problem size $n$\")\r\n",
        "plt.ylabel(r\"time $t$ (s)\")\r\n",
        "plt.show()"
      ],
      "execution_count": null,
      "outputs": []
    },
    {
      "cell_type": "markdown",
      "metadata": {
        "id": "uUrRDcARrBnK"
      },
      "source": [
        "Assuming your implementations are accurate, we can see that recursive linear search performs significantly worse than the others, followed by iterative linear, recursive binary then finally iterative binary. Not only can we see that, as predicted, the recursive implementations perform worse than their iterative counterparts, but if you try increasing values of $n$ at which to test, you will quickly find that the program will crash due to stack overflow.\r\n",
        "\r\n",
        "Let's discard the recursive implementations, then, and repeat the experiment with a greater range of $n$ for just the iterative ones:"
      ]
    },
    {
      "cell_type": "code",
      "metadata": {
        "id": "nu-Qf6lkruDP"
      },
      "source": [
        "# Good range of values for n, including powers and non-powers of 2\r\n",
        "problem_sizes = [0, 1, 2, 5, 10, 32, 64, 100, 500, 512, 1000, 1024,\r\n",
        "                 5000, 8192, 10000]\r\n",
        "\r\n",
        "# Lists of time results\r\n",
        "l_search = []\r\n",
        "b_search = []\r\n",
        "\r\n",
        "for n in problem_sizes:\r\n",
        "  # List of numbers from 0 to n-1\r\n",
        "  array = [i for i in range(n)]\r\n",
        "\r\n",
        "  # Worst case is value not present\r\n",
        "  value = n\r\n",
        "\r\n",
        "  # Obtain minimum time of 10 runs for each algorithm\r\n",
        "  runs = 10\r\n",
        "  l_search.append(time_function(\r\n",
        "      lambda: linear_search_iterative(array, value),\r\n",
        "      runs))\r\n",
        "  b_search.append(time_function(\r\n",
        "      lambda: binary_search_iterative(array, value),\r\n",
        "      runs))\r\n",
        "\r\n",
        "# Plot graph of times\r\n",
        "plt.plot(problem_sizes, l_search, label=\"linear-iterative\")\r\n",
        "plt.plot(problem_sizes, b_search, label=\"binary-iterative\")\r\n",
        "plt.legend()\r\n",
        "plt.xlabel(r\"problem size $n$\")\r\n",
        "plt.ylabel(r\"time $t$ (s)\")\r\n",
        "plt.show()"
      ],
      "execution_count": null,
      "outputs": []
    },
    {
      "cell_type": "markdown",
      "metadata": {
        "id": "IOgjUqNksXvo"
      },
      "source": [
        "The linear scaling of $t$ with $n$ for linear search is very clear, as is the comparatively miniscule scaling for binary search. Let's plot only the results for binary search in order to see them more clearly."
      ]
    },
    {
      "cell_type": "code",
      "metadata": {
        "id": "FFV5d8BMsvoM"
      },
      "source": [
        "plt.plot(problem_sizes, b_search, label=\"binary-iterative\")\r\n",
        "plt.legend()\r\n",
        "plt.xlabel(r\"problem size $n$\")\r\n",
        "plt.ylabel(r\"time $t$ (s)\")\r\n",
        "plt.show()"
      ],
      "execution_count": null,
      "outputs": []
    },
    {
      "cell_type": "markdown",
      "metadata": {
        "id": "Db5uTm3_s1sM"
      },
      "source": [
        "Binary search is so efficient that the time values become very small indeed, so you may now see a lot of noise in the graph. In that case, we will change our approach to record the total time taken to repeat a binary search many (say, 100,000) times. Although this approach generally has the downside of including extra delays caused by repeating that many function calls, the resultant values of time are significantly larger, so will suffer less from issues of precision that the extremely small values will suffer from:"
      ]
    },
    {
      "cell_type": "code",
      "metadata": {
        "id": "a1Fri7t-tB3e"
      },
      "source": [
        "def time_function_total(function, runs=1):\r\n",
        "  \"\"\"Test the total execution time of a given function.\r\n",
        "\r\n",
        "  Args:\r\n",
        "    function: Function to time.\r\n",
        "    runs (int, optional): Number of runs. Defaults to 1.\r\n",
        "\r\n",
        "  Returns:\r\n",
        "    Function time (total of runs).\r\n",
        "\r\n",
        "  \"\"\"\r\n",
        "  t0 = time.perf_counter()\r\n",
        "  for _ in range(runs):\r\n",
        "    function()\r\n",
        "  t1 = time.perf_counter()\r\n",
        "\r\n",
        "  return t1 - t0\r\n",
        "\r\n",
        "\r\n",
        "b_search_new = []\r\n",
        "large_problem_sizes = [0, 1, 2, 5, 10, 32, 64, 100, 500, 512, 1000, 1024,\r\n",
        "                       5000, 8192, 10000, 11000, 12000, 13000]\r\n",
        "\r\n",
        "for n in large_problem_sizes:\r\n",
        "  # List of numbers from 0 to n-1\r\n",
        "  array = [i for i in range(n)]\r\n",
        "\r\n",
        "  # Worst case is value not present\r\n",
        "  value = n\r\n",
        "\r\n",
        "  # Obtain minimum time of 10 runs for each algorithm\r\n",
        "  runs = 100000\r\n",
        "  b_search_new.append(time_function_total(\r\n",
        "      lambda: binary_search_iterative(array, value),\r\n",
        "      runs))\r\n",
        "\r\n",
        "# Plot graph of times\r\n",
        "plt.plot(large_problem_sizes, b_search_new, label=\"binary-iterative\")\r\n",
        "plt.legend()\r\n",
        "plt.xlabel(r\"problem size $n$\")\r\n",
        "plt.ylabel(r\"time $t$ (s)\")\r\n",
        "plt.show()"
      ],
      "execution_count": null,
      "outputs": []
    },
    {
      "cell_type": "markdown",
      "metadata": {
        "id": "q4VTnWyzw6UQ"
      },
      "source": [
        "Although the results may still be somewhat noisy, a logarithmic curve should be clear, confirming the logarithmic time complexity of binary search in the worst case and its distinct advantage over linear search."
      ]
    },
    {
      "cell_type": "markdown",
      "metadata": {
        "id": "Vr4J5phiTXTJ"
      },
      "source": [
        "# ➕ Extra: Sentinel values\r\n",
        "\r\n",
        "A *sentinel value* is some distinct value used to indicate a termination condition of some algorithm or data structure at a low level. For example, take iterating over a list using an index variable (which happens under-the-hood in Python and is something you might need to do in a different programming language):"
      ]
    },
    {
      "cell_type": "code",
      "metadata": {
        "colab": {
          "base_uri": "https://localhost:8080/"
        },
        "id": "qqXD7XaLWZ-j",
        "outputId": "c1106534-e359-4927-e036-a7f135303cc9"
      },
      "source": [
        "my_list = [1, 2, 4, 8, 16, 32, 64]\r\n",
        "i = 0\r\n",
        "while i < len(my_list):\r\n",
        "  print(my_list[i])\r\n",
        "  i += 1"
      ],
      "execution_count": null,
      "outputs": [
        {
          "output_type": "stream",
          "text": [
            "1\n",
            "2\n",
            "4\n",
            "8\n",
            "16\n",
            "32\n",
            "64\n"
          ],
          "name": "stdout"
        }
      ]
    },
    {
      "cell_type": "markdown",
      "metadata": {
        "id": "QsmoYaYIZfG9"
      },
      "source": [
        "An alternative approach is to append a sentinel value signifying the end of the list. For example, Python provides the null value `None`:"
      ]
    },
    {
      "cell_type": "code",
      "metadata": {
        "id": "dGmQRHNIZr0E"
      },
      "source": [
        "my_list.append(None)\r\n",
        "i = 0\r\n",
        "while my_list[i] is not None:\r\n",
        "  print(my_list[i])\r\n",
        "  i += 1"
      ],
      "execution_count": null,
      "outputs": []
    },
    {
      "cell_type": "markdown",
      "metadata": {
        "id": "LgwD-UfAaUYe"
      },
      "source": [
        "Why is this useful? In the former, note that we use `len` to easily obtain the length of the list. In low-level languages like C, a list is represented only by the memory address of the first element &ndash; there is absolutely no other information available! Therefore, your two options are to maintain and pass a separate length variable around with the list, or to use a sentinel value marking the end of the list.\r\n",
        "\r\n",
        "Disadvantages of the former are that it is cumbersome to maintain and pass around a size with the list at all times (but it is also useful information to have). A major disadvantage of the latter is the *semipredicate problem*, in which the sentinel value must be distinct from any valid values in the list. In the example above, we have assumed that `None` is not a valid value to appear in the list, but this is merely context-dependent. This is why in the general case in something like C, passing a size variable is more standard.\r\n",
        "\r\n",
        "The most well-known example of the sentinel approach in something like C is in a string, which is simply a list of characters (try this in Python by indexing and slicing a string just like a list). Each character is a 1-byte ASCII value. In ASCII, the value 0 represents a null character, so C-style strings have the ability to terminate with 0 as a sentinel, as opposed to an explicit size. This is known as a *null-terminated string*. As a higher-level language, Python strings are objects which contain accessible size data just like its lists etc.\r\n",
        "\r\n",
        "Let's assume we are in a situation of using linear search (perhaps a low-level environment where we can neither assume a list is sorted nor sort it ourselves). Iterating using an index variable looks like"
      ]
    },
    {
      "cell_type": "code",
      "metadata": {
        "id": "w2cEv2GHdnaw"
      },
      "source": [
        "def linear_search_index(array, value):\r\n",
        "  i = 0\r\n",
        "  while i < len(array):\r\n",
        "    if array[i] == value:\r\n",
        "      return True\r\n",
        "    else:\r\n",
        "      i += 1\r\n",
        "  \r\n",
        "  return False"
      ],
      "execution_count": null,
      "outputs": []
    },
    {
      "cell_type": "markdown",
      "metadata": {
        "id": "lXFYQTtBd7Ws"
      },
      "source": [
        "Each iteration, two comparisons are actually performed: testing if `i` is less than $n$ and testing if `array[i]` is equal to `value`. If we for now assume that `None` is a valid sentinel (i.e. cannot otherwise appear in `array`) an equivalent approach would be:"
      ]
    },
    {
      "cell_type": "code",
      "metadata": {
        "id": "w1PVqGEZeTED"
      },
      "source": [
        "def linear_search_sentinel(array, value):\r\n",
        "  array.append(None)\r\n",
        "  i = 0\r\n",
        "  while array[i] is not None:\r\n",
        "    if array[i] == value:\r\n",
        "      return True\r\n",
        "    else:\r\n",
        "      i += 1\r\n",
        "  \r\n",
        "  return False"
      ],
      "execution_count": null,
      "outputs": []
    },
    {
      "cell_type": "markdown",
      "metadata": {
        "id": "JWP5EXezelFC"
      },
      "source": [
        "Two comparisons are still performed each iteration. We can improve this and solve the semipredicate problem in one fell swoop by appending the value to search for itself as the sentinel. Then, the question becomes: was the value found before its copy at the end?"
      ]
    },
    {
      "cell_type": "code",
      "metadata": {
        "id": "yOixXy2PgOE-"
      },
      "source": [
        "def linear_search_sentinel(array, value):\r\n",
        "  array.append(value)\r\n",
        "  i = 0\r\n",
        "  while array[i] != value:\r\n",
        "    i += 1\r\n",
        "  \r\n",
        "  return i < len(array) - 1"
      ],
      "execution_count": null,
      "outputs": []
    },
    {
      "cell_type": "markdown",
      "metadata": {
        "id": "EQ6rgufPh1Qg"
      },
      "source": [
        "As the sentinel value guarantees terminaton of the loop without needing to continually check the bounds of the index, there is now only one comparison per iteration as opposed to two (with just one extra one at the end of the function) &ndash; the number of comparisons in this linear search has roughly halved, which can provide a marked performance increase for large lists.\r\n",
        "\r\n",
        "The issue with this approach is that it assumes the input array is mutable, but we usually don't expect a search function to change our list at its leisure. To generalise better, it would instead have to make its own copy of the list:"
      ]
    },
    {
      "cell_type": "code",
      "metadata": {
        "id": "OF7wr60dinsh"
      },
      "source": [
        "def linear_search_sentinel(array, value):\r\n",
        "  sentinel_array = array.copy() + [value]\r\n",
        "  i = 0\r\n",
        "  while array[i] != value:\r\n",
        "    i += 1\r\n",
        "  \r\n",
        "  return i < len(array) - 1"
      ],
      "execution_count": null,
      "outputs": []
    },
    {
      "cell_type": "markdown",
      "metadata": {
        "id": "jog3N8s-iw6t"
      },
      "source": [
        "Naturally, making a copy of a large list would rapidly defeat the performance benefits of the sentinel-aided search. Even if it is allowable to append a value to the list, it assumes that there is extra memory readily available to do so, which may not be the case in the low-level environment we would need to be in to be considering this optimisation in the first place. An alternative to this issue might be to temporarily *replace* the last value with the sentinel and explictly check the last value outside of the loop. Clearly, this is an esoteric optimisation in a rarely-encountered situation, but principles like this are interesting nonetheless and might transfer to different situations in surprising ways."
      ]
    }
  ]
}