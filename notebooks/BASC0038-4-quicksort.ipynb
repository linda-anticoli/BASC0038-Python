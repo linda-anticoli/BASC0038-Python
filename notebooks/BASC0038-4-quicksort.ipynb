{
  "nbformat": 4,
  "nbformat_minor": 0,
  "metadata": {
    "colab": {
      "name": "BASC0038-4-quicksort.ipynb",
      "provenance": [],
      "collapsed_sections": [],
      "toc_visible": true
    },
    "kernelspec": {
      "name": "python3",
      "display_name": "Python 3"
    }
  },
  "cells": [
    {
      "cell_type": "markdown",
      "metadata": {
        "id": "CsiCEQKuFtOB"
      },
      "source": [
        "BASC0038 Algorithms, Logic and Structure\r\n",
        "\r\n",
        "# Week 4: Quicksort\r\n",
        "\r\n",
        "Author: Sam J. Griffiths (sam.griffiths.19@ucl.ac.uk)\r\n",
        "\r\n",
        "---"
      ]
    },
    {
      "cell_type": "markdown",
      "metadata": {
        "id": "BDruB5DBBaAV"
      },
      "source": [
        "# Sorting by partitioning\r\n",
        "\r\n",
        "In the previous worksheet, we explored how the general principle of *divide-and-conquer* can be used to solve problems more easily, and hence how lower complexity classes can be achieved by applying this idea recursively. The *mergesort* algorithm took a related linear-time task &ndash; merging two sorted lists &ndash; to create a linearithmic-time sort.\r\n",
        "\r\n",
        "Let us look at another related linear-time task: partitioning a list. Specifically, the task is to split a list into two sublists according to a value referred to as a *pivot*, where one sublist contains all the elements less than the pivot and the other contains all the elements greater than it (equal values will go into either according to convention).\r\n",
        "\r\n",
        "Assume that the pivot is itself one of the elements in the list. Assuming no prior ordering in the list, it should be easy to see that this is a linear-time task. Every other element in the list is compared against the pivot, so the total number of comparisons performed is $T(n)=n-1=O(n)$.\r\n",
        "\r\n",
        "*Quicksort* is a sorting algorithm which chooses a value in the list as the pivot and partitions the list into the elements less than and greater than the pivot. With the pivot placed between these resultant sublists, it is now in its final sorted position. Quicksort is then applied recursively to both sublists.\r\n",
        "\r\n",
        "In the previous worksheets, exercises have involved implementing sorting functions which craft and return a sorted copy of the input array. A version of quicksort (where the last element in a list is always chosen as the pivot) matching this format would be:"
      ]
    },
    {
      "cell_type": "code",
      "metadata": {
        "id": "YvRggqPUTp6b"
      },
      "source": [
        "def quicksort_recursive(array):\r\n",
        "  # Base case for empty or singular list\r\n",
        "  n = len(array)\r\n",
        "  if n < 2:\r\n",
        "    return array.copy()\r\n",
        "\r\n",
        "  # Recursive case pivots on last element\r\n",
        "  lower = []\r\n",
        "  upper = []\r\n",
        "  for value in array[:-1]:\r\n",
        "    if value < array[-1]:\r\n",
        "      lower.append(value)\r\n",
        "    else:\r\n",
        "      upper.append(value)\r\n",
        "\r\n",
        "  return quicksort_recursive(lower) + [array[-1]] + quicksort_recursive(upper)"
      ],
      "execution_count": null,
      "outputs": []
    },
    {
      "cell_type": "code",
      "metadata": {
        "id": "T5tiEkE8TzY-"
      },
      "source": [
        "data = [48, 38, 28, 14, 38, 56, 49, 30, 39, 0, 5, 4, 31, 88, 83, 32, 52, 42,\r\n",
        "        83, -2, 69, 95, 75, 52, 21, 23, 53, 42, 6]\r\n",
        "sorted_data = quicksort_recursive(data)\r\n",
        "print(sorted_data)"
      ],
      "execution_count": null,
      "outputs": []
    },
    {
      "cell_type": "markdown",
      "metadata": {
        "id": "Nl_eoM_YH5E_"
      },
      "source": [
        "# Complexity analysis"
      ]
    },
    {
      "cell_type": "markdown",
      "metadata": {
        "id": "CwbxDp_u6GqK"
      },
      "source": [
        "## Worst case\r\n",
        "\r\n",
        "To quicksort a list of size $n$, we first partition by selecting one element as the pivot and comparing every other element to it, thus requiring $n-1$ comparisons. The worst case is the pivot being less than or greater than every other element, thus yielding just one partition of size $n-1$, upon which quicksort is then recursively performed. This gives a complexity analysis identical to the worst case of selection sort and insertion sort:\r\n",
        "\r\n",
        "\\begin{align}\r\n",
        "T(n) &= n-1 + T(n-1) \\\\\r\n",
        "&= n-1 + n-1-1 + T(n-2) \\\\\r\n",
        "&= n-1 + n-1-1 + n-2-1 + T(n-3) \\\\\r\n",
        "&\\;\\;\\vdots \\\\\r\n",
        "&= kn - (1+2+3+\\dots+k) + T(n-k)\r\n",
        "\\end{align}\r\n",
        "\r\n",
        "Note that $(1+2+3+\\dots+k)$ is an arithmetic series (specifically, the $k$th triangular number) with sum $k(k+1)/2$:\r\n",
        "\r\n",
        "\\begin{align}\r\n",
        "T(n) = kn - \\frac{k(k+1)}{2} + T(n-k)\r\n",
        "\\end{align}\r\n",
        "\r\n",
        "The base case is a set of size 1:\r\n",
        "\r\n",
        "\\begin{align}\r\n",
        "n-k &= 1 \\\\\r\n",
        "\\implies \\quad k &= n-1\r\n",
        "\\end{align}\r\n",
        "\r\n",
        "Substituting this back in gives\r\n",
        "\r\n",
        "\\begin{align}\r\n",
        "T(n) &= n(n-1) - \\frac{n(n-1)}{2} + T(1) \\\\\r\n",
        "&= \\frac{n(n-1)}{2} + T(1)\r\n",
        "\\end{align}\r\n",
        "\r\n",
        "A set of size 1 requires 0 comparisons to sort, so $T(1)=0$:\r\n",
        "\r\n",
        "\\begin{align}\r\n",
        "T(n) &= \\frac{1}{2}n^2 - \\frac{1}{2}n \\\\\r\n",
        "\\therefore \\quad T(n) &= O(n^2)\r\n",
        "\\end{align}"
      ]
    },
    {
      "cell_type": "markdown",
      "metadata": {
        "id": "OkV8ZFDJaXqr"
      },
      "source": [
        "## Best case\r\n",
        "\r\n",
        "The best case in quicksort is the pivot selected being the median of all elements, partitioning the list into two halves upon which quicksort is then recursively performed:\r\n",
        "\r\n",
        "\\begin{align}\r\n",
        "T(n) = n-1 + T{\\left( \\left\\lfloor{\\frac{n-1}{2}}\\right\\rfloor \\right)} + T{\\left( \\left\\lceil{\\frac{n-1}{2}}\\right\\rceil \\right)}\r\n",
        "\\end{align}\r\n",
        "\r\n",
        "By our intuition so far, this recurrence relation solves to $O(n\\log{n})$ and at this stage is left as an exercise."
      ]
    },
    {
      "cell_type": "markdown",
      "metadata": {
        "id": "Q75YpkJHVdZf"
      },
      "source": [
        "# ✍️ Exercise: In-place partitioning\r\n",
        "\r\n",
        "Hereinbefore a functional-style quicksort implementation is given; that is, one which takes an immutable list and returns a new, sorted list. If you are working in an imperative programming paradigm as opposed to functional (hint: for the most part, you're likely to be), directly sorting a provided list in-place is usually more useful.\r\n",
        "\r\n",
        "Implement a partitioning function as `partition(array, low, high, pivot)`. This function should rearrange the given `array` such that it contains all of its values less than the value at `pivot`, followed by the value at `pivot`, followed by all valus greater than or equal to the value at `pivot`. The parameters `low` and `high` control the range affected, such that is is possible to partition any sublist within `array` alone. For example, partitioning an entire list using the last element as the pivot would be done be `partition(array, 0, len(array)-1, len(array)-1)`.\r\n",
        "\r\n",
        "The function should also return the new index of the pivot value in the final rearranged list.\r\n",
        "\r\n",
        "Hint: as we are implementing this solution in-place, this exercise matches that given in the lectures for quicksort, aside from the fact we are not currently assuming that `pivot` is `n-1`!"
      ]
    },
    {
      "cell_type": "markdown",
      "metadata": {
        "id": "Evq-t1KhbW3S"
      },
      "source": [
        "<h2>👇</h2>"
      ]
    },
    {
      "cell_type": "code",
      "metadata": {
        "id": "-Q-iI3WhXJfJ"
      },
      "source": [
        "def partition(array, low, high, pivot):\r\n",
        "  \"\"\"Reorder elements in a list range such that a pivot separates them.\r\n",
        "\r\n",
        "  Args:\r\n",
        "    array: List of values to reorder.\r\n",
        "    low: Index representing start of range.\r\n",
        "    high: Index representing end of range.\r\n",
        "    pivot: Index of pivot value.\r\n",
        "\r\n",
        "  Returns:\r\n",
        "    New index of the given pivot value.\r\n",
        "\r\n",
        "  \"\"\"\r\n",
        "  pass  # Replace this!"
      ],
      "execution_count": null,
      "outputs": []
    },
    {
      "cell_type": "markdown",
      "metadata": {
        "id": "6hBuElVZbYu-"
      },
      "source": [
        "🟢"
      ]
    },
    {
      "cell_type": "code",
      "metadata": {
        "id": "uqVRp60rXXUC"
      },
      "source": [
        "# Output should be:\r\n",
        "# [0, 5, 4, -2, 6, 56, 49, 30, 39, 48, 38, 28, 31, 88, 83, 32, 52, 42, 83, 14,\r\n",
        "# 69, 95, 75, 52, 21, 23, 53, 42, 38]\r\n",
        "# 4\r\n",
        "\r\n",
        "data = [48, 38, 28, 14, 38, 56, 49, 30, 39, 0, 5, 4, 31, 88, 83, 32, 52, 42,\r\n",
        "        83, -2, 69, 95, 75, 52, 21, 23, 53, 42, 6]\r\n",
        "n = len(data)\r\n",
        "p = partition(data, 0, n - 1, n - 1)\r\n",
        "print(data)\r\n",
        "print(p)"
      ],
      "execution_count": null,
      "outputs": []
    },
    {
      "cell_type": "markdown",
      "metadata": {
        "id": "Th8fQtZPby_b"
      },
      "source": [
        "# ✍️ Exercise: In-place quicksort\r\n",
        "\r\n",
        "Use the above implementation of `partition` to implement quicksort as `quicksort_naive(array)`, which sorts the given `array` in-place and does not need to return any value.\r\n",
        "\r\n",
        "The last element should always be used as a pivot.\r\n",
        "\r\n",
        "In the below code skeleton, an inner function which recurses is defined in order to abstract `low` and `high` away from the user interface.\r\n",
        "\r\n"
      ]
    },
    {
      "cell_type": "markdown",
      "metadata": {
        "id": "wV9FDFppeIv2"
      },
      "source": [
        "<h2>👇</h2>"
      ]
    },
    {
      "cell_type": "code",
      "metadata": {
        "id": "EfFTdx2Cc3oN"
      },
      "source": [
        "def quicksort_naive(array):\r\n",
        "  \"\"\"Sort a list in-place via quicksort.\r\n",
        "\r\n",
        "  The last element is always used as the pivot.\r\n",
        "\r\n",
        "  Args:\r\n",
        "    array: Unsorted list.\r\n",
        "\r\n",
        "  \"\"\"\r\n",
        "  def qsort(array, low, high):\r\n",
        "    pass  # Replace this!\r\n",
        "\r\n",
        "  qsort(array, 0, len(array) - 1)"
      ],
      "execution_count": null,
      "outputs": []
    },
    {
      "cell_type": "markdown",
      "metadata": {
        "id": "Ln_6hWiNeKJ4"
      },
      "source": [
        "🟢"
      ]
    },
    {
      "cell_type": "code",
      "metadata": {
        "id": "mEJVXIzqdAzh"
      },
      "source": [
        "# Output should be:\r\n",
        "# [-2, 0, 4, 5, 6, 14, 21, 23, 28, 30, 31, 32, 38, 38, 39, 42, 42, 48, 49, 52,\r\n",
        "# 52, 53, 56, 69, 75, 83, 83, 88, 95]\r\n",
        "\r\n",
        "data = [48, 38, 28, 14, 38, 56, 49, 30, 39, 0, 5, 4, 31, 88, 83, 32, 52, 42,\r\n",
        "        83, -2, 69, 95, 75, 52, 21, 23, 53, 42, 6]\r\n",
        "quicksort_naive(data)\r\n",
        "print(data)"
      ],
      "execution_count": null,
      "outputs": []
    },
    {
      "cell_type": "markdown",
      "metadata": {
        "id": "_6TuOukreK-7"
      },
      "source": [
        "# ✍️ Exercise: Space optimisation\r\n",
        "\r\n",
        "As always, it's time to perform some timing experiments. However, if you were to use your quicksort as it stands, you'll notice the inherent issue with recursive implementations discussed previously: stack overflow, even for modest input sizes.\r\n",
        "\r\n",
        "Quicksort's recursion is more complicated than things like binary search and mergesort. Consequently, an 'iterative' version would be to manually emulate the call stack with an explicit stack data structure. This is out of scope for this worksheet.\r\n",
        "\r\n",
        "Instead, we will point the finger at a more fundamental problem: space complexity. Here, the main component of space usage is the function call stack itself. In the best case (i.e. where the recursion constitues a balanced binary tree) the call stack reaches a depth of $O(\\log{n})$. However, in the worst case (i.e. where only one non-zero partition is formed and pivots are thus finalised one-by-one), the call stack reaches $O(n)$. Linear stack usage explains the occurrence of stack overflow for even modest worst-case problem instances.\r\n",
        "\r\n",
        "An alteration to the algorithm can bound the stack usage to $O(\\log{n})$ even in the worst case, however. Instead of recursing on both sublists after partitioning, we recurse on the *smaller sublist only*, and instead manually update the `low`/`high` arguments to loop onto the larger sublist.\r\n",
        "\r\n",
        "Implement this space-optimised version as `quicksort`. Hint: the conditional on `low` and `high` should be changed into a loop and the smaller of two sublists determined."
      ]
    },
    {
      "cell_type": "code",
      "metadata": {
        "id": "D5Qm17VrklvQ"
      },
      "source": [
        "def quicksort(array):\r\n",
        "  \"\"\"Sort a list in-place via quicksort.\r\n",
        "\r\n",
        "  The last element is always used as the pivot.\r\n",
        "\r\n",
        "  Args:\r\n",
        "    array: Unsorted list.\r\n",
        "\r\n",
        "  \"\"\"\r\n",
        "  def qsort(array, low, high):\r\n",
        "    pass  # Replace this!\r\n",
        "\r\n",
        "  qsort(array, 0, len(array) - 1)"
      ],
      "execution_count": null,
      "outputs": []
    },
    {
      "cell_type": "markdown",
      "metadata": {
        "id": "H0Hg2FBvvEu-"
      },
      "source": [
        "# ✍️ Exercise: Timing experiments"
      ]
    },
    {
      "cell_type": "markdown",
      "metadata": {
        "id": "lJmBm7iTvIYm"
      },
      "source": [
        "Using that which you've learned from previous worksheets, perform worst-case and average-case timing experiments on `quicksort`.\r\n",
        "\r\n",
        "First, perform a worst-case experiment with problem sizes $n \\in \\{100,200,300,\\dots,1200\\}$. Don't forget that this quicksort implementation sorts in-place, so you must call it on a new copy of the test data to avoid affecting subsequent runs like `quicksort(array.copy())` instead of merely `quicksort(array)`."
      ]
    },
    {
      "cell_type": "code",
      "metadata": {
        "id": "-HR6Oc89vm-3"
      },
      "source": [
        "# Experiment goes here!"
      ],
      "execution_count": null,
      "outputs": []
    },
    {
      "cell_type": "markdown",
      "metadata": {
        "id": "G_BJDWO-xOoS"
      },
      "source": [
        "You should observe a relatively smooth quadratic curve representing quicksort's $O(n^2)$ worst-case complexity.\r\n",
        "\r\n",
        "Next, perform an average-case experiment with randomly generated lists of the same problem sizes as before. This time, also compare it against mergesort from the previous worksheet."
      ]
    },
    {
      "cell_type": "code",
      "metadata": {
        "id": "59C_NDDkyGW1"
      },
      "source": [
        "# Experiment goes here!\r\n",
        "# Don't forget to include your implementation of merge and mergesort."
      ],
      "execution_count": null,
      "outputs": []
    },
    {
      "cell_type": "markdown",
      "metadata": {
        "id": "iFKqQsT8xyhE"
      },
      "source": [
        "You should see a linearithmic curve (looking rather like a straight line) representing quicksort's $O(n\\log{n})$ average-case complexity. You should also see that despite quicksort and mergesort both running in $O(n\\log{n})$, quicksort consistently outperforms mergesort."
      ]
    },
    {
      "cell_type": "markdown",
      "metadata": {
        "id": "qFhKllvYz9lQ"
      },
      "source": [
        "# ➕ Extra: Choice of pivot\r\n",
        "\r\n",
        "We have seen that quicksort outperforms mergesort in the average case. However, quicksort's quadratic worst-case complexity is a significant issue. Luckily, it is relatively easy to avoid the worst case by a more intelligent choice of pivot.\r\n",
        "\r\n",
        "Note that the worst case occurs when the input array is already sorted, if quicksort always uses the last (or equivalently first) element as the pivot. The input already begin sorted or nearly-sorted is not uncommon, so this is particularly unfortunate. Understand and try implementing as a variation of your above code the following possible fixes:\r\n",
        "\r\n",
        "*   ***Middle***: Pick the middle index as the pivot. This turns an already-sorted input from the worst case into the best case.\r\n",
        "*   ***Randomised quicksort***: Randomly select any index as the pivot each time.\r\n",
        "*   ***Median-of-three***: Look at the first, middle and last elements in the list, and select their median as the pivot.\r\n",
        "*   ***Psuedomedian-of-nine***: Divide the list into thirds and take the median-of-three of each third. Then, take the median of those three medians ans select it as the pivot."
      ]
    }
  ]
}