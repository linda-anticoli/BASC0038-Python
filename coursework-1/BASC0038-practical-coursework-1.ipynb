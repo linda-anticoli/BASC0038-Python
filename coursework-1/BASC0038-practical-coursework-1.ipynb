{
  "nbformat": 4,
  "nbformat_minor": 0,
  "metadata": {
    "colab": {
      "name": "BASC0038-practical-coursework-1.ipynb",
      "provenance": [],
      "collapsed_sections": [],
      "toc_visible": true
    },
    "kernelspec": {
      "name": "python3",
      "display_name": "Python 3"
    }
  },
  "cells": [
    {
      "cell_type": "markdown",
      "metadata": {
        "id": "V6L6ZfUmBBqy"
      },
      "source": [
        "BASC0038 Algorithms, Logic and Structure\r\n",
        "\r\n",
        "# Practical Coursework 1: Algorithms in Python\r\n",
        "\r\n",
        "Author: Sam J. Griffiths (sam.griffiths.19@ucl.ac.uk)\r\n",
        "\r\n",
        "---"
      ]
    },
    {
      "cell_type": "markdown",
      "metadata": {
        "id": "DBI13cXFBxrq"
      },
      "source": [
        "# Instructions\r\n",
        "\r\n",
        "Each exercise will ask you to come up with implementations as per some specifications. Unlike in the weekly worksheets, test runners are not provided for you, so naturally you should make sure your code is working in whatever way you think best! Remember to think and test about edge cases in particular, as marks could be deducted for fault-intolerant code.\r\n",
        "\r\n",
        "Use this Jupyter Notebook however you wish, adding code cells for different functions/tests, text cells for your own comments etc. If you are familiar with Python or different programming environments, feel free to use whatever you wish instead of this notebook. Please follow the following submission instructions carefully:\r\n",
        "\r\n",
        "*   Place your final implementations in a file named **algorithms.py**. You do not need to include any auxiliary test code etc. you have used in this file, but don't forget to include any additional functions you've defined as part of your solutions (as it's often good practice to break up a complex solution into smaller subroutines).\r\n",
        "*   Rename this file **sandbox.ipynb**. This will not be directly marked, but should be included in the spirit of 'showing your working'. You can get full marks just from your **algorithms.py**, but if there are mistakes/bugs, extra marks can still be awarded if there is evidence of attempts at testing etc. If you chose to use a different environment to this notebook, feel free to instead submit a **sandbox.py**.\r\n",
        "*   Zip both of these files into **CandidateCode-BASC0038-PracticalCoursework1.zip** to submit.\r\n",
        "\r\n",
        "If you are working in this notebook and copying your finished code into  a .py file at the end, in order to make sure the file works as intended you may wish to quickly upload and run the file at somewhere like https://www.onlinegdb.com/online_python_debugger.\r\n",
        "\r\n",
        "Marks will be deducted for:\r\n",
        "\r\n",
        "*   Bugs in code.\r\n",
        "*   Code which does not run properly out of the box, syntax errors etc.\r\n",
        "*   Valid but very badly-formatted, unreadable code.\r\n",
        "*   Code without docstrings, or worse, code without any good comments at all.\r\n",
        "\r\n",
        "Even if you cannot fully complete an exercise, include what you can!"
      ]
    },
    {
      "cell_type": "markdown",
      "metadata": {
        "id": "eR38OljXj0N8"
      },
      "source": [
        "# 1) Python fundamentals"
      ]
    },
    {
      "cell_type": "markdown",
      "metadata": {
        "id": "5SHizN8Ll1AT"
      },
      "source": [
        "Define a function `labelled_primes` which takes two parameters: `n` and `label`. The function should return a list of integers `0` to `n-1`, except all prime numbers are instead replaced by the given `label`."
      ]
    },
    {
      "cell_type": "code",
      "metadata": {
        "id": "qPb2GpPyOrdO"
      },
      "source": [
        ""
      ],
      "execution_count": null,
      "outputs": []
    },
    {
      "cell_type": "markdown",
      "metadata": {
        "id": "vA8UNPP5P2FR"
      },
      "source": [
        "# 2) 'Folding' sort"
      ]
    },
    {
      "cell_type": "markdown",
      "metadata": {
        "id": "u5JQJ643P6TD"
      },
      "source": [
        "Insertion sort is a simple yet powerful sorting algorithm which runs in $O(n^2)$ time in the worst and average cases and $O(n)$ in the best case. In other words, insertion sort works best for nearly-sorted lists.\r\n",
        "\r\n",
        "**Firstly**, define a function `insertion_sort` which takes three parameters: `lst`, `start` and `end`. `lst` is a list to be sorted. The function should not return anything, but should sort the list in-place. Only the range specified by `start` (inclusive) and `end` (exclusive) should be sorted, such that sorting an entire `lst` would be equivalent to `start=0` and `end=len(lst)`.\r\n",
        "\r\n",
        "**Secondly**, define a function `folding_sort`, which takes one parameter: `lst`, a list to be sorted. The folding sort algorithm should insertion-sort two halves of the list independently. Then, the list should be 'folded', that is, reordered to contain elements from each sorted half in an alternating fashion. Finally, the entire list should be insertion-sorted.\r\n",
        "\r\n",
        "(NB: Naturally, this seems redundant when using insertion sort at the end anyway. The idea is that, for uniformly random lists, rather than $O(n^2)$, instead $2\\cdot O((\\frac{n}{2})^2)$ is performed, followed by $O(n^2)$, except that for the final insertion sort, the list after folding the two halves together will be closer to nearly-sorted, so the final insertion sort would hopefully be closer to $O(n)$.)"
      ]
    },
    {
      "cell_type": "code",
      "metadata": {
        "id": "RlfTpkx3P6xD"
      },
      "source": [
        ""
      ],
      "execution_count": null,
      "outputs": []
    },
    {
      "cell_type": "markdown",
      "metadata": {
        "id": "3mSDlB4AuwKm"
      },
      "source": [
        "# 3) Introsort"
      ]
    },
    {
      "cell_type": "markdown",
      "metadata": {
        "id": "SK6MWRg3uyT9"
      },
      "source": [
        "We have seen that, in practice, simpler algorithms which may possess greater time complexity may nevertheless perform faster on small problem sizes than more sophisticated algoriths with greater overhead. Therefore, a powerful approach is to *hybridise* algorithms, such as a mergesort routine which delegates to insertion sort for sublists of size below some threshold (e.g. ~20) rather than recurse/iterate all the way down to a base case of 1.\r\n",
        "\r\n",
        "*Introspective sort*, or simply *introsort*, is a very popular hybrid sorting algorithm combining the best properties of three different algorithms.\r\n",
        "\r\n",
        "Define a function `introsort`, which takes one parameter: `lst`, a list to be sorted. The function should not return anything, but should sort the list in-place. The introsort algorithm is as follows:\r\n",
        "\r\n",
        "*   Begin by using *quicksort* on the list (for its strong average-case performance).\r\n",
        "*   Switch to *heapsort* on the list if the recursion depth of quicksort exceeds the threshold $2\\lfloor{\\log{n}}\\rfloor$, where $n$ is the number of elements in the list (to detect and avoid the quadratic-time worst-case of quicksort).\r\n",
        "*   Finally, switch to *insertion sort* when the number of elements left to be sorted is below 16.\r\n",
        "\r\n"
      ]
    },
    {
      "cell_type": "code",
      "metadata": {
        "id": "SevWVYIRx3yg"
      },
      "source": [
        ""
      ],
      "execution_count": null,
      "outputs": []
    }
  ]
}