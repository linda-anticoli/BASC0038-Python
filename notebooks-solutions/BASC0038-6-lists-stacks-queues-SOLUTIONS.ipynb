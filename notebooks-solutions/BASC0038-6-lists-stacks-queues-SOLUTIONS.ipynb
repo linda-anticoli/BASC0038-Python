{
  "nbformat": 4,
  "nbformat_minor": 0,
  "metadata": {
    "colab": {
      "name": "BASC0038-6-lists-stacks-queues-SOLUTIONS.ipynb",
      "provenance": [],
      "collapsed_sections": [],
      "toc_visible": true
    },
    "kernelspec": {
      "name": "python3",
      "display_name": "Python 3"
    }
  },
  "cells": [
    {
      "cell_type": "markdown",
      "metadata": {
        "id": "CsiCEQKuFtOB"
      },
      "source": [
        "BASC0038 Algorithms, Logic and Structure\r\n",
        "\r\n",
        "# Week 6: Lists, stacks and queues\r\n",
        "\r\n",
        "Author: Sam J. Griffiths (sam.griffiths.19@ucl.ac.uk)\r\n",
        "\r\n",
        "---"
      ]
    },
    {
      "cell_type": "markdown",
      "metadata": {
        "id": "TVMsg8dLwJmF"
      },
      "source": [
        "# Data structures and abstract data types (ADTs)\r\n",
        "\r\n",
        "So far, we have focused on the concept of an algorithm, which could concisely be described as a method to solve a problem. Now, we will move on to consider data structures, that is, how data is actually stored and manipulated. We will begin to appreciate that these complementary notions are effectively equivalent; for example, heapsort is simply equivalent to using a data structure known as a heap, and under the hood a heap uses what could accurately be described as algorithms to accomplish certain tasks, which are performed upon data laid out in memory in a certain way etc.\r\n",
        "\r\n",
        "Terminology in this area often becomes overloaded and contradictory. We will distinguish between *data structures* and *abstract data types* (ADTs), although such definitions are quite mutable. *Data structures* refer to how data is actually laid out and manipulated in memory, whereas *abstract data types* refer to conceptual collections (e.g. lists, stacks and queues) which can be implemented using often a variety of different data structures.\r\n",
        "\r\n",
        "To illustrate this, a heap can be implemented in a number of ways, such as the binary tree we used. A binary tree itself can be implemented in a number of ways, such as the array with parent-child index calculation we used."
      ]
    },
    {
      "cell_type": "markdown",
      "metadata": {
        "id": "jM5ncfmKyT7E"
      },
      "source": [
        "# Lists"
      ]
    },
    {
      "cell_type": "markdown",
      "metadata": {
        "id": "ljCUJUkbzZVM"
      },
      "source": [
        "## The list ADT\r\n",
        "Previously, we have used terms like *list* and *array* interchangeably. From here on in, a *list* refers to an abstract data type with certain properties. A list represents a linear collection of elements, with an start and an end, therefore possessing a length.\r\n",
        "\r\n",
        "Some things we should be able to do with a list include inserting and removing elements, as well as searching it to determine if it contains some given element. We can also expect to be able to determine the length of a list.\r\n",
        "\r\n",
        "There are a number of ways a list could be implemented in real terms. We will consider the two major approaches: *arrays* and *linked lists*."
      ]
    },
    {
      "cell_type": "markdown",
      "metadata": {
        "id": "3K709JgjzaN7"
      },
      "source": [
        "## Arrays\r\n",
        "\r\n",
        "Consider some type of elements we may want to store in a list, such as an integer. Let us assume our architecture lets us possess 32-bit (unsigned) integers; that is, 32 consecutive bits in memory understood to represent overall some value ranging from $0$ to $2^{32}=4294967296$.\r\n",
        "\r\n",
        "What if we would like to store a list of, say, five of these integers? The easiest approach would be to store these consecutively in memory. We could possess a pointer to the first element, and look 32 bits ahead in order to obtain the second element, and another 32 bits ahead to obtain the third element etc.\r\n",
        "\r\n",
        "A memory block of contiguous elements is known as an *array*, the most fundamental way of implementing a list. A key benefit of arrays is its efficiency of indexing; that is, obtaining the element at *any* given index can be done in $O(1)$ time. In the example of 32-bit integers, if you have a pointer in terms of bits to the first (`0`th) object, called `head`, a pointer to the `i`th object is simply `head + i*32`.\r\n",
        "\r\n",
        "A related benefit is its inherent space-efficiency; that is, all of the elements are stored in one place, as compactly as possible (without entering the topic of compression, of course). The downside to this is that inserting a new element is an $O(n)$ operation, because an array of length `n` must be moved into newly-allocated memory of size `n+1`.\r\n",
        "\r\n",
        "A *dynamic array* will move the array into more memory than is needed when inserting an element. For example, let's say we are inserting an element at the end of the list. A growth factor of 2 means that an array of length `n` is moved in $O(n)$ time into newly-allocated memory of size `2*n`, meaning that there are now `n-1` empty spaces at the end of the array, such that the next `n-1` end-insertions do not require reallocation and can thus be done in $O(1)$. By continually doubling the capacity of the array, the capacity grows exponentially, meaning that for arbitrarily large $n$, the probability of an end-insertion requiring $O(1)$ time asymptotically dominates the probability it requires $O(n)$. Therefore, we say the *amortised* time complexity of this operation is $O(1)$.\r\n",
        "\r\n",
        "However, inserting an element into any other position than the end is still $O(n)$, because all elements after that position must be shifted in order to make room. Removal from the end is trivially $O(1)$ even for a simple array, but likewise $O(n)$ for any other position for the same reasons as insertion.\r\n",
        "\r\n",
        "'Lists' in Python, i.e. structures of the form `x=[5,4,2,7]` we've used so far, are implemented as dynamic arrays."
      ]
    },
    {
      "cell_type": "markdown",
      "metadata": {
        "id": "0MoFdM4N5aGq"
      },
      "source": [
        "## Linked lists\r\n",
        "\r\n",
        "An alternative approach to storing elements contiguously in memory is to allow each one to be stored arbitrarily in memory, apart from each other. Each of these 'nodes' then stores not only the value, but a reference to the next node in memory. The final node can have an empty reference, signifiying it is currently the end of the list.\r\n",
        "\r\n",
        "Possessing a linked list then simply means possessing the first node, the *head*. A basic implementation in Python might look like:"
      ]
    },
    {
      "cell_type": "code",
      "metadata": {
        "colab": {
          "base_uri": "https://localhost:8080/"
        },
        "id": "eBnXY4qN68eK",
        "outputId": "7bd9a404-5eed-4fc8-c441-a3804607fe37"
      },
      "source": [
        "class SinglyLinkedNode:\r\n",
        "  value = None\r\n",
        "  next = None\r\n",
        "\r\n",
        "\r\n",
        "def linked_list_print(head):\r\n",
        "  \"\"\"Print all values in a linked list.\r\n",
        "\r\n",
        "  Args:\r\n",
        "    head: First node in linked list.\r\n",
        "\r\n",
        "  \"\"\"\r\n",
        "  node = head\r\n",
        "  while node is not None:\r\n",
        "    print(node.value, end=\" \")\r\n",
        "    node = node.next\r\n",
        "  print()\r\n",
        "\r\n",
        "\r\n",
        "node1 = SinglyLinkedNode()\r\n",
        "node1.value = 42\r\n",
        "\r\n",
        "node2 = SinglyLinkedNode()\r\n",
        "node2.value = 100\r\n",
        "node1.next = node2\r\n",
        "\r\n",
        "node3 = SinglyLinkedNode()\r\n",
        "node3.value = -24\r\n",
        "node2.next = node3\r\n",
        "\r\n",
        "linked_list_print(node1)"
      ],
      "execution_count": null,
      "outputs": [
        {
          "output_type": "stream",
          "text": [
            "42 100 -24 \n"
          ],
          "name": "stdout"
        }
      ]
    },
    {
      "cell_type": "markdown",
      "metadata": {
        "id": "CrjgjjQJ8306"
      },
      "source": [
        "Firstly, do not be too scared by the `class` syntax! The idea of this course is not software engineering, so we will not be going into something like object-oriented programming, but all you need to know is that a class is effectively just a custom type. Here, a `SinglyLinkedNode` just contains two attributes, as discussed: a `value` and a `next` reference. Both default to `None`.\r\n",
        "\r\n",
        "`node1 = SinglyLinkedNode()` creates a `SinglyLinkedNode` named `node1`. The value is then set to some integer. A second node is created and then added to the list by setting the `next` reference of the first node to it. For the final node, the default to `None` automatically makes it the last element in the list, unless changed.\r\n",
        "\r\n",
        "Secondly, `linked_list_print(head)` is a simple example of how to iterate over the entire linked list &ndash; it should look very similar to the list-search pseudocode from the lecture. The useage of the `print` function here separates each character with a space instead of line breaks, and then inserts a line break at the end.\r\n",
        "\r\n",
        "The above code can be also be improved slightly by providing a *method* to the class, that is, a function which belongs to it. All methods begin with a `self` parameter which refers to the current object itself &ndash; you'll notice that this parameter does not appear when actually calling the methods. A method called `__init__` is known as a *constructor* and allows for nicer syntax when creating objects:"
      ]
    },
    {
      "cell_type": "code",
      "metadata": {
        "id": "u55s6ZPM-J77"
      },
      "source": [
        "class SinglyLinkedNode:\r\n",
        "  \"\"\"Singly-linked list node.\r\n",
        "\r\n",
        "  Attributes:\r\n",
        "    value: Value stored in node.\r\n",
        "    next: Reference to next node, or None if tail node.\r\n",
        "\r\n",
        "  \"\"\"\r\n",
        "\r\n",
        "  def __init__(self, value=None, next=None):\r\n",
        "    \"\"\"Construct a SinglyLinkedNode.\r\n",
        "\r\n",
        "    Args:\r\n",
        "      value (optional): Value stored in node. Defaults to None.\r\n",
        "      next (optional): Reference to next node. Defaults to None.\r\n",
        "\r\n",
        "    \"\"\"\r\n",
        "    self.value = value\r\n",
        "    self.next = next"
      ],
      "execution_count": null,
      "outputs": []
    },
    {
      "cell_type": "code",
      "metadata": {
        "colab": {
          "base_uri": "https://localhost:8080/"
        },
        "id": "rPDQoH6Oy-Qx",
        "outputId": "9d621410-bb4f-453c-9c6e-a7a7ec4b4a29"
      },
      "source": [
        "# Same as last example\r\n",
        "node1 = SinglyLinkedNode(42)\r\n",
        "\r\n",
        "node2 = SinglyLinkedNode(100)\r\n",
        "node1.next = node2\r\n",
        "\r\n",
        "node3 = SinglyLinkedNode(-24)\r\n",
        "node2.next = node3\r\n",
        "\r\n",
        "linked_list_print(node1)"
      ],
      "execution_count": null,
      "outputs": [
        {
          "output_type": "stream",
          "text": [
            "42 100 -24 \n"
          ],
          "name": "stdout"
        }
      ]
    },
    {
      "cell_type": "code",
      "metadata": {
        "colab": {
          "base_uri": "https://localhost:8080/"
        },
        "id": "EUDKSlZ2-oFB",
        "outputId": "aa86e583-6654-41d7-a736-414b1976d475"
      },
      "source": [
        "# Showing off the constructors even better, in reverse\r\n",
        "node3 = SinglyLinkedNode(-24)\r\n",
        "node2 = SinglyLinkedNode(100, node3)\r\n",
        "node1 = SinglyLinkedNode(42, node2)\r\n",
        "\r\n",
        "linked_list_print(node1)"
      ],
      "execution_count": null,
      "outputs": [
        {
          "output_type": "stream",
          "text": [
            "42 100 -24 \n"
          ],
          "name": "stdout"
        }
      ]
    },
    {
      "cell_type": "markdown",
      "metadata": {
        "id": "GUaQPgb5_Njj"
      },
      "source": [
        "Don't worry too much about this object-oriented programming; it is just used here to make the syntax of `value,next` pairs nice and elegant. We could even go so far as to create a helper function to construct a list from an arbitrary number of values:"
      ]
    },
    {
      "cell_type": "code",
      "metadata": {
        "colab": {
          "base_uri": "https://localhost:8080/"
        },
        "id": "IeF5PUvZDKCM",
        "outputId": "fa097a7e-30e5-4162-aa06-b367db9815a8"
      },
      "source": [
        "def make_singly_linked_list(*args):\r\n",
        "  \"\"\"Make a singly-linked list containing the given arguments.\r\n",
        "\r\n",
        "  Returns:\r\n",
        "    SinglyLinkedNode: Head of linked list.\r\n",
        "\r\n",
        "  \"\"\"\r\n",
        "  # If no arguments are given, return None\r\n",
        "  if len(args) == 0:\r\n",
        "    return None\r\n",
        "\r\n",
        "  # If at least one argument is given, make a list\r\n",
        "  head = SinglyLinkedNode(args[0])\r\n",
        "  node = head\r\n",
        "  for arg in args[1:]:\r\n",
        "    node.next = SinglyLinkedNode(arg)\r\n",
        "    node = node.next\r\n",
        "\r\n",
        "  return head\r\n",
        "\r\n",
        "\r\n",
        "mylist = make_singly_linked_list(42, 100, -24)\r\n",
        "linked_list_print(mylist)"
      ],
      "execution_count": null,
      "outputs": [
        {
          "output_type": "stream",
          "text": [
            "42 100 -24 \n"
          ],
          "name": "stdout"
        }
      ]
    },
    {
      "cell_type": "markdown",
      "metadata": {
        "id": "5MKUeV8ZAVan"
      },
      "source": [
        "## ✍️ Exercise: Linked list operations\r\n",
        "\r\n",
        "Using the `SinglyLinkedNode` class provided above, implement some of the operations on linked lists as given in the lectures.\r\n",
        "\r\n",
        "First, implement `linked_list_search(head, value)`, which searches a linked list for the given `value`."
      ]
    },
    {
      "cell_type": "markdown",
      "metadata": {
        "id": "raD_sbiFEorx"
      },
      "source": [
        "<h2>👇</h2>"
      ]
    },
    {
      "cell_type": "code",
      "metadata": {
        "id": "NLILl02JDjhW"
      },
      "source": [
        "def linked_list_search(head, value):\r\n",
        "  \"\"\"Query if a value is in a linked list.\r\n",
        "\r\n",
        "  Args:\r\n",
        "    head: First node in linked list.\r\n",
        "    value: Value to query presence of.\r\n",
        "\r\n",
        "  Returns:\r\n",
        "    True if value is in list, False otherwise.\r\n",
        "\r\n",
        "  \"\"\"\r\n",
        "  node = head\r\n",
        "  while node is not None:\r\n",
        "    if node.value == value:\r\n",
        "      return True\r\n",
        "    else:\r\n",
        "      node = node.next\r\n",
        "\r\n",
        "  return False"
      ],
      "execution_count": null,
      "outputs": []
    },
    {
      "cell_type": "markdown",
      "metadata": {
        "id": "Fks54fXLErKE"
      },
      "source": [
        "🟢"
      ]
    },
    {
      "cell_type": "code",
      "metadata": {
        "colab": {
          "base_uri": "https://localhost:8080/"
        },
        "id": "7IuSBR-KD5nP",
        "outputId": "301e77ae-5d89-4f1d-9463-5ec3435b403a"
      },
      "source": [
        "# Output should be:\r\n",
        "# (True, True, True, False)\r\n",
        "\r\n",
        "mylist = make_singly_linked_list(0, 1, 4, 9, 16, 25, 36, 49, 64, 81, 110, 111)\r\n",
        "\r\n",
        "(linked_list_search(mylist, 36),\r\n",
        " linked_list_search(mylist, 0),\r\n",
        " linked_list_search(mylist, 111),\r\n",
        " linked_list_search(mylist, -2))"
      ],
      "execution_count": null,
      "outputs": [
        {
          "output_type": "execute_result",
          "data": {
            "text/plain": [
              "(True, True, True, False)"
            ]
          },
          "metadata": {
            "tags": []
          },
          "execution_count": 7
        }
      ]
    },
    {
      "cell_type": "markdown",
      "metadata": {
        "id": "vX_1nSeYINF_"
      },
      "source": [
        "Next, implement both `linked_list_insert_front(head, value)` and `linked_list_insert_back(head, value)` to insert a value at the start and end of a list, respectively.\r\n",
        "\r\n",
        "As we are so far holding a list simply by holding the head node, the functions must return the new head node we need to hold."
      ]
    },
    {
      "cell_type": "markdown",
      "metadata": {
        "id": "UHVBIc09Izna"
      },
      "source": [
        "<h2>👇</h2>"
      ]
    },
    {
      "cell_type": "code",
      "metadata": {
        "id": "1tJWvzR9I1ec"
      },
      "source": [
        "def linked_list_insert_front(head, value):\r\n",
        "  \"\"\"Insert a value at the front of a linked list.\r\n",
        "\r\n",
        "  Args:\r\n",
        "    head: First node in linked list.\r\n",
        "    value: Value to insert.\r\n",
        "\r\n",
        "  Returns:\r\n",
        "    SinglyLinkedNode: New head of list.\r\n",
        "\r\n",
        "  \"\"\"\r\n",
        "  return SinglyLinkedNode(value, head)\r\n",
        "\r\n",
        "\r\n",
        "def linked_list_insert_back(head, value):\r\n",
        "  \"\"\"Insert a value at the back of a linked list.\r\n",
        "\r\n",
        "  Args:\r\n",
        "    head: First node in linked list.\r\n",
        "    value: Value to insert.\r\n",
        "\r\n",
        "  \"\"\"\r\n",
        "  if head is None:\r\n",
        "    return SinglyLinkedNode(value, head)\r\n",
        "\r\n",
        "  node = head\r\n",
        "  while node.next is not None:\r\n",
        "    node = node.next\r\n",
        "  node.next = SinglyLinkedNode(value)\r\n",
        "\r\n",
        "  return head"
      ],
      "execution_count": null,
      "outputs": []
    },
    {
      "cell_type": "markdown",
      "metadata": {
        "id": "0_8pqBtxKkCe"
      },
      "source": [
        "🟢"
      ]
    },
    {
      "cell_type": "code",
      "metadata": {
        "colab": {
          "base_uri": "https://localhost:8080/"
        },
        "id": "0q0MX3A4I8yZ",
        "outputId": "d5aeb64f-80b0-43c5-8d63-1cf894972a2b"
      },
      "source": [
        "# Output should be:\r\n",
        "# 0 1 4 9 16 25 36 49 64 81 110 111 \r\n",
        "# -999 0 1 4 9 16 25 36 49 64 81 110 111 \r\n",
        "# -999 0 1 4 9 16 25 36 49 64 81 110 111 999 \r\n",
        "\r\n",
        "mylist = make_singly_linked_list(0, 1, 4, 9, 16, 25, 36, 49, 64, 81, 110, 111)\r\n",
        "linked_list_print(mylist)\r\n",
        "mylist = linked_list_insert_front(mylist, -999)\r\n",
        "linked_list_print(mylist)\r\n",
        "linked_list_insert_back(mylist, 999)\r\n",
        "linked_list_print(mylist)"
      ],
      "execution_count": null,
      "outputs": [
        {
          "output_type": "stream",
          "text": [
            "0 1 4 9 16 25 36 49 64 81 110 111 \n",
            "-999 0 1 4 9 16 25 36 49 64 81 110 111 \n",
            "-999 0 1 4 9 16 25 36 49 64 81 110 111 999 \n"
          ],
          "name": "stdout"
        }
      ]
    },
    {
      "cell_type": "markdown",
      "metadata": {
        "id": "0OjvBe14Kmi0"
      },
      "source": [
        "## Linked list class\r\n",
        "As mentioned, we are currently holding a list by holding the head node. The code below defines a singly-linked list class with a `head` field, mirroring the *L* and *L.head* notation in the lecture."
      ]
    },
    {
      "cell_type": "code",
      "metadata": {
        "id": "ovEV-gSaLMMu"
      },
      "source": [
        "class SinglyLinkedList:\r\n",
        "  \"\"\"Singly-linked list of values.\r\n",
        "\r\n",
        "  Attributes:\r\n",
        "    head: First node in linked list.\r\n",
        "\r\n",
        "  \"\"\"\r\n",
        "\r\n",
        "  def __init__(self, *args):\r\n",
        "    \"\"\"Construct a SinglyLinkedList containing the given arguments.\"\"\"\r\n",
        "    self.head = make_singly_linked_list(*args)\r\n",
        "\r\n",
        "  def __str__(self):\r\n",
        "    \"\"\"Provide string representation for print() etc.\r\n",
        "\r\n",
        "    Returns:\r\n",
        "      str: String representation.\r\n",
        "\r\n",
        "    \"\"\"\r\n",
        "    result = \"\"\r\n",
        "    node = self.head\r\n",
        "    while node is not None:\r\n",
        "      result += str(node.value) + \" \"\r\n",
        "      node = node.next\r\n",
        "    return result\r\n",
        "\r\n",
        "  def __len__(self):\r\n",
        "    \"\"\"Provide length of list for len() etc.\r\n",
        "\r\n",
        "    Returns:\r\n",
        "      int: Length of list.\r\n",
        "\r\n",
        "    \"\"\"\r\n",
        "    length = 0\r\n",
        "    node = self.head\r\n",
        "    while node is not None:\r\n",
        "      length += 1\r\n",
        "      node = node.next\r\n",
        "    return length\r\n",
        "\r\n",
        "  def __contains__(self, value):\r\n",
        "    \"\"\"Query if a value is in the list for 'in' etc.\r\n",
        "\r\n",
        "    Args:\r\n",
        "      value: Value to query presence of.\r\n",
        "\r\n",
        "    Returns:\r\n",
        "      bool: True if value is in list, False otherwise.\r\n",
        "\r\n",
        "    \"\"\"\r\n",
        "    return linked_list_search(self.head, value)\r\n",
        "\r\n",
        "  def front(self):\r\n",
        "    \"\"\"Return the value at the front of the list.\r\n",
        "\r\n",
        "    Returns:\r\n",
        "      First value in list.\r\n",
        "\r\n",
        "    \"\"\"\r\n",
        "    if self.head is None:\r\n",
        "      raise IndexError(\"front of empty list\")\r\n",
        "\r\n",
        "    return self.head.value\r\n",
        "\r\n",
        "  def back(self):\r\n",
        "    \"\"\"Return the value at the back of the list.\r\n",
        "\r\n",
        "    Returns:\r\n",
        "      Last value in list.\r\n",
        "\r\n",
        "    \"\"\"\r\n",
        "    if self.head is None:\r\n",
        "      raise IndexError(\"back of empty list\")\r\n",
        "\r\n",
        "    # Get last node -- tail reference would be quicker here!\r\n",
        "    node = self.head\r\n",
        "    while node.next is not None:\r\n",
        "      node = node.next\r\n",
        "\r\n",
        "    return node.value\r\n",
        "\r\n",
        "  def insert_front(self, value):\r\n",
        "    \"\"\"Insert a value at the front of the list.\r\n",
        "\r\n",
        "    Args:\r\n",
        "      value: Value to insert.\r\n",
        "\r\n",
        "    \"\"\"\r\n",
        "    self.head = linked_list_insert_front(self.head, value)\r\n",
        "\r\n",
        "  def insert_back(self, value):\r\n",
        "    \"\"\"Insert a value at the back of the list.\r\n",
        "\r\n",
        "    Args:\r\n",
        "      value: Value to insert.\r\n",
        "\r\n",
        "    \"\"\"\r\n",
        "    self.head = linked_list_insert_back(self.head, value)\r\n",
        "\r\n",
        "  def remove_front(self):\r\n",
        "    \"\"\"Remove the value at the front of the list.\"\"\"\r\n",
        "    if self.head is None:\r\n",
        "      raise IndexError(\"remove_front from empty list\")\r\n",
        "\r\n",
        "    self.head = self.head.next\r\n",
        "\r\n",
        "  def remove_back(self):\r\n",
        "    \"\"\"Remove the value at the back of the list.\"\"\"\r\n",
        "    if self.head is None:\r\n",
        "      raise IndexError(\"remove_back from empty list\")\r\n",
        "\r\n",
        "    if self.head.next is None:\r\n",
        "      self.head = None\r\n",
        "    else:\r\n",
        "      # Get penultimate node -- doubly-linked would be quicker here!\r\n",
        "      penultimate = self.head\r\n",
        "      while penultimate.next.next is not None:\r\n",
        "        penultimate = penultimate.next\r\n",
        "      penultimate.next = None"
      ],
      "execution_count": null,
      "outputs": []
    },
    {
      "cell_type": "code",
      "metadata": {
        "colab": {
          "base_uri": "https://localhost:8080/"
        },
        "id": "3L7b9QrfiJSx",
        "outputId": "15bd6cf6-c2b8-4c10-b8ff-543794adfd1f"
      },
      "source": [
        "mylist = SinglyLinkedList(0, 1, 4, 9, 16, 25, 36, 49, 64, 81, 110, 111)\r\n",
        "print(mylist)\r\n",
        "print(len(mylist))\r\n",
        "print((36 in mylist,\r\n",
        "       0 in mylist,\r\n",
        "       111 in mylist,\r\n",
        "       -2 in mylist))\r\n",
        "\r\n",
        "print(mylist.front())\r\n",
        "print(mylist.back())\r\n",
        "\r\n",
        "mylist.insert_front(-999)\r\n",
        "mylist.insert_back(999)\r\n",
        "print(mylist)\r\n",
        "\r\n",
        "mylist.remove_front()\r\n",
        "mylist.remove_back()\r\n",
        "print(mylist)"
      ],
      "execution_count": null,
      "outputs": [
        {
          "output_type": "stream",
          "text": [
            "0 1 4 9 16 25 36 49 64 81 110 111 \n",
            "12\n",
            "(True, True, True, False)\n",
            "0\n",
            "111\n",
            "-999 0 1 4 9 16 25 36 49 64 81 110 111 999 \n",
            "0 1 4 9 16 25 36 49 64 81 110 111 \n"
          ],
          "name": "stdout"
        }
      ]
    },
    {
      "cell_type": "markdown",
      "metadata": {
        "id": "6Ms9WQ4HiJ6N"
      },
      "source": [
        "Some things to note are:\r\n",
        "\r\n",
        "*   The functions you've implemented above are used to power a lot of this class!\r\n",
        "*   The `__str__` function enables string representation for class, allowing it to be seamlessly `print`ed. Likewise, `__len__` enables use of `len()` on the class, and `__contains__` enables use of the `in` clause to test for possession.\r\n",
        "*    `front` and `back` methods simply return the first and last values in the list. Similarly, `remove_front` and `remove_back` do exactly as they imply. Look at these functions and understand how they work, too. As suggested in comments, it should be clear how these functions would be improved by holding a `tail` pointer to the back of the list (in addition to `head`) and doubly-linking nodes such that they refer to the previous node as well as the next.\r\n",
        "*    If an attempt is made to obtain or remove from the front/back of an empty list, an *exception* (specifically, an IndexError) is *thrown* (or *raised*). You're probably used to seeing exceptions flung at you when trying to solve your exercises; this is an example of how these errors are raised when something bad happens.\r\n",
        "\r\n"
      ]
    },
    {
      "cell_type": "markdown",
      "metadata": {
        "id": "Hquq4lCnjx0n"
      },
      "source": [
        "# Stacks and queues\r\n",
        "\r\n",
        "We have looked at the general concept of a list ADT and seen an example of how a list can be implemented with a linked-list data structure.\r\n",
        "\r\n",
        "Two other common example of ADTs are *stacks* and *queues*. These are both representations of a collection of elements, both with specific contraints:\r\n",
        "\r\n",
        "*   Elements can be inserted ('pushed') into a stack. Elements can also be removed one-by-one ('popped') from a stack. Each element popped from the stack is the element most recently pushed onto it, i.e. it is *last-in, first-out* (LIFO). Imagine a stack of plates, where the most recent plate added to the top is the next one to be removed.\r\n",
        "*   Elements can be pushed into a queue and popped from a queue. Each element popped from the queue is the element earliest pushed onto it, i.e. it is *first-in, first-out* (FIFO). Imagine a queue of people waiting in line.\r\n",
        "\r\n",
        "A well-known use of a stack is the function call stack, where nested function calls resolve in reverse order. A queue is useful for things such as processing requests and jobs in the order they were received.\r\n",
        "\r\n",
        "Stacks and queues could be implemented with arrays or linked lists. As linked lists are more efficient than arrays at adding/removing elements to/from both the start and end, they are generally preferred for this specific purpose."
      ]
    },
    {
      "cell_type": "markdown",
      "metadata": {
        "id": "QUq76-DCn6cF"
      },
      "source": [
        "# ✍️ Exercise: Stack and queue classes\r\n",
        "\r\n",
        "Implement both a `Stack` and `Queue` class using the `SinglyLinkedList` class provided above. Each should simply hold a `SinglyLinkedList` attribute, set to an empty list in `__init__`. A `push` method inserts a value into the stack/queue, a `pop` method returns the next value from the stack/queue (removing it in the process) and an `empty` method returns whether or not the queue/stack is empty. "
      ]
    },
    {
      "cell_type": "markdown",
      "metadata": {
        "id": "oEcG0EP2xmBN"
      },
      "source": [
        "<h2>👇</h2>"
      ]
    },
    {
      "cell_type": "code",
      "metadata": {
        "id": "4bApqKyZn9ok"
      },
      "source": [
        "class Stack:\r\n",
        "  \"\"\"Stack of values in a last-in, first-out (LIFO) basis.\"\"\"\r\n",
        "\r\n",
        "  def __init__(self):\r\n",
        "    \"\"\"Construct an empty Stack.\"\"\"\r\n",
        "    self._data = SinglyLinkedList()\r\n",
        "\r\n",
        "  def push(self, value):\r\n",
        "    \"\"\"Insert a value onto the top of the stack.\r\n",
        "\r\n",
        "    Args:\r\n",
        "      value: Value to push.\r\n",
        "\r\n",
        "    \"\"\"\r\n",
        "    self._data.insert_front(value)\r\n",
        "\r\n",
        "  def pop(self):\r\n",
        "    \"\"\"Return and remove the value on the top of the stack.\r\n",
        "\r\n",
        "    Returns:\r\n",
        "      Value on top of stack.\r\n",
        "\r\n",
        "    \"\"\"\r\n",
        "    value = self._data.front()\r\n",
        "    self._data.remove_front()\r\n",
        "    return value\r\n",
        "\r\n",
        "  def empty(self):\r\n",
        "    \"\"\"Determine if the stack is empty, i.e. has no elements.\r\n",
        "\r\n",
        "    Returns:\r\n",
        "      True if stack is empty, False otherwise.\r\n",
        "\r\n",
        "    \"\"\"\r\n",
        "    return len(self._data) == 0\r\n",
        "\r\n",
        "\r\n",
        "class Queue:\r\n",
        "  \"\"\"Queue of values in a first-in, first-out (FIFO) basis.\"\"\"\r\n",
        "\r\n",
        "  def __init__(self):\r\n",
        "    \"\"\"Construct an empty Queue.\"\"\"\r\n",
        "    self._data = SinglyLinkedList()\r\n",
        "\r\n",
        "  def push(self, value):\r\n",
        "    \"\"\"Insert a value onto the back of the queue.\r\n",
        "\r\n",
        "    Args:\r\n",
        "      value: Value to push.\r\n",
        "\r\n",
        "    \"\"\"\r\n",
        "    self._data.insert_back(value)\r\n",
        "\r\n",
        "  def pop(self):\r\n",
        "    \"\"\"Return and remove the value on the front of the queue.\r\n",
        "\r\n",
        "    Returns:\r\n",
        "      Value on front of queue.\r\n",
        "\r\n",
        "    \"\"\"\r\n",
        "    value = self._data.front()\r\n",
        "    self._data.remove_front()\r\n",
        "    return value\r\n",
        "\r\n",
        "  def empty(self):\r\n",
        "    \"\"\"Determine if the queue is empty, i.e. has no elements.\r\n",
        "\r\n",
        "    Returns:\r\n",
        "      True if queue is empty, False otherwise.\r\n",
        "\r\n",
        "    \"\"\"\r\n",
        "    return len(self._data) == 0"
      ],
      "execution_count": null,
      "outputs": []
    },
    {
      "cell_type": "markdown",
      "metadata": {
        "id": "BiPbFlbLxqI3"
      },
      "source": [
        "🟢"
      ]
    },
    {
      "cell_type": "code",
      "metadata": {
        "colab": {
          "base_uri": "https://localhost:8080/"
        },
        "id": "R4kggcmvxY0l",
        "outputId": "be4a171e-7eb1-44cb-9b3d-f9728faf6d2f"
      },
      "source": [
        "stack = Stack()\r\n",
        "stack.push(\"first\")\r\n",
        "stack.push(\"second\")\r\n",
        "stack.push(\"third\")\r\n",
        "\r\n",
        "while not stack.empty():\r\n",
        "  print(stack.pop())"
      ],
      "execution_count": null,
      "outputs": [
        {
          "output_type": "stream",
          "text": [
            "third\n",
            "second\n",
            "first\n"
          ],
          "name": "stdout"
        }
      ]
    },
    {
      "cell_type": "code",
      "metadata": {
        "colab": {
          "base_uri": "https://localhost:8080/"
        },
        "id": "ZBsvs1S9uDGp",
        "outputId": "605aa009-d569-4910-d62d-0d6ec224d034"
      },
      "source": [
        "queue = Queue()\r\n",
        "queue.push(\"first\")\r\n",
        "queue.push(\"second\")\r\n",
        "queue.push(\"third\")\r\n",
        "\r\n",
        "while not queue.empty():\r\n",
        "  print(queue.pop())"
      ],
      "execution_count": null,
      "outputs": [
        {
          "output_type": "stream",
          "text": [
            "first\n",
            "second\n",
            "third\n"
          ],
          "name": "stdout"
        }
      ]
    }
  ]
}