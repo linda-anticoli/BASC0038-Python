{
  "nbformat": 4,
  "nbformat_minor": 0,
  "metadata": {
    "colab": {
      "name": "BASC0038-5-heapsort-SOLUTIONS.ipynb",
      "provenance": [],
      "collapsed_sections": [],
      "toc_visible": true
    },
    "kernelspec": {
      "name": "python3",
      "display_name": "Python 3"
    }
  },
  "cells": [
    {
      "cell_type": "markdown",
      "metadata": {
        "id": "CsiCEQKuFtOB"
      },
      "source": [
        "BASC0038 Algorithms, Logic and Structure\r\n",
        "\r\n",
        "# Week 5: Heapsort\r\n",
        "\r\n",
        "Author: Sam J. Griffiths (sam.griffiths.19@ucl.ac.uk)\r\n",
        "\r\n",
        "---"
      ]
    },
    {
      "cell_type": "markdown",
      "metadata": {
        "id": "BDruB5DBBaAV"
      },
      "source": [
        "# Sorting by selection\r\n",
        "\r\n",
        "We can categorise sorting algorithms by their overall strategy. For example, bubble sort (and its variations such as cocktail shaker sort, combsort etc.) can be categorised as sorting by exchange, as the fundamental technique is in repeatedly exchanging elements. Quicksort would also be classed as sorting by exchange for similar reasoning (hence why it sometimes referred to as *partition-exchange sort*).\r\n",
        "\r\n",
        "Insertion sort and variations such as shellsort can be classed as sorting by insertion. Mergesort and its variations can be classed as sorting by merging.\r\n",
        "\r\n",
        "Recall selection sort, so named as it sorts by selection: a sorted sublist is built up by selecting the next element in order one-by-one. In terms of complexity, there is $O(n)$ operations due to selecting elements one-by-one, and for each of those there is an extra $O(n)$ operations in order to determine the next element to select, as it simply compares all remaining elements, giving $O(n^2)$ overall.\r\n",
        "\r\n",
        "What if we could determine the largest/smallest of $n$ elements more efficiently than $O(n)$? Substituting this method into selection sort could then result in an overall compexity better than $O(n^2)$. As it happens, we can indeed perform selection more efficiently than $O(n)$; one way of doing this effectively is with a *heap* data structure."
      ]
    },
    {
      "cell_type": "markdown",
      "metadata": {
        "id": "UXxkJMT37W6L"
      },
      "source": [
        "# Heaps"
      ]
    },
    {
      "cell_type": "markdown",
      "metadata": {
        "id": "T8bBcUfrqsSV"
      },
      "source": [
        "## Min/max heap property\r\n",
        "\r\n",
        "A *heap* is a type of partially-ordered tree. That is, it a tree adhering to the *heap property*: in a *max heap*, the value at every node is greater than or equal to any of its children. A *min heap* is similar but inverted; that is, the value at every node is less than or equal to any of its children.\r\n",
        "\r\n",
        "A *binary heap* is, as the name suggests, a binary tree adhering to the heap property, i.e. it is a heap where each node has no more than two children.\r\n",
        "\r\n",
        "An example of a max heap might look like:"
      ]
    },
    {
      "cell_type": "markdown",
      "metadata": {
        "id": "Hp9q49rP5G3q"
      },
      "source": [
        "<img src=\"https://drive.google.com/uc?export=view&id=1OF322qW3YtnooH2pFmTyOZk4nr6fjSU9\" alt=\"heap.png\" width=\"30%\"/>"
      ]
    },
    {
      "cell_type": "markdown",
      "metadata": {
        "id": "9ofi_XW27id0"
      },
      "source": [
        "Note that the heap property applies recursively; that is, any subtree is itself a heap. This also means that the root value in a min/max heap is certain to be the smallest/largest value in the collection."
      ]
    },
    {
      "cell_type": "markdown",
      "metadata": {
        "id": "zf7WaqAL72sx"
      },
      "source": [
        "## Array-based implementation\r\n",
        "\r\n",
        "A binary tree can be represented in practice as an array, i.e. a contiguous sequence of values in memory.\r\n",
        "\r\n",
        "We have seen that in Python (and most programming languages) arrays are zero-indexed. Therefore, in an array representing a binary tree, for any node with index $i$, its relatives are\r\n",
        "\r\n",
        "*   Left child: $2i+1$\r\n",
        "*   Right child: $2i+2$\r\n",
        "*   Parent: $\\lfloor{(i-1)/2}\\rfloor$\r\n",
        "\r\n",
        "In this case, the above example of a heap would be represented like so:"
      ]
    },
    {
      "cell_type": "code",
      "metadata": {
        "id": "pDYAvQ2m9QG0"
      },
      "source": [
        "heap = [15, 5, 11, 3, 4, 8, 7]"
      ],
      "execution_count": null,
      "outputs": []
    },
    {
      "cell_type": "markdown",
      "metadata": {
        "id": "z4qZaBik9neJ"
      },
      "source": [
        "Note that this representation is simpler than it may appear: it is the *breadth-first order* (or *level-order*) of the tree, that is, it is as though each level of the tree is placed one after another."
      ]
    },
    {
      "cell_type": "markdown",
      "metadata": {
        "id": "KJ0YNa6wOky-"
      },
      "source": [
        "## Inserting (pushing) by sift-up\r\n",
        "\r\n",
        "Inserting an element into a heap (commonly referred to as the *push* operation for data structures) is a two stage process. First, the element to push is merely appended to the array, which is equivalent to adding it in the next unfilled position as a child on the bottom level of the binary tree. Then, the heap must be re-balanced to ensure the heap property is maintained by swapping elements. This latter step is referred to as the *sift-up* operation.\r\n",
        "\r\n",
        "Assume we are considering max heaps for now and for the remainder of the worksheet, unless otherwise specified.\r\n",
        "\r\n",
        "Sifting-up a given node is performed by comparing it to its parent and swapping them if it is greater than it. This is performed repeatedly until the node is no longer greater than its parent, or it is now the root of the tree, i.e. it does not have a parent.\r\n",
        "\r\n",
        "We can see that a node on the bottom level of a binary tree with $n$ nodes has $\\lfloor{\\log{n}}\\rfloor$ ancestors. Therefore, the sift-up operation performs $T(n)=\\lfloor{\\log{n}}\\rfloor=O(\\log{n})$ comparisons and swaps in the worst case.\r\n",
        "\r\n",
        "In the best case, the inserted value should remain a leaf node (i.e. a node with no children) so no swapping is needed and insertion is constant-time. In the average case, you might expect insertion to be logarithmic-time as with the worst case, but in fact it is also constant-time. The qualitative reasoning for this is that half of the nodes in the tree are leaves, so in the average case the probability that an inserted node should also go on the bottom level is $1/2$. Then, the probability that it should go on the bottom-but-one level is $1/4$, and so on and so forth, which is a converging series and can be used to derive constant-time bounding overall."
      ]
    },
    {
      "cell_type": "markdown",
      "metadata": {
        "id": "BwNwkd0WtbgC"
      },
      "source": [
        "## ✍️ Exercise: Sift-up\r\n",
        "\r\n",
        "Implement the sift-up heap operation as `sift_up(heap, start, end)`, where `heap` is a list containing a max heap tree and `start` and `end` form a range within the list containing the heap.\r\n",
        "\r\n",
        "In other words, the root of the heap is at `start` and the final node, to be sifted up, is at `end-1`. As can be seen in the test output, for a whole list simply representing a heap, `start` and `end` are merely `0` and `len(heap)`, respectively. Later, we will see why providing these parameters and thus allowing us to sift on a smaller range within the list becomes useful."
      ]
    },
    {
      "cell_type": "markdown",
      "metadata": {
        "id": "cNy7ivaMwXAv"
      },
      "source": [
        "<h2>👇</h2>"
      ]
    },
    {
      "cell_type": "code",
      "metadata": {
        "id": "bv5BI5Ngtd1U"
      },
      "source": [
        "def sift_up(heap, start, end):\r\n",
        "  \"\"\"Sift-up the last node (end-1) in the given max heap.\r\n",
        "\r\n",
        "  Args:\r\n",
        "    heap: List containing heap.\r\n",
        "    start: Start of range of heap in list.\r\n",
        "    end: End of range of heap in list.\r\n",
        "\r\n",
        "  \"\"\"\r\n",
        "  # Swap last node with parents until no longer greater.\r\n",
        "  i = end - 1\r\n",
        "  heaped = False\r\n",
        "  while i > start and not heaped:\r\n",
        "    parent = (i - 1) // 2\r\n",
        "    if heap[i] > heap[parent]:\r\n",
        "      heap[i], heap[parent] = heap[parent], heap[i]\r\n",
        "      i = parent\r\n",
        "    else:\r\n",
        "      heaped = True"
      ],
      "execution_count": null,
      "outputs": []
    },
    {
      "cell_type": "markdown",
      "metadata": {
        "id": "u46ydplZwYwJ"
      },
      "source": [
        "🟢"
      ]
    },
    {
      "cell_type": "code",
      "metadata": {
        "colab": {
          "base_uri": "https://localhost:8080/"
        },
        "id": "6pZjUWZ5tkxi",
        "outputId": "70de696c-bfa2-497c-f03a-d5cfd81c77fa"
      },
      "source": [
        "# Output should be:\r\n",
        "# [15, 5, 11, 3, 4, 8]\r\n",
        "\r\n",
        "def push_heap(heap, value):\r\n",
        "  heap.append(value)\r\n",
        "  sift_up(heap, 0, len(heap))\r\n",
        "\r\n",
        "\r\n",
        "heap = [11, 5, 8, 3, 4]\r\n",
        "push_heap(heap, 15)\r\n",
        "print(heap)"
      ],
      "execution_count": null,
      "outputs": [
        {
          "output_type": "stream",
          "text": [
            "[15, 5, 11, 3, 4, 8]\n"
          ],
          "name": "stdout"
        }
      ]
    },
    {
      "cell_type": "markdown",
      "metadata": {
        "id": "7iJL7l0OOqTn"
      },
      "source": [
        "## Extracting (popping) by sift-down\r\n",
        "\r\n",
        "Extracting, a.k.a. *popping*, the root element from the heap &ndash; and thus the smallest/largest element in a min/max heap &ndash; is achieved similarly.\r\n",
        "\r\n",
        "First, the root element is physically removed from the list. As we will consider in future, removing the last element from a list is constant-time, but removing an arbitrary element is linear-time, as all of the following elements must be shifted up in order to fill the resultant gap. If the order does not need to be preserved, however, then any element can be removed from an array via *swap-and-pop*: swap it with the last element, then remove the last element in constant-time.\r\n",
        "\r\n",
        "Therefore, we remove the root element by swapping it with the final element and removing. Then, we must *sift-down* the new root element into its correct position to recover the heap property. This is performed by comparing it to its children and, if it is not larger than or equal to all of them, swapping it with the larger of them. Equivalently to sifting-up, this is repeated until it is larger than or equal to all of its children, or it is on the bottom layer of the tree, i.e. it has no children.\r\n",
        "\r\n",
        "Using the same reasoning as for sifting-up, sifting-down performs $T(n)=2\\lfloor{\\log{n}}\\rfloor=O(\\log{n})$ comparisons and $T(n)=\\lfloor{\\log{n}}\\rfloor=O(\\log{n})$ swaps in the worst case. \r\n",
        "\r\n",
        "Unlike insertion, it is also logarithmic-time in the average case. This uses similar reasoning that half of the nodes are on the bottom level, a quarter on the bottom-but-one etc. Whereas insertion starting from the bottom meant that, on average, nodes would not require sifting up to upper levels, the same reasoning means that starting from the top, most nodes will need sifting down to lower levels, in logarithmic-time. It is similarly trivially constant-time in the best case."
      ]
    },
    {
      "cell_type": "markdown",
      "metadata": {
        "id": "Dy28C2B-2bGr"
      },
      "source": [
        "## ✍️ Exercise: Sift-down\r\n",
        "\r\n",
        "Implement the sift-down heap operation as `sift_down(heap, start, end)`, where `heap` is a list containing a max heap tree and `start` and `end` form a range within the list containing the heap.\r\n",
        "\r\n",
        "In other words, the root of the heap, to be sifted down, is at `start` and the final node is at `end-1`. As can be seen in the test output, for a whole list simply representing a heap, `start` and `end` are merely `0` and `len(heap)`, respectively."
      ]
    },
    {
      "cell_type": "markdown",
      "metadata": {
        "id": "9T9trQ8G8GBV"
      },
      "source": [
        "<h2>👇</h2>"
      ]
    },
    {
      "cell_type": "code",
      "metadata": {
        "id": "C9NvPwuN2bka"
      },
      "source": [
        "def sift_down(heap, start, end):\r\n",
        "  \"\"\"Sift-down the first node (start) in the given max heap.\r\n",
        "\r\n",
        "  Args:\r\n",
        "    heap: List containing heap.\r\n",
        "    start: Start of range of heap in list.\r\n",
        "    end: End of range of heap in list.\r\n",
        "\r\n",
        "  \"\"\"\r\n",
        "  # Swap first node with children until no longer smaller.\r\n",
        "  i = start\r\n",
        "  heaped = False\r\n",
        "  while not heaped:\r\n",
        "    left = i * 2 + 1\r\n",
        "    right = i * 2 + 2\r\n",
        "    largest = i\r\n",
        "\r\n",
        "    # Find largest of i, left and right\r\n",
        "    if left < end and heap[left] > heap[largest]:\r\n",
        "      largest = left\r\n",
        "    if right < end and heap[right] > heap[largest]:\r\n",
        "      largest = right\r\n",
        "\r\n",
        "    # If left or right is larger than i, swap and repeat\r\n",
        "    if largest == i:\r\n",
        "      heaped = True\r\n",
        "    else:\r\n",
        "      heap[i], heap[largest] = heap[largest], heap[i]\r\n",
        "      i = largest"
      ],
      "execution_count": null,
      "outputs": []
    },
    {
      "cell_type": "markdown",
      "metadata": {
        "id": "OxyQLAF-8H_t"
      },
      "source": [
        "🟢"
      ]
    },
    {
      "cell_type": "code",
      "metadata": {
        "colab": {
          "base_uri": "https://localhost:8080/"
        },
        "id": "-h1mbbwq8JfT",
        "outputId": "fce7a0a0-8085-458d-f7db-a3c0920dbee2"
      },
      "source": [
        "# Output should be:\r\n",
        "# 15\r\n",
        "# [11, 5, 8, 3, 4]\r\n",
        "\r\n",
        "def pop_heap(heap):\r\n",
        "  heap[0], heap[-1] = heap[-1], heap[0]\r\n",
        "  value = heap.pop()\r\n",
        "  sift_down(heap, 0, len(heap))\r\n",
        "  return value\r\n",
        "\r\n",
        "\r\n",
        "heap = [15, 5, 11, 3, 4, 8]\r\n",
        "max = pop_heap(heap)\r\n",
        "print(max)\r\n",
        "print(heap)"
      ],
      "execution_count": null,
      "outputs": [
        {
          "output_type": "stream",
          "text": [
            "15\n",
            "[11, 5, 8, 3, 4]\n"
          ],
          "name": "stdout"
        }
      ]
    },
    {
      "cell_type": "markdown",
      "metadata": {
        "id": "IbF4IXFZuBZM"
      },
      "source": [
        "# Heapsort\r\n",
        "\r\n",
        "We have seen that a heap can be used to select and remove the smallest/largest element from a collection in logarithmic-time, a clear improvement over a naive linear-time search.\r\n",
        "\r\n",
        "*Heapsort* is a sorting algorithm which sorts by selection by inserting all of the elements into a heap and then repeatedly extracts them to form a sorted list. Using the functions implemented so far, a simple, naive implementation of heapsort from this description could look like this: "
      ]
    },
    {
      "cell_type": "code",
      "metadata": {
        "colab": {
          "base_uri": "https://localhost:8080/"
        },
        "id": "t886ObQBCl5B",
        "outputId": "86762dd0-6afa-44e0-8d38-210e69bde1c0"
      },
      "source": [
        "# Output should be:\r\n",
        "# [-2, 0, 4, 5, 6, 14, 21, 23, 28, 30, 31, 32, 38, 38, 39, 42, 42, 48, 49, 52,\r\n",
        "# 52, 53, 56, 69, 75, 83, 83, 88, 95]\r\n",
        "\r\n",
        "def heapsort_naive(array):\r\n",
        "  heap = []\r\n",
        "  for value in array:\r\n",
        "    push_heap(heap, value)\r\n",
        "\r\n",
        "  result = []\r\n",
        "  while len(heap) > 0:\r\n",
        "    result.append(pop_heap(heap))\r\n",
        "\r\n",
        "  result.reverse()\r\n",
        "  return result\r\n",
        "\r\n",
        "\r\n",
        "data = [48, 38, 28, 14, 38, 56, 49, 30, 39, 0, 5, 4, 31, 88, 83, 32, 52, 42,\r\n",
        "        83, -2, 69, 95, 75, 52, 21, 23, 53, 42, 6]\r\n",
        "sorted_data = heapsort_naive(data)\r\n",
        "print(sorted_data)"
      ],
      "execution_count": null,
      "outputs": [
        {
          "output_type": "stream",
          "text": [
            "[-2, 0, 4, 5, 6, 14, 21, 23, 28, 30, 31, 32, 38, 38, 39, 42, 42, 48, 49, 52, 52, 53, 56, 69, 75, 83, 83, 88, 95]\n"
          ],
          "name": "stdout"
        }
      ]
    },
    {
      "cell_type": "markdown",
      "metadata": {
        "id": "pmNjkFdLDwK8"
      },
      "source": [
        "Note that this is an out-of-place, functional-style implementation. As we have implemented a max heap, the result is sorted from largest to smallest, so it must be reversed for a result sorted from smallest to largest. This would be unnecessary if a min heap was used, instead.\r\n",
        "\r\n",
        "The complexity analysis is equivalent to pushing $n$ elements into a heap and then popping $n$ elements (ignoring the reversal). In the worst case, this is $T(n) \\approx nO(\\log{n})+nO(\\log{n}) = O(n\\log{n}).$ In the average case, this is $T(n) \\approx nO(1)+nO(\\log{n}) = O(n\\log{n})$.\r\n",
        "\r\n",
        "As clarified in 4-quicksort, it is generally more beneficial in terms of memory usage to perform an in-place sort, rearranging the given data rather than providing a sorted copy. A more sophisticated, in-place version of heapsort is as follows:\r\n",
        "\r\n",
        "1.   Instead of initialising an empty heap and pushing each element into it, treat the array `start` to `end` as given as a broken max heap and restore the heap property.\r\n",
        "2.   Swap the first element of the array (and thus the heap root) with the element. This is now in the final, sorted position. Sift down the new root element to fix the heap `start` to `end-1`.\r\n",
        "3.   Repeat by swapping the new first element into the second-to-last position. The sorted sublist builds up from the end. Sift down the new root element to fix the heap `start` to `end-2`.\r\n",
        "4.   Repeat until the heap is reduced to only the first element, which is necessarily the smallest. Thus, the array is sorted.\r\n",
        "\r\n",
        "In point 1, an arbitrary array of values is 'heapified' by calling sift-down on every non-leaf node from the bottom-up. This works by considering subtrees. That is, the subtrees rooted with every leaf are already heaps, as they are just single nodes. Then, sifting down each node on the next level up turns each of the subtrees rooted in those nodes into a heap. This is repeated moving up level by level until, finally, the root value itself is sifted down to finish heapifying the entire tree.\r\n",
        "\r\n",
        "So, the array is heapified in-place by repeated sift-down operations, then the root is continually popped into a sorted sublist in the back of the array. In terms of complexity, consider again that an individual insertion by sift-up is $O(\\log{n})$ in the worst case and $O(1)$ in the average case, such that building a heap by one-by-one insertion is $O(n\\log{n})$ in the worst case and $O(n)$ in the average case. By instead heapifying in-place by repeated sift-downs, this is improved to $O(n)$ *in the worst case*. The intuitive reasoning for this is, again, similar to that dicussed in the analysis of sift-up and sift-down: sifting-down a node naturally takes fewer operations the lower down that node is, and most of the nodes in the tree are found in the lower levels.\r\n",
        "\r\n",
        "Therefore, both the worst- and average-case complexities of heapsort are of the form\r\n",
        "\r\n",
        "\\begin{align}\r\n",
        "T(n) &\\approx O(n)+nO(\\log{n}) \\\\\r\n",
        "&= O(n\\log{n})\r\n",
        "\\end{align}"
      ]
    },
    {
      "cell_type": "markdown",
      "metadata": {
        "id": "AFhfwQJ91HSo"
      },
      "source": [
        "# ✍️ Exercise: In-place heapsort\r\n",
        "\r\n",
        "First, implement an in-place heapification as `heapify(array)`, which reorders the given `array` into a max heap via repeated calls to your `sift_down` function as discussed above.\r\n",
        "\r\n",
        "Secondly, implement the final heapsort algorithm as `heapsort(array)`, which sorts the given `array` by heapifying in-place, then popping root elements and swapping them into the back of the array, also as discussed above."
      ]
    },
    {
      "cell_type": "markdown",
      "metadata": {
        "id": "hKtN4g4y7EFg"
      },
      "source": [
        "<h2>👇</h2>"
      ]
    },
    {
      "cell_type": "code",
      "metadata": {
        "id": "2uVzuDdw2tlz"
      },
      "source": [
        "def heapify(array):\r\n",
        "  \"\"\"Reorder a given array into a max heap.\r\n",
        "\r\n",
        "  Args:\r\n",
        "    array: List to heapify.\r\n",
        "\r\n",
        "  \"\"\"\r\n",
        "  # Start by sifting down the first parent node\r\n",
        "  n = len(array)\r\n",
        "  node = (n - 2) // 2\r\n",
        "\r\n",
        "  # Sift down all nodes, finishing with the root\r\n",
        "  while node >= 0:\r\n",
        "    sift_down(array, node, n)\r\n",
        "    node -= 1\r\n",
        "\r\n",
        "\r\n",
        "def heapsort(array):\r\n",
        "  \"\"\"Sort a list in-place via heapsort.\r\n",
        "\r\n",
        "  Args:\r\n",
        "    array: Unsorted list.\r\n",
        "\r\n",
        "  \"\"\"\r\n",
        "  # Turn the entire array into a heap\r\n",
        "  heapify(array)\r\n",
        "\r\n",
        "  # Repeatedly extract the root from the heap into a sorted sublist\r\n",
        "  n = len(array)\r\n",
        "  while n > 1:\r\n",
        "    array[0], array[n - 1] = array[n - 1], array[0]\r\n",
        "    n -= 1\r\n",
        "    sift_down(array, 0, n)"
      ],
      "execution_count": null,
      "outputs": []
    },
    {
      "cell_type": "markdown",
      "metadata": {
        "id": "2fedT7Ht7IOg"
      },
      "source": [
        "🟢"
      ]
    },
    {
      "cell_type": "code",
      "metadata": {
        "colab": {
          "base_uri": "https://localhost:8080/"
        },
        "id": "rP5URjV36XKQ",
        "outputId": "c4ba20be-9f5b-4ddc-cdd7-078a0e1bd02e"
      },
      "source": [
        "# Output should be:\r\n",
        "# [-2, 0, 4, 5, 6, 14, 21, 23, 28, 30, 31, 32, 38, 38, 39, 42, 42, 48, 49, 52,\r\n",
        "# 52, 53, 56, 69, 75, 83, 83, 88, 95]\r\n",
        "\r\n",
        "data = [48, 38, 28, 14, 38, 56, 49, 30, 39, 0, 5, 4, 31, 88, 83, 32, 52, 42,\r\n",
        "        83, -2, 69, 95, 75, 52, 21, 23, 53, 42, 6]\r\n",
        "heapsort(data)\r\n",
        "print(data)"
      ],
      "execution_count": null,
      "outputs": [
        {
          "output_type": "stream",
          "text": [
            "[-2, 0, 4, 5, 6, 14, 21, 23, 28, 30, 31, 32, 38, 38, 39, 42, 42, 48, 49, 52, 52, 53, 56, 69, 75, 83, 83, 88, 95]\n"
          ],
          "name": "stdout"
        }
      ]
    },
    {
      "cell_type": "markdown",
      "metadata": {
        "id": "yb8wNtPZ8DYD"
      },
      "source": [
        "# ➕ Extra: Timing experiments\r\n",
        "\r\n",
        "Repeat some timing experiments in the same vein as those previously to confirm some of the many claims made in this worksheet! For example, try to produce some graphs showing:\r\n",
        "\r\n",
        "*   Logarithmic-time worst-case sift-up vs constant-time average-case.\r\n",
        "*   Logarithmic-time worst-case sift-down vs logarithmic-time average-case.\r\n",
        "*   Linearithmic-time worst-case heap building (by repeated insertions) vs linear-time average-case.\r\n",
        "*   Linear-time worst-case heapification (by repeated sift-down) vs linear-time average-case.\r\n",
        "*   Linearithmic-time worst-case heapsort vs linearithmic-time average-case.\r\n",
        "\r\n"
      ]
    }
  ]
}