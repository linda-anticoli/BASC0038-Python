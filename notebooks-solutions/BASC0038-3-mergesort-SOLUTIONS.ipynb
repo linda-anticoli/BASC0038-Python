{
  "nbformat": 4,
  "nbformat_minor": 0,
  "metadata": {
    "colab": {
      "name": "BASC0038-3-mergesort-SOLUTIONS.ipynb",
      "provenance": [],
      "collapsed_sections": [],
      "toc_visible": true
    },
    "kernelspec": {
      "name": "python3",
      "display_name": "Python 3"
    }
  },
  "cells": [
    {
      "cell_type": "markdown",
      "metadata": {
        "id": "CsiCEQKuFtOB"
      },
      "source": [
        "BASC0038 Algorithms, Logic and Structure\r\n",
        "\r\n",
        "# Week 3: Mergesort\r\n",
        "\r\n",
        "Author: Sam J. Griffiths (sam.griffiths.19@ucl.ac.uk)\r\n",
        "\r\n",
        "---"
      ]
    },
    {
      "cell_type": "markdown",
      "metadata": {
        "id": "3Z32JdyK-6Si"
      },
      "source": [
        "# Merging lists\r\n",
        "\r\n",
        "So far, we have looked at a number of different straightforward algorithms to sort lists of elements, which run in polynomial &ndash; usually quadratic &ndash; time. We found that insertion sort is generally a favoured simple approach to sorting lists. However, there are a wide range of sorting algorithms yet to study which run in better than polynomial time. These algorithms will start to use a crucial principle known as *divide-and-conquer*: to solve a problem, try dividing it into smaller non-overlapping problems and conquer it by combining those (easier) solutions.\r\n",
        "\r\n",
        "Let us begin a divide-and-conquer approach to sorting by first considering a different problem: merging lists. Take two arbitrary lists of numbers $A$ and $B$. How do we merge the lists? A valid answer to this question would be to just append all of the elements of $B$ to those in $A$:"
      ]
    },
    {
      "cell_type": "code",
      "metadata": {
        "colab": {
          "base_uri": "https://localhost:8080/"
        },
        "id": "c9Zv8sJCvTGU",
        "outputId": "aef8edf4-75d6-4243-8f11-399e715d1b4b"
      },
      "source": [
        "a = [6, 2, 25, 8, 10]\r\n",
        "b = [3, 7, -3, 89, 0, 4]\r\n",
        "result = a.copy() + b.copy()\r\n",
        "print(result)"
      ],
      "execution_count": null,
      "outputs": [
        {
          "output_type": "stream",
          "text": [
            "[6, 2, 25, 8, 10, 3, 7, -3, 89, 0, 4]\n"
          ],
          "name": "stdout"
        }
      ]
    },
    {
      "cell_type": "markdown",
      "metadata": {
        "id": "3iN0AgdZwafY"
      },
      "source": [
        "A more involved question would be that, if $A$ and $B$ are *already sorted*, how do we merge them as $C$ such that the ordering is preserved?\r\n",
        "\r\n",
        "For example, take two sorted lists:\r\n",
        "\r\n",
        "| $A$ | $B$ |\r\n",
        "| :-: | :-: |\r\n",
        "| $2, 6, 8, 10, 25$ | $7, 9, 30, 50, 100$ |\r\n",
        "\r\n",
        "We begin with an index $i$ to the first element in $A$ and another $j$ likewise to the first element in $B$. Comparing $i$ and $j$ gives us a comparison between $2$ and $7$. $2$ is smaller, so it is appended to the result and $i$ is incremented, meaning the next comparison is between $6$ and $7$. This proceeds as follows until either of the lists is exhausted, at which point all remaining elements from the other are merely appended:\r\n",
        "\r\n",
        "| $A$ | $B$ | $C$ |\r\n",
        "| -: | -: | :- |\r\n",
        "| $6, 8, 10, 25$ | $7, 9, 30, 50, 100$ | $2$ |\r\n",
        "| $8, 10, 25$ | $7, 9, 30, 50, 100$ | $2, 6$ |\r\n",
        "| $8, 10, 25$ | $9, 30, 50, 100$ | $2, 6, 7$ |\r\n",
        "| $10, 25$ | $9, 30, 50, 100$ | $2, 6, 7, 8$ |\r\n",
        "| $10, 25$ | $30, 50, 100$ | $2, 6, 7, 8, 9$ |\r\n",
        "| $25$ | $30, 50, 100$ | $2, 6, 7, 8, 9, 10$ |\r\n",
        "| | $30, 50, 100$ | $2, 6, 7, 8, 9, 10, 25$ |\r\n",
        "| | | $2, 6, 7, 8, 9, 10, 25, 30, 50, 100$ |\r\n",
        "\r\n",
        "How many comparisons does this take? Let's assume for simplicity that the total number of elements is $n$, split equally into $A$ and $B$. In the best case, all of the elements in one list are less than all of the elements than the other; in this case, one of the indices never needs to be incremented until a list becomes exhausted. Then, $n/2$ comparisons are needed. In the worst case, all of the elements are perfectly interleaved such that elements are selected alternately from the left and right sets. Then, $n-1$ comparisons are needed.\r\n",
        "\r\n",
        "Therefore, merging two sorted lists of total length $n$ can be performed in $O(n)$ comparisons. This linear-time merging is the basis of *mergesort*: a divide-and-conquer approach to sorting a single list from scratch."
      ]
    },
    {
      "cell_type": "markdown",
      "metadata": {
        "id": "BDruB5DBBaAV"
      },
      "source": [
        "# Sorting by merging\r\n",
        "\r\n",
        "Take an arbitrary, hypothetical comparison sort (like selection or insertion sort) called *wholesort* which sorts a whole set of size $n$ in a number of comparisons varying with $n$ as\r\n",
        "\r\n",
        "\\begin{align}\r\n",
        "T(n) &= n^2 \\\\\r\n",
        "\\therefore \\quad T(n) &= O(n^2)\r\n",
        "\\end{align}\r\n",
        "\r\n",
        "Let us define a new algorithm called *halfsort*, which splits the input set into two equal halves, sorts them each using wholesort, then merges them in linear time. The running time of this approach is\r\n",
        "\r\n",
        "\\begin{align}\r\n",
        "T(n) &= 2\\left(\\frac{n}{2}\\right)^2 + n \\\\\r\n",
        "&= \\frac{1}{2}n^2 + n \\\\\r\n",
        "\\therefore \\quad T(n) &= O(n^2)\r\n",
        "\\end{align}\r\n",
        "\r\n",
        "Even though halfsort is quadratic-time, as with the original wholesort, the actual terms in the running time mean that it grows more slowly than that of wholesort for sufficiently large $n$:"
      ]
    },
    {
      "cell_type": "code",
      "metadata": {
        "id": "tLrvnL5MEQtv"
      },
      "source": [
        "%matplotlib inline\r\n",
        "import matplotlib.pyplot as plt\r\n",
        "import numpy as np"
      ],
      "execution_count": null,
      "outputs": []
    },
    {
      "cell_type": "code",
      "metadata": {
        "colab": {
          "base_uri": "https://localhost:8080/",
          "height": 279
        },
        "id": "aGpIpDSAEUH8",
        "outputId": "c3b39224-92cf-4c93-d8b4-19ea4de65ed5"
      },
      "source": [
        "x = np.linspace(0, 50, 101)\r\n",
        "plt.plot(x, [(x**2) for x in x], label=\"whole\")\r\n",
        "plt.plot(x, [(0.5 * x**2 + x) for x in x], label=\"half\")\r\n",
        "plt.legend()\r\n",
        "plt.xlabel(r\"$n$\")\r\n",
        "plt.ylabel(r\"$T(n)$\")\r\n",
        "plt.show()"
      ],
      "execution_count": null,
      "outputs": [
        {
          "output_type": "display_data",
          "data": {
            "image/png": "[encoded data removed]",
            "text/plain": [
              "<Figure size 432x288 with 1 Axes>"
            ]
          },
          "metadata": {
            "tags": [],
            "needs_background": "light"
          }
        }
      ]
    },
    {
      "cell_type": "markdown",
      "metadata": {
        "id": "mqDyKsGRMhVh"
      },
      "source": [
        "In that case, can we improve it further? Let us define *quartersort*, which similarly halves its input, performs halfsort on those two halves, then merges in linear time:\r\n",
        "\r\n",
        "\\begin{align}\r\n",
        "T(n) &= 2\\left( 2\\left(\\frac{n}{4}\\right)^2 + \\frac{n}{2} \\right) + n \\\\\r\n",
        "&= \\frac{1}{4}n^2 + 2n \\\\\r\n",
        "\\end{align}\r\n",
        "\r\n",
        "We can see that the constant factor in front of the $n^2$ has been reduced further. Therefore, this grows more slowly still:"
      ]
    },
    {
      "cell_type": "code",
      "metadata": {
        "colab": {
          "base_uri": "https://localhost:8080/",
          "height": 279
        },
        "id": "oVuBMMjFO4mH",
        "outputId": "e9e80b08-2187-48c4-a578-fc26939c3d55"
      },
      "source": [
        "x = np.linspace(0, 50, 101)\r\n",
        "plt.plot(x, [(x**2) for x in x], label=\"whole\")\r\n",
        "plt.plot(x, [(0.5 * x**2 + x) for x in x], label=\"half\")\r\n",
        "plt.plot(x, [(0.25 * x**2 + 2 * x) for x in x], label=\"quarter\")\r\n",
        "plt.legend()\r\n",
        "plt.xlabel(r\"$n$\")\r\n",
        "plt.ylabel(r\"$T(n)$\")\r\n",
        "plt.show()"
      ],
      "execution_count": null,
      "outputs": [
        {
          "output_type": "display_data",
          "data": {
            "image/png": "[encoded data removed]",
            "text/plain": [
              "<Figure size 432x288 with 1 Axes>"
            ]
          },
          "metadata": {
            "tags": [],
            "needs_background": "light"
          }
        }
      ]
    },
    {
      "cell_type": "markdown",
      "metadata": {
        "id": "_2NHdkidPjXZ"
      },
      "source": [
        "Following this down as far as possible would mean discarding the original comparison sort entirely, recursively performing halfsort until the base case of single elements (sets of size 1), repeatedly merged back up to culminate in the sorted set. This is what is known as the *mergesort* algorithm."
      ]
    },
    {
      "cell_type": "markdown",
      "metadata": {
        "id": "Nl_eoM_YH5E_"
      },
      "source": [
        "# Complexity analysis"
      ]
    },
    {
      "cell_type": "markdown",
      "metadata": {
        "id": "CwbxDp_u6GqK"
      },
      "source": [
        "## General case\r\n",
        "A step (iteration/recursion) of mergesort on a set of size $n$ comprises the same step performed on two halves, followed by merging the two halves in linear time:\r\n",
        "\r\n",
        "\\begin{equation}\r\n",
        "T(n) = 2T{\\left(\\frac{n}{2}\\right)} + O(n)\r\n",
        "\\end{equation}\r\n",
        "\r\n",
        "As we will see, the worst and best case for mergesort are very similar, differing only in the exact number of comparisons needed in the $O(n)$ merge step."
      ]
    },
    {
      "cell_type": "markdown",
      "metadata": {
        "id": "ymTZFF0w5fcL"
      },
      "source": [
        "## Worst case\r\n",
        "In the worst case of merging two sets of combined size $n$, the elements will be perfectly interleaved in terms of their prior ordering, such that elements are selected alternately from the left and right sets. Therefore, $n-1$ comparisons are required.\r\n",
        "\r\n",
        "We can resolve this recurrence relation very similarly to our complexity analysis of binary search, by expanding it out and simplifying by using $k$ as the number of steps:\r\n",
        "\r\n",
        "\\begin{align}\r\n",
        "T(n) &= 2T{\\left(\\frac{n}{2}\\right)} + n-1 \\\\\r\n",
        "&= 2\\left(2T{\\left(\\frac{n}{4}\\right)} + \\frac{n}{2} - 1\\right) + n-1 \\\\\r\n",
        "&= 4T{\\left(\\frac{n}{4}\\right)} + n-2 + n-1 \\\\\r\n",
        "&= 4\\left(2T{\\left(\\frac{n}{8}\\right)} + \\frac{n}{4} - 1\\right) + n-2 + n-1 \\\\\r\n",
        "&= 8T{\\left(\\frac{n}{8}\\right)} + n-4 + n-2 + n-1 \\\\\r\n",
        "&\\;\\;\\vdots \\\\\r\n",
        "&= 2^k T{\\left(\\frac{n}{2^k}\\right)} + kn - (2^0 + 2^1 + \\dots + 2^{k-1})\r\n",
        "\\end{align}\r\n",
        "\r\n",
        "Note that $(2^0 + 2^1 + \\dots + 2^{k-1})$ is a geometric series, but specifically summing powers of two, with a useful result of $2^k-1$ (e.g. $1+2+4+8=15=16-1$). Therefore:\r\n",
        "\r\n",
        "\\begin{align}\r\n",
        "T(n) = 2^k T{\\left(\\frac{n}{2^k}\\right)} + kn - 2^k + 1\r\n",
        "\\end{align}\r\n",
        "\r\n",
        "The base case is a set of size 1, achieved after halving the set $k$ times:\r\n",
        "\r\n",
        "\\begin{align}\r\n",
        "\\frac{n}{2^k} &= 1 \\\\\r\n",
        "\\implies \\quad k &= \\log_2{n}\r\n",
        "\\end{align}\r\n",
        "\r\n",
        "Substituting this back in gives\r\n",
        "\r\n",
        "\\begin{align}\r\n",
        "T(n) = nT(1) + n\\log_2{n} - n + 1\r\n",
        "\\end{align}\r\n",
        "\r\n",
        "A set of size 1 requires 0 comparisons to sort, so $T(1)=0$:\r\n",
        "\r\n",
        "\\begin{align}\r\n",
        "T(n) &= n\\log_2{n} - n + 1 \\\\\r\n",
        "\\therefore \\quad T(n) &= O(n\\log{n})\r\n",
        "\\end{align}\r\n",
        "\r\n",
        "By utilising divide-and-conquer, mergesort improves on the quadratic $O(n^2)$ time complexity of selection sort, insertion sort etc. to a linearithmic $O(n\\log{n})$ complexity."
      ]
    },
    {
      "cell_type": "markdown",
      "metadata": {
        "id": "wxmuWeOp5i-8"
      },
      "source": [
        "## Best case\r\n",
        "In the best case of merging two sets of combined size $n$, all of the elements in one set are less than all of the elements in the other. In this case, only $n/2$ comparisons are required:\r\n",
        "\r\n",
        "\\begin{align}\r\n",
        "T(n) &= 2T{\\left(\\frac{n}{2}\\right)} + \\frac{n}{2} \\\\\r\n",
        "&= 4T{\\left(\\frac{n}{4}\\right)} + \\frac{n}{2} + \\frac{n}{2} \\\\\r\n",
        "&= 8T{\\left(\\frac{n}{8}\\right)} + \\frac{n}{2} + \\frac{n}{2} + \\frac{n}{2} \\\\\r\n",
        "&\\;\\;\\vdots \\\\\r\n",
        "&= 2^kT{\\left(\\frac{n}{2^k}\\right)} + \\frac{kn}{2} \\\\\r\n",
        "\\frac{n}{2^k} &= 1 \\\\\r\n",
        "\\implies \\quad k &= \\log_2{n} \\\\\r\n",
        "\\implies \\quad T(n) &= nT(1) + \\frac{n\\log_2{n}}{2} \\\\\r\n",
        "&= \\frac{1}{2}n\\log_2{n} \\\\\r\n",
        "\\therefore \\quad T(n) &= O(n\\log{n})\r\n",
        "\\end{align}\r\n",
        "\r\n",
        "We can see that mergesort runs in $O(n\\log{n})$ in both the best and worst case. Thus, the average case can also be trivially stated as $O(n\\log{n})$."
      ]
    },
    {
      "cell_type": "markdown",
      "metadata": {
        "id": "UdhkdlnmDY2W"
      },
      "source": [
        "NB: Note that this is an approximation by assuming $n$ to be a power of 2. In the general case, an odd $n$ must instead split into sets of unequal size:\r\n",
        "\r\n",
        "\\begin{equation}\r\n",
        "T(n) = T{\\left( \\left\\lfloor\\frac{n}{2}\\right\\rfloor \\right)} + T{\\left( \\left\\lceil\\frac{n}{2}\\right\\rceil \\right)} + O(n)\r\n",
        "\\end{equation}\r\n",
        "\r\n",
        "It is infeasible to solve this recurrence via telescoping. Instead, recall that there are always $\\lfloor\\log_2{n}+1\\rfloor$ levels in a binary tree with $n$ nodes. Using the expression already derived above, this gives us a worst case of\r\n",
        "\r\n",
        "\\begin{align}\r\n",
        "T(n) &= kn - 2^k + 1 \\\\\r\n",
        "&= n\\lfloor\\log_2{n}+1\\rfloor - 2^{\\lfloor\\log_2{n}+1\\rfloor} + 1\r\n",
        "\\end{align}"
      ]
    },
    {
      "cell_type": "markdown",
      "metadata": {
        "id": "dpuHGyFF55Ay"
      },
      "source": [
        "# ✍️ Exercise: Recursive (top-down) mergesort\r\n",
        "\r\n",
        "First, implement an (iterative) merge function as `merge`, which takes two lists `a` and `b` and returns a merged list preserving order, as described in the section 'Merging lists'. Hint: initialise an empty array in which to append elements selected one-by-one from the two lists, until one of the lists is exhausted.\r\n",
        "\r\n",
        "Then, implement a recursive version of mergesort as `mergesort_recursive`, taking an `array` to return a sorted copy of, which recursively mergesorts two halves of the array and uses your `merge` function on the results. Hint: as before, the base case here is a list of 0 or 1 elements, which is already sorted by definition."
      ]
    },
    {
      "cell_type": "markdown",
      "metadata": {
        "id": "QFXfqRJeWeO0"
      },
      "source": [
        "<h2>👇</h2>"
      ]
    },
    {
      "cell_type": "code",
      "metadata": {
        "id": "l6G0JeqxmCBm"
      },
      "source": [
        "def merge(a, b):\r\n",
        "  \"\"\"Merge two sorted lists into one.\r\n",
        "\r\n",
        "  Args:\r\n",
        "    a: First sorted list.\r\n",
        "    b: Second sorted list.\r\n",
        "  \r\n",
        "  Returns:\r\n",
        "    A new list containing all elements in a and b, sorted.\r\n",
        "\r\n",
        "  \"\"\"\r\n",
        "  result = []\r\n",
        "\r\n",
        "  # Append smallest values to result until either list is exhausted\r\n",
        "  i = j = 0\r\n",
        "  while i < len(a) and j < len(b):\r\n",
        "    if a[i] < b[j]:\r\n",
        "      result.append(a[i])\r\n",
        "      i += 1\r\n",
        "    else:\r\n",
        "      result.append(b[j])\r\n",
        "      j += 1\r\n",
        "\r\n",
        "  # Append all remaining values from the unexhausted list\r\n",
        "  if i < len(a):\r\n",
        "    result.extend(a[i:])\r\n",
        "  else:\r\n",
        "    result.extend(b[j:])\r\n",
        "\r\n",
        "  return result\r\n",
        "\r\n",
        "\r\n",
        "def mergesort_recursive(array):\r\n",
        "  \"\"\"Sort a list via recursive (top-down) mergesort.\r\n",
        "\r\n",
        "  Args:\r\n",
        "    array: Unsorted list.\r\n",
        "  \r\n",
        "  Returns:\r\n",
        "    A new list containing all elements in array, sorted.\r\n",
        "    \r\n",
        "  \"\"\" \r\n",
        "  # Base case for empty or singular list\r\n",
        "  n = len(array)\r\n",
        "  if n < 2:\r\n",
        "    return array\r\n",
        "  \r\n",
        "  # Recur on two halves of array and merge results\r\n",
        "  mid = n // 2\r\n",
        "  return merge(\r\n",
        "      mergesort_recursive(array[:mid]),\r\n",
        "      mergesort_recursive(array[mid:]))"
      ],
      "execution_count": null,
      "outputs": []
    },
    {
      "cell_type": "markdown",
      "metadata": {
        "id": "VOGjFZkzWgyO"
      },
      "source": [
        "🟢"
      ]
    },
    {
      "cell_type": "code",
      "metadata": {
        "colab": {
          "base_uri": "https://localhost:8080/"
        },
        "id": "nBAcgnAqn1p1",
        "outputId": "13891390-8140-4c57-80e2-b314f4c654da"
      },
      "source": [
        "# Output should be:\r\n",
        "# [-2, 0, 4, 5, 6, 14, 21, 23, 28, 30, 31, 32, 38, 38, 39, 42, 42, 48, 49, 52,\r\n",
        "# 52, 53, 56, 69, 75, 83, 83, 88, 95]\r\n",
        "\r\n",
        "data = [48, 38, 28, 14, 38, 56, 49, 30, 39, 0, 5, 4, 31, 88, 83, 32, 52, 42,\r\n",
        "        83, -2, 69, 95, 75, 52, 21, 23, 53, 42, 6]\r\n",
        "print(mergesort_recursive(data))"
      ],
      "execution_count": null,
      "outputs": [
        {
          "output_type": "stream",
          "text": [
            "[-2, 0, 4, 5, 6, 14, 21, 23, 28, 30, 31, 32, 38, 38, 39, 42, 42, 48, 49, 52, 52, 53, 56, 69, 75, 83, 83, 88, 95]\n"
          ],
          "name": "stdout"
        }
      ]
    },
    {
      "cell_type": "markdown",
      "metadata": {
        "id": "2A2YPd3o5tSA"
      },
      "source": [
        "# ✍️ Exercise: Iterative (bottom-up) mergesort\r\n",
        "\r\n",
        "Even though a divide-and-conquer approach like mergesort is natural to think of recursively, again, it is generally more efficient to implement it iteratively in practice.\r\n",
        "\r\n",
        "Implement an iterative version of mergesort as `mergesort_iterative`, taking an `array` to return a sorted copy of. The iterative implementation should directly emulate the bottom-up behaviour of recursive mergesort, which first merges pairs of adjacent elements, then merges adjacent pairs, then merges adjacent lists of 4 etc. We refer to these as *runs*: begin with a run length of 1, which is iteratively doubled to 2, 4, 8 etc. until it exceeds $n$, when the mergesort is finished. For each run length, iterate over the array and merge adjacent sublists of that length (calling your `merge` function already implemented in the previous exercise)."
      ]
    },
    {
      "cell_type": "markdown",
      "metadata": {
        "id": "uEqzeISse4cr"
      },
      "source": [
        "<h2>👇</h2>"
      ]
    },
    {
      "cell_type": "code",
      "metadata": {
        "id": "Vk2cFIhwerYl"
      },
      "source": [
        "def mergesort_iterative(array):\r\n",
        "  \"\"\"Sort a list via iterative (bottom-up) mergesort.\r\n",
        "\r\n",
        "  Args:\r\n",
        "    array: Unsorted list.\r\n",
        "\r\n",
        "  Returns:\r\n",
        "    A new list containing all elements in array, sorted.\r\n",
        "\r\n",
        "  \"\"\"\r\n",
        "  n = len(array)\r\n",
        "  result = array.copy()\r\n",
        "\r\n",
        "  # Merge runs of length 1, 2, 4, 8, ...\r\n",
        "  length = 1\r\n",
        "  while length < n:\r\n",
        "    # Merge each pair of runs\r\n",
        "    for i in range(0, n, 2 * length):\r\n",
        "      mid = i + length\r\n",
        "      upper = i + 2 * length\r\n",
        "      result[i:upper] = merge(result[i:mid], result[mid:upper])\r\n",
        "    length *= 2\r\n",
        "\r\n",
        "  return result"
      ],
      "execution_count": null,
      "outputs": []
    },
    {
      "cell_type": "markdown",
      "metadata": {
        "id": "QQ7azWBIe7Cj"
      },
      "source": [
        "🟢"
      ]
    },
    {
      "cell_type": "code",
      "metadata": {
        "colab": {
          "base_uri": "https://localhost:8080/"
        },
        "id": "a_R739VBe7Zy",
        "outputId": "ebdd64ca-5808-4afb-db8e-6491f023219d"
      },
      "source": [
        "# Output should be:\r\n",
        "# [-2, 0, 4, 5, 6, 14, 21, 23, 28, 30, 31, 32, 38, 38, 39, 42, 42, 48, 49, 52,\r\n",
        "# 52, 53, 56, 69, 75, 83, 83, 88, 95]\r\n",
        "\r\n",
        "data = [48, 38, 28, 14, 38, 56, 49, 30, 39, 0, 5, 4, 31, 88, 83, 32, 52, 42,\r\n",
        "        83, -2, 69, 95, 75, 52, 21, 23, 53, 42, 6]\r\n",
        "print(mergesort_iterative(data))"
      ],
      "execution_count": null,
      "outputs": [
        {
          "output_type": "stream",
          "text": [
            "[-2, 0, 4, 5, 6, 14, 21, 23, 28, 30, 31, 32, 38, 38, 39, 42, 42, 48, 49, 52, 52, 53, 56, 69, 75, 83, 83, 88, 95]\n"
          ],
          "name": "stdout"
        }
      ]
    },
    {
      "cell_type": "markdown",
      "metadata": {
        "id": "1rBSVut9AVMh"
      },
      "source": [
        "# ✍️ Exercise: Timing experiments\r\n",
        "\r\n",
        "Compare one of your implementations of mergesort (recursive or iterative) with your iterative implementation of insertion sort from the previous worksheet. As in the previous worksheet, perform an average-case experiment by generating random lists and taking the mean of 5 minimum-of-10-runs.\r\n",
        "\r\n",
        "This time, however, use a smaller range of problem instance sizes: $n \\in \\{10,20,30,\\dots,120\\}$. The reason for this should become clear."
      ]
    },
    {
      "cell_type": "code",
      "metadata": {
        "colab": {
          "base_uri": "https://localhost:8080/",
          "height": 283
        },
        "id": "TZR4mFzGh9xn",
        "outputId": "92cfc6fd-4148-43ae-b45e-0561e55e321a"
      },
      "source": [
        "def insertion_sort(array):\r\n",
        "  \"\"\"Sort a list via insertion sort.\r\n",
        "\r\n",
        "  Args:\r\n",
        "    array: Unsorted list.\r\n",
        "\r\n",
        "  Returns:\r\n",
        "    A new list containing all elements in array, sorted.\r\n",
        "\r\n",
        "  \"\"\"\r\n",
        "  n = len(array)\r\n",
        "  result = array.copy()\r\n",
        "\r\n",
        "  # Swap each value backwards until in correct position\r\n",
        "  for i in range(1, n):\r\n",
        "    j = i\r\n",
        "    while j > 0 and result[j] < result[j - 1]:\r\n",
        "      result[j], result[j - 1] = result[j - 1], result[j]\r\n",
        "      j -= 1\r\n",
        "\r\n",
        "  return result\r\n",
        "\r\n",
        "\r\n",
        "import time\r\n",
        "import random\r\n",
        "import statistics\r\n",
        "\r\n",
        "%matplotlib inline\r\n",
        "import matplotlib.pyplot as plt\r\n",
        "import numpy as np\r\n",
        "\r\n",
        "\r\n",
        "def time_function(function, runs=1, average=min):\r\n",
        "  \"\"\"Test the execution time of a given function.\r\n",
        "\r\n",
        "  Args:\r\n",
        "    function: Function to time.\r\n",
        "    runs (int, optional): Number of runs. Defaults to 1.\r\n",
        "\r\n",
        "  Returns:\r\n",
        "    Function time (minimum of runs).\r\n",
        "\r\n",
        "  \"\"\"\r\n",
        "  results = [None] * runs\r\n",
        "  for i in range(runs):\r\n",
        "    t0 = time.perf_counter()\r\n",
        "    function()\r\n",
        "    t1 = time.perf_counter()\r\n",
        "    results[i] = t1 - t0\r\n",
        "  \r\n",
        "  return average(results)\r\n",
        "\r\n",
        "\r\n",
        "# n = {10, 20, 30, ..., 120}\r\n",
        "problem_sizes = [(i + 1) * 10 for i in range(12)]\r\n",
        "\r\n",
        "# Lists of time results\r\n",
        "t_mergesort = []\r\n",
        "t_insertion_sort = []\r\n",
        "\r\n",
        "# Number of random samples to take\r\n",
        "rand_samples = 5\r\n",
        "\r\n",
        "for n in problem_sizes:\r\n",
        "  # Times recorded for this value of n\r\n",
        "  t_n_mergesort = []\r\n",
        "  t_n_insertion_sort = []\r\n",
        "\r\n",
        "  for _ in range(rand_samples):\r\n",
        "    # Random list of length n\r\n",
        "    array = [random.random() for _ in range(n)]\r\n",
        "\r\n",
        "    # Obtain minimum time of 10 runs for each algorithm\r\n",
        "    runs = 10  \r\n",
        "    t_n_mergesort.append(time_function(\r\n",
        "        lambda: mergesort_recursive(array),\r\n",
        "        runs))\r\n",
        "    t_n_insertion_sort.append(time_function(\r\n",
        "        lambda: insertion_sort(array),\r\n",
        "        runs))\r\n",
        "  \r\n",
        "  # Obtain mean of random trials for this n\r\n",
        "  t_mergesort.append(statistics.mean(t_n_mergesort))\r\n",
        "  t_insertion_sort.append(statistics.mean(t_n_insertion_sort))\r\n",
        "\r\n",
        "# Plot graph of times\r\n",
        "plt.plot(problem_sizes, t_mergesort, label=\"mergesort\")\r\n",
        "plt.plot(problem_sizes, t_insertion_sort, label=\"insertion sort\")\r\n",
        "plt.legend()\r\n",
        "plt.xlabel(r\"problem size $n$\")\r\n",
        "plt.ylabel(r\"time $t$ (s)\")\r\n",
        "plt.show()"
      ],
      "execution_count": null,
      "outputs": [
        {
          "output_type": "display_data",
          "data": {
            "image/png": "[encoded data removed]",
            "text/plain": [
              "<Figure size 432x288 with 1 Axes>"
            ]
          },
          "metadata": {
            "tags": [],
            "needs_background": "light"
          }
        }
      ]
    },
    {
      "cell_type": "markdown",
      "metadata": {
        "id": "e2khTVEEpAG_"
      },
      "source": [
        "You should see the quadratic curve for insertion sort as explored in the previous worksheet against a linearithmic $O(n\\log{n})$ curve for mergesort. The linearithmic function is subtle: it appears almost linear, but does indeed grow faster than any linear function for arbitrarily large $n$.\r\n",
        "\r\n",
        "You should also observe a crossing point at small values of $n$ where insertion sort appears to perform slightly faster; highlighting this effect is the reason for choosing smaller values of $n$ here. We will address this in the next section."
      ]
    },
    {
      "cell_type": "markdown",
      "metadata": {
        "id": "L5kuCeTV6F3U"
      },
      "source": [
        "# ✍️ Exercise: Merge-insertion hybrid"
      ]
    },
    {
      "cell_type": "markdown",
      "metadata": {
        "id": "ofECl_Lwp15X"
      },
      "source": [
        "Insertion sort is quadratic-time in the average and worst cases, whereas mergesort is linearithmic-time, making mergesort a more effective algorithm overall. However, its more complicated implementation means that insertion sort will still generally perform faster on very small arrays, as it is comparitively much more simple under the hood. Hence, we observe a crossing point in the above timing experiment.\r\n",
        "\r\n",
        "In a situation where one algorithm performs better on one type of problem, but another performs better on a different type, a simple hybridisation can be very effective. Implement alternate versions of mergesort which delegates to insertion sort for small arrays as `mergesort_recursive_hybrid` and `mergesort_iterative_hybrid`. The threshold for which this delegation should occur can be inferred from your empirical results in the above exercise.\r\n",
        "\r\n",
        "Hint: for the recursive version, this involves changing the base case to calling insertion sort if $n$ is less than the threshold. For the iterative version, this involves calling insertion sort on sublists of run length equal to the threshold, before then commencing as usual with run lengths of 2x the threshold, 4x the threshold, onwards."
      ]
    },
    {
      "cell_type": "markdown",
      "metadata": {
        "id": "nJgSb-wjtVHM"
      },
      "source": [
        "<h2>👇</h2>"
      ]
    },
    {
      "cell_type": "code",
      "metadata": {
        "id": "9SraFFHsrnJb"
      },
      "source": [
        "def mergesort_recursive_hybrid(array, threshold=37):\r\n",
        "  \"\"\"Sort a list via hybrid recursive (top-down) mergesort.\r\n",
        "\r\n",
        "  Delegates to insertion sort when n is less than or equal to some threshold.\r\n",
        "\r\n",
        "  Args:\r\n",
        "    array: Unsorted list.\r\n",
        "    threshold (int, optional): Delegation threshold. Defaults to 37.\r\n",
        "\r\n",
        "  Returns:\r\n",
        "    A new list containing all elements in array, sorted.\r\n",
        "\r\n",
        "  \"\"\"\r\n",
        "  # Base case delegates to insertion sort\r\n",
        "  n = len(array)\r\n",
        "  if n <= threshold:\r\n",
        "    return insertion_sort(array)\r\n",
        "\r\n",
        "  # Recur on two halves of array and merge results\r\n",
        "  mid = n // 2\r\n",
        "  return merge(\r\n",
        "    mergesort_recursive(array[:mid]),\r\n",
        "    mergesort_recursive(array[mid:]))\r\n",
        "\r\n",
        "\r\n",
        "def mergesort_iterative_hybrid(array, threshold=37):\r\n",
        "  \"\"\"Sort a list via hybrid iterative (bottom-up) mergesort.\r\n",
        "\r\n",
        "  Delegates to insertion sort when n is less than or equal to some threshold.\r\n",
        "\r\n",
        "  Args:\r\n",
        "    array: Unsorted list.\r\n",
        "    threshold (int, optional): Delegation threshold. Defaults to 37.\r\n",
        "\r\n",
        "  Returns:\r\n",
        "    A new list containing all elements in array, sorted.\r\n",
        "\r\n",
        "  \"\"\"\r\n",
        "  n = len(array)\r\n",
        "  result = array.copy()\r\n",
        "\r\n",
        "  # Initial insertion sort pass\r\n",
        "  for i in range(0, n, threshold):\r\n",
        "    result[i:i+threshold] = insertion_sort(result[i:i+threshold])\r\n",
        "\r\n",
        "  # Merge runs of length 2*threshold, 4*threshold, ...\r\n",
        "  length = 2 * threshold\r\n",
        "  while length < n:\r\n",
        "    # Merge each pair of runs\r\n",
        "    for i in range(0, n, 2 * length):\r\n",
        "      mid = i + length\r\n",
        "      upper = i + 2 * length\r\n",
        "      result[i:upper] = merge(result[i:mid], result[mid:upper])\r\n",
        "    length *= 2\r\n",
        "\r\n",
        "  return result"
      ],
      "execution_count": null,
      "outputs": []
    },
    {
      "cell_type": "markdown",
      "metadata": {
        "id": "2lwqqVK4taQt"
      },
      "source": [
        "🟢"
      ]
    },
    {
      "cell_type": "code",
      "metadata": {
        "colab": {
          "base_uri": "https://localhost:8080/"
        },
        "id": "wD4rt9j-tca0",
        "outputId": "91e5c4bd-82cd-4d36-925c-5bd122d7006a"
      },
      "source": [
        "# Output should be:\r\n",
        "# Recursive hybrid:\r\n",
        "# [-2, 0, 4, 5, 6, 14, 21, 23, 28, 30, 31, 32, 38, 38, 39, 42, 42, 48, 49, 52,\r\n",
        "# 52, 53, 56, 69, 75, 83, 83, 88, 95]\r\n",
        "# Iterative hybrid:\r\n",
        "# [-2, 0, 4, 5, 6, 14, 21, 23, 28, 30, 31, 32, 38, 38, 39, 42, 42, 48, 49, 52,\r\n",
        "# 52, 53, 56, 69, 75, 83, 83, 88, 95]\r\n",
        "\r\n",
        "data = [48, 38, 28, 14, 38, 56, 49, 30, 39, 0, 5, 4, 31, 88, 83, 32, 52, 42,\r\n",
        "        83, -2, 69, 95, 75, 52, 21, 23, 53, 42, 6]\r\n",
        "print(\"Recursive hybrid:\")\r\n",
        "print(mergesort_recursive_hybrid(data))\r\n",
        "print(\"Iterative hybrid:\")\r\n",
        "print(mergesort_iterative_hybrid(data))"
      ],
      "execution_count": null,
      "outputs": [
        {
          "output_type": "stream",
          "text": [
            "Recursive hybrid:\n",
            "[-2, 0, 4, 5, 6, 14, 21, 23, 28, 30, 31, 32, 38, 38, 39, 42, 42, 48, 49, 52, 52, 53, 56, 69, 75, 83, 83, 88, 95]\n",
            "Iterative hybrid:\n",
            "[-2, 0, 4, 5, 6, 14, 21, 23, 28, 30, 31, 32, 38, 38, 39, 42, 42, 48, 49, 52, 52, 53, 56, 69, 75, 83, 83, 88, 95]\n"
          ],
          "name": "stdout"
        }
      ]
    },
    {
      "cell_type": "markdown",
      "metadata": {
        "id": "DmkXCZvKty4N"
      },
      "source": [
        "Finally, profile your hybrid iterative version of mergesort against the regular iterative version via the same average-case experiment.\r\n",
        "\r\n",
        "This time, however, demonstrate the efficiency of mergesort by using a greater range of problem instance sizes: $n \\in \\{200,400,600,\\dots,4000\\}$"
      ]
    },
    {
      "cell_type": "code",
      "metadata": {
        "colab": {
          "base_uri": "https://localhost:8080/",
          "height": 283
        },
        "id": "S3QmCvFCt7e6",
        "outputId": "9d422a40-8ad5-461b-a484-4ba42d3c8084"
      },
      "source": [
        "import time\r\n",
        "import random\r\n",
        "import statistics\r\n",
        "\r\n",
        "%matplotlib inline\r\n",
        "import matplotlib.pyplot as plt\r\n",
        "import numpy as np\r\n",
        "\r\n",
        "\r\n",
        "def time_function(function, runs=1, average=min):\r\n",
        "  \"\"\"Test the execution time of a given function.\r\n",
        "\r\n",
        "  Args:\r\n",
        "    function: Function to time.\r\n",
        "    runs (int, optional): Number of runs. Defaults to 1.\r\n",
        "\r\n",
        "  Returns:\r\n",
        "    Function time (minimum of runs).\r\n",
        "\r\n",
        "  \"\"\"\r\n",
        "  results = [None] * runs\r\n",
        "  for i in range(runs):\r\n",
        "    t0 = time.perf_counter()\r\n",
        "    function()\r\n",
        "    t1 = time.perf_counter()\r\n",
        "    results[i] = t1 - t0\r\n",
        "  \r\n",
        "  return average(results)\r\n",
        "\r\n",
        "\r\n",
        "# n = {200, 400, 600, ..., 4000}\r\n",
        "problem_sizes = [(i + 1) * 200 for i in range(20)]\r\n",
        "\r\n",
        "# Lists of time results\r\n",
        "t_mergesort = []\r\n",
        "t_mergesort_hybrid = []\r\n",
        "\r\n",
        "# Number of random samples to take\r\n",
        "rand_samples = 5\r\n",
        "\r\n",
        "for n in problem_sizes:\r\n",
        "  # Times recorded for this value of n\r\n",
        "  t_n_mergesort = []\r\n",
        "  t_n_mergesort_hybrid = []\r\n",
        "\r\n",
        "  for _ in range(rand_samples):\r\n",
        "    # Random list of length n\r\n",
        "    array = [random.random() for _ in range(n)]\r\n",
        "\r\n",
        "    # Obtain minimum time of 10 runs for each algorithm\r\n",
        "    runs = 10  \r\n",
        "    t_n_mergesort.append(time_function(\r\n",
        "        lambda: mergesort_iterative(array),\r\n",
        "        runs))\r\n",
        "    t_n_mergesort_hybrid.append(time_function(\r\n",
        "        lambda: mergesort_iterative_hybrid(array),\r\n",
        "        runs))\r\n",
        "  \r\n",
        "  # Obtain mean of random trials for this n\r\n",
        "  t_mergesort.append(statistics.mean(t_n_mergesort))\r\n",
        "  t_mergesort_hybrid.append(statistics.mean(t_n_mergesort_hybrid))\r\n",
        "\r\n",
        "# Plot graph of times\r\n",
        "plt.plot(problem_sizes, t_mergesort, label=\"mergesort\")\r\n",
        "plt.plot(problem_sizes, t_mergesort_hybrid, label=\"hybrid\")\r\n",
        "plt.legend()\r\n",
        "plt.xlabel(r\"problem size $n$\")\r\n",
        "plt.ylabel(r\"time $t$ (s)\")\r\n",
        "plt.show()"
      ],
      "execution_count": null,
      "outputs": [
        {
          "output_type": "display_data",
          "data": {
            "image/png": "[encoded data removed]",
            "text/plain": [
              "<Figure size 432x288 with 1 Axes>"
            ]
          },
          "metadata": {
            "tags": [],
            "needs_background": "light"
          }
        }
      ]
    },
    {
      "cell_type": "markdown",
      "metadata": {
        "id": "6XKsbOfpzfrm"
      },
      "source": [
        "You should see that the hybrid approach consistently outperforms the regular mergesort approach.\r\n",
        "\r\n",
        "Congratulations! You have already moved beyond mere academic exercise and just implemented a very real, practical algorithm for sorting lists. For example, many C++ compilers use this hybrid of iterative (bottom-up) mergesort and insertion sort for implementations of its standard library's `std::stable_sort` function (a stable sort is one which preserves the order of elements equal to each other as they were in the input &ndash; both mergesort and insertion sorts are stable).\r\n",
        "\r\n"
      ]
    },
    {
      "cell_type": "markdown",
      "metadata": {
        "id": "cYbAHBv66MA6"
      },
      "source": [
        "# ➕ Extra: Best-case optimisation (natural mergesort)\r\n",
        "\r\n",
        "We derived both the best-case and worst-case complexity of mergesort as $O(n\\log{n})$, differing only in the exact number of comparisons needed in the merge step based on pre-existing ordering. In particular, we noted that the number of comparisons in the merge step is just $n/2$ if every element in one set is less than or greater than every element in the other.\r\n",
        "\r\n",
        "Naturally-occurring order in the input data forming the best case can actually be exploited further. Firstly, remember that each subset is *itself already sorted*. Take an example of a best case for $n$ values, where every element of $A$ is less than every element of $B$:\r\n",
        "\r\n",
        "| $A$ | $B$ |\r\n",
        "| :-: | :-: |\r\n",
        "| $1, 2, 3$ | $4, 5, 6$ |\r\n",
        "\r\n",
        "As we have implemented it so far, mergesort would take $n/2=3$ comparisons to merge $A$ and $B$. However, we can detect this best case by noting that the last element of $A$ is less than the first element of $B$, because we know that both sets are already sorted. By adding this single check to the algorithm, the merge step now only takes 1 comparison in the best case.\r\n",
        "\r\n",
        "The best-case complexity now becomes linear-time, as opposed to linearithmic-time:\r\n",
        "\r\n",
        "\\begin{align}\r\n",
        "T(n) &= 2T{\\left(\\frac{n}{2}\\right)} + 1 \\\\\r\n",
        "&= 4T{\\left(\\frac{n}{4}\\right)} + 2 + 1 \\\\\r\n",
        "&= 8T{\\left(\\frac{n}{8}\\right)} + 4 + 2 + 1 \\\\\r\n",
        "&\\;\\;\\vdots \\\\\r\n",
        "&= 2^kT{\\left(\\frac{n}{2^k}\\right)} + 2^0 + 2^1 + \\dots + 2^{k-1} \\\\\r\n",
        "&= 2^kT{\\left(\\frac{n}{2^k}\\right)} + 2^k - 1 \\\\\r\n",
        "&= nT(1) + n - 1 \\\\\r\n",
        "&= n - 1 \\\\\r\n",
        "\\therefore \\quad T(n) &= O(n)\r\n",
        "\\end{align}\r\n",
        "\r\n",
        "Therefore, natural mergesort improves the best case to $O(n)$ at the cost of one extra comparison per merge step in the worst case. To detect the equally-good best case where the roles of $A$ and $B$ are swapped, e.g.\r\n",
        "\r\n",
        "| $A$ | $B$ |\r\n",
        "| :-: | :-: |\r\n",
        "| $4, 5, 6$ | $1, 2, 3$ |\r\n",
        "\r\n",
        "another comparison, this time between the first element of $A$ and the last element of $B$, can also be added. This extends the achieving of $O(n)$ at the cost of only two extra comparisons per merge step in the worst case. Exploitation of naturally-occurring ordering is a powerful ability and forms the basis of more complicated and sophisticated sorting algorithms such as Timsort."
      ]
    }
  ]
}