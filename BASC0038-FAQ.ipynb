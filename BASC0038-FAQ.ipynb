{
  "nbformat": 4,
  "nbformat_minor": 0,
  "metadata": {
    "colab": {
      "name": "BASC0038-FAQ.ipynb",
      "provenance": [],
      "collapsed_sections": [],
      "toc_visible": true
    },
    "kernelspec": {
      "name": "python3",
      "display_name": "Python 3"
    }
  },
  "cells": [
    {
      "cell_type": "markdown",
      "metadata": {
        "id": "0MViOg9LSRUg"
      },
      "source": [
        "BASC0038 Algorithms, Logic and Structure\r\n",
        "\r\n",
        "# Seminar FAQ\r\n",
        "\r\n",
        "Author: Sam J. Griffiths (sam.griffiths.19@ucl.ac.uk)\r\n",
        "\r\n",
        "---"
      ]
    },
    {
      "cell_type": "markdown",
      "metadata": {
        "id": "kIeg9LtGSdsT"
      },
      "source": [
        "# Week 1: Introduction to Python and algorithms\r\n",
        "\r\n",
        "***What if my solution doesn't match the one given in the solutions workbook?***\r\n",
        "\r\n",
        "There are almost always multiple ways to solve a problem and ways to express the same thing within a programming language. If your code performs as expected, it's likely correct, but there may be slight differences especially as bugs at edge cases. This is why the test output tries to cover a variety of positive and negative cases &ndash; *test-driven development* defines expected behaviour via tests and then code is written to pass all tests. If in doubt that your solution is fully valid, just ask!\r\n",
        "\r\n",
        "***Can text be highlighted in a Jupyter Notebook?***\r\n",
        "\r\n",
        "You can use HTML directly in this text, so `<mark>you can highlight text like this</mark>`. <mark>For example, this text is highlighted!</mark>\r\n",
        "\r\n",
        "\r\n",
        "***What is floor division?***\r\n",
        "\r\n",
        "The floor function rounds down its value to the nearest integer, e.g. $\\lfloor 3.8 \\rfloor=3$. The ceiling function rounds up its value, instead, e.g. $\\lceil 3.8 \\rceil=4$. In Python, the regular division operator `/` will deliver a floating-point result without rounding, but the floor division operator `//` will deliver its result rounded down to the nearest integer:"
      ]
    },
    {
      "cell_type": "code",
      "metadata": {
        "colab": {
          "base_uri": "https://localhost:8080/"
        },
        "id": "_dj3rKmVmjij",
        "outputId": "5ba7a8d3-5738-4624-bdb8-bfc11132dfe6"
      },
      "source": [
        "print(9 / 4)\r\n",
        "print(9 // 4)  # Equivalent to floor(9 / 2)"
      ],
      "execution_count": null,
      "outputs": [
        {
          "output_type": "stream",
          "text": [
            "2.25\n",
            "2\n"
          ],
          "name": "stdout"
        }
      ]
    },
    {
      "cell_type": "markdown",
      "metadata": {
        "id": "7tSDVQ5Nm9nz"
      },
      "source": [
        "***What is the modulo operator?***"
      ]
    },
    {
      "cell_type": "markdown",
      "metadata": {
        "id": "Y6QXMBkTnAA5"
      },
      "source": [
        "The modulo operator is otherwise known as the *remainder* operator, returning the remainder of a division:"
      ]
    },
    {
      "cell_type": "code",
      "metadata": {
        "colab": {
          "base_uri": "https://localhost:8080/"
        },
        "id": "1hPErtdanMIZ",
        "outputId": "2808ccfc-3d99-4941-f745-71b3c367a4b5"
      },
      "source": [
        "dividend = 9\r\n",
        "divisor = 4\r\n",
        "\r\n",
        "quotient = dividend // divisor  # = 2\r\n",
        "remainder = dividend % divisor  # = 1\r\n",
        "\r\n",
        "print(dividend == divisor * quotient + remainder)  # 4 * 2 + 1 = 9"
      ],
      "execution_count": null,
      "outputs": [
        {
          "output_type": "stream",
          "text": [
            "True\n"
          ],
          "name": "stdout"
        }
      ]
    },
    {
      "cell_type": "markdown",
      "metadata": {
        "id": "euSGuaGToC3x"
      },
      "source": [
        "***What does `+=` do?***\r\n",
        "\r\n",
        "`+=` is the addition assignment operator, which effectively increases the object on the left by the value on the right. `a += b` is just shorthand for `a = a + b`, which should make exactly what it is doing clearer.\r\n",
        "\r\n",
        "The above shorthand also explains the other assignment operators such as `-=`, `*=` etc."
      ]
    },
    {
      "cell_type": "markdown",
      "metadata": {
        "id": "D7h2JMiyo_g3"
      },
      "source": [
        "***What does it mean for a line to begin with `#`?***\r\n",
        "\r\n",
        "Any line beginning with `#` is a comment. A comment can also begin on the same line after some code, i.e. everything *after* the `#` on that line is a comment.\r\n",
        "\r\n",
        "Comments are purely for the benefit of anyone reading the code &ndash; the Python interpreter completely disregards it.\r\n",
        "\r\n",
        "Comments are sometimes given within triple quotes:"
      ]
    },
    {
      "cell_type": "code",
      "metadata": {
        "id": "5t4Yj768ptyl"
      },
      "source": [
        "something = 0\r\n",
        "something_else = 10\r\n",
        "\"\"\"A string literal appearing with triple quotes on its own like this\r\n",
        "is a different convention for a comment.\"\"\"\r\n",
        "something_else = something"
      ],
      "execution_count": null,
      "outputs": []
    },
    {
      "cell_type": "markdown",
      "metadata": {
        "id": "adA9IGrFqDOs"
      },
      "source": [
        "You should use `#` for all code comments, however. The above convention should instead be used only as *docstrings*, i.e. rigorously-formatted documentation for functions etc. Check the exercises in the worksheets for examples of function docstrings! Docstrings are used to document function headers, whereas inline (`#`) comments are used to explain sections of code here and there etc.\r\n",
        "\r\n",
        "***Why are empty brackets used sometimes when defining a function?***\r\n",
        "\r\n",
        "When defining a function, the parameters the function takes are listed in brackets:"
      ]
    },
    {
      "cell_type": "code",
      "metadata": {
        "colab": {
          "base_uri": "https://localhost:8080/"
        },
        "id": "d_mN44AFq1l0",
        "outputId": "9b111b8c-a770-46e1-ad16-9b2114a3c1d5"
      },
      "source": [
        "def add_numbers(a, b):\r\n",
        "  return a + b\r\n",
        "\r\n",
        "\r\n",
        "add_numbers(2, 4)"
      ],
      "execution_count": null,
      "outputs": [
        {
          "output_type": "execute_result",
          "data": {
            "text/plain": [
              "6"
            ]
          },
          "metadata": {
            "tags": []
          },
          "execution_count": 10
        }
      ]
    },
    {
      "cell_type": "markdown",
      "metadata": {
        "id": "1hiEuAKbq_EW"
      },
      "source": [
        "However, a function does not have to take any parameters (a function also does not necessarily have to return a value). An empty parameter list is indicated by empty brackets, i.e. you *don't* simply get rid of the brackets if there are no parameters:"
      ]
    },
    {
      "cell_type": "code",
      "metadata": {
        "colab": {
          "base_uri": "https://localhost:8080/"
        },
        "id": "vcCgdZWBrW1t",
        "outputId": "ad515f95-27a6-4232-f012-f118cb748080"
      },
      "source": [
        "def just_print_some_text():\r\n",
        "  print(\"Hello, world!\")\r\n",
        "\r\n",
        "\r\n",
        "just_print_some_text()"
      ],
      "execution_count": null,
      "outputs": [
        {
          "output_type": "stream",
          "text": [
            "Hello, world!\n"
          ],
          "name": "stdout"
        }
      ]
    },
    {
      "cell_type": "markdown",
      "metadata": {
        "id": "0YQhXYZ5rfI_"
      },
      "source": [
        "***What is a predicate?***\r\n",
        "\r\n",
        "In mathematics and computing, a *predicate* is a statement that is either true or false. In terms of something like an `if` statement, it can be read as a synonym of *condition*.\r\n",
        "\r\n",
        "For example, $a < b$ is an example of a mathematical predicate, as it a statement that is either true or false, depending on the values of $a$ and $b$. In a piece of code such as"
      ]
    },
    {
      "cell_type": "code",
      "metadata": {
        "colab": {
          "base_uri": "https://localhost:8080/"
        },
        "id": "6tkjb6RcsMSl",
        "outputId": "39d751a5-ce35-4df7-f9d8-a9c32e620e93"
      },
      "source": [
        "a = 5\r\n",
        "b = 10\r\n",
        "if (a < b):\r\n",
        "  print(\"a is less than b\")\r\n",
        "else:\r\n",
        "  print(\"a is not less than b\")"
      ],
      "execution_count": null,
      "outputs": [
        {
          "output_type": "stream",
          "text": [
            "a is less than b\n"
          ],
          "name": "stdout"
        }
      ]
    },
    {
      "cell_type": "markdown",
      "metadata": {
        "id": "V-4R1tgesbJI"
      },
      "source": [
        "the expression `a < b` is a predicate, i.e. a logical condition.\r\n",
        "\r\n",
        "*** What is the difference between `elif` and `else`?***\r\n",
        "\r\n",
        "An `else` block following an `if` block is executed if the predicate of the `if` statement is `False`.\r\n",
        "\r\n",
        "Often there are not just two possibilities you wish to consider, but they are all mutually exclusive, i.e. only one should be executed. You could do this by chaining blocks:"
      ]
    },
    {
      "cell_type": "code",
      "metadata": {
        "colab": {
          "base_uri": "https://localhost:8080/"
        },
        "id": "KnLMmMBgtJmD",
        "outputId": "7fd0e8c1-6354-463d-a402-73d94fac4152"
      },
      "source": [
        "a = 5\r\n",
        "b = 5\r\n",
        "if (a < b):\r\n",
        "  print(\"a is less than b\")\r\n",
        "else:\r\n",
        "  if (a > b):\r\n",
        "    print(\"a is greater than b\")\r\n",
        "  else:\r\n",
        "    print(\"a is neither less nor greater than b, so it must be equal\")"
      ],
      "execution_count": null,
      "outputs": [
        {
          "output_type": "stream",
          "text": [
            "a is neither less nor greater than b, so it must be equal\n"
          ],
          "name": "stdout"
        }
      ]
    },
    {
      "cell_type": "markdown",
      "metadata": {
        "id": "Giuku-4Utat6"
      },
      "source": [
        "As you can imagine, this could rapidly become cumbersome. `elif` is just an abbrevation of `else if`, making such a chain of conditionals more elegant:"
      ]
    },
    {
      "cell_type": "code",
      "metadata": {
        "colab": {
          "base_uri": "https://localhost:8080/"
        },
        "id": "yejtR6m-tkDX",
        "outputId": "455f37a9-bbbf-4bc6-f317-42a3f40aa881"
      },
      "source": [
        "a = 5\r\n",
        "b = 5\r\n",
        "if (a < b):\r\n",
        "  print(\"a is less than b\")\r\n",
        "elif (a > b):\r\n",
        "  print(\"a is greater than b\")\r\n",
        "else:\r\n",
        "  print(\"a is neither less nor greater than b, so it must be equal\")"
      ],
      "execution_count": null,
      "outputs": [
        {
          "output_type": "stream",
          "text": [
            "a is neither less nor greater than b, so it must be equal\n"
          ],
          "name": "stdout"
        }
      ]
    },
    {
      "cell_type": "markdown",
      "metadata": {
        "id": "QFVVGLgKwuIm"
      },
      "source": [
        "***What is the difference between `while` and `for`?***\r\n",
        "\r\n",
        "Both `while` and `for` are statements to form loops in code. `while` is easier to understand, as it simply keeps repeating until its predicate is no longer `True`:"
      ]
    },
    {
      "cell_type": "code",
      "metadata": {
        "colab": {
          "base_uri": "https://localhost:8080/"
        },
        "id": "M3FsgfOWw6rS",
        "outputId": "11d6dc43-e36b-4d44-d48c-35817a72ed91"
      },
      "source": [
        "# The predicate is checked again at the start of each iteration\r\n",
        "x = 5\r\n",
        "while x > 0:\r\n",
        "  print(x)\r\n",
        "  x -= 1\r\n",
        "\r\n",
        "# The predicate is even checked at the start of the first iteration,\r\n",
        "# so it's possible to not even loop once\r\n",
        "x = 5\r\n",
        "while x > 100:\r\n",
        "  print(\"x doesn't even start off as greater than 100, so this won't happen\")"
      ],
      "execution_count": null,
      "outputs": [
        {
          "output_type": "stream",
          "text": [
            "5\n",
            "4\n",
            "3\n",
            "2\n",
            "1\n"
          ],
          "name": "stdout"
        }
      ]
    },
    {
      "cell_type": "markdown",
      "metadata": {
        "id": "tu8UL6C9xj0h"
      },
      "source": [
        "The `for` statement allows us to easily iterate over elements in a collection by letting us use syntax like `for value in collection`, e.g. rather than having to initialise an index variable `i` and increasing it every iteration.\r\n",
        "\r\n",
        "***How does Python know when to stop with something like `array[3:]`?***\r\n",
        "\r\n",
        "As you may understand, `array[3:]` returns a sublist from the fourth element all the way through to the end. Disregarding this slice notation for a moment, this question is the same as if asking it for any iteration construct, like `for value in array`. How does Python know where the end of the list is? The simple answer is that we know the information of how long the list is is available, as we can do `len(array)` if we wish. Both the iteration and the slicing will simply use this under the hood to check the bounds of the list.\r\n",
        "\r\n",
        "Python subtly stores the length of the list as a value at all times. For further discussion on how to deduce how long a list is, consider reading the extra section on sentinel values!\r\n",
        "\r\n"
      ]
    },
    {
      "cell_type": "markdown",
      "metadata": {
        "id": "9HmKxDu5dF23"
      },
      "source": [
        "# Week 3: Mergesort\r\n",
        "\r\n",
        "***Where does the expression $\\lfloor{\\log_2{n}+1}\\rfloor$ come from and how is mergesort's complexity derived when $n$ is not a power of 2?***\r\n",
        "\r\n",
        "As explored in 3-mergesort, the number of comparisons in general in mergesort for a list of size $n$, assuming $n$ is a power of 2, is\r\n",
        "\r\n",
        "\\begin{align}\r\n",
        "T(n) &= 2T{\\left(\\frac{n}{2}\\right)} + O(n) \\\\\r\n",
        "\\end{align}\r\n",
        "\r\n",
        "In the worst case, where the merge subroutine takes $n-1$ comparisons, this is then\r\n",
        "\r\n",
        "\\begin{align}\r\n",
        "T(n) &= 2T{\\left(\\frac{n}{2}\\right)} + n-1 \\\\\r\n",
        "&= 2^k T{\\left(\\frac{n}{2^k}\\right)} + kn - 2^k + 1 \\\\\r\n",
        "&= n\\log_2{n} - n + 1 \\\\\r\n",
        "\\therefore \\quad T(n) &= O(n\\log{n})\r\n",
        "\\end{align}\r\n",
        "\r\n",
        "Usually, for problems involving recursive halving (e.g. binary search and mergesort) assuming $n$ to be a power of 2 makes the complexity expression more straightforward and is sufficient for characterising the bound. Looking at exact solutions is interesting, however, and quickly becomes more complicated than it may first appear.\r\n",
        "\r\n",
        "In general, the number of comparisons is\r\n",
        "\r\n",
        "\\begin{equation}\r\n",
        "T(n) = T{\\left( \\left\\lfloor\\frac{n}{2}\\right\\rfloor \\right)} + T{\\left( \\left\\lceil\\frac{n}{2}\\right\\rceil \\right)} + O(n)\r\n",
        "\\end{equation}\r\n",
        "\r\n",
        "as lists of odd $n$ must 'halve' into lists of unequal size. It is infeasible to solve this via telescoping &ndash; try it to quickly find that infinitely-nested ceilings and floors do not solve nicely. In the worksheet, the expression $k=\\lfloor{\\log_2{n}+1}\\rfloor$ was simply substituted into the power-of-2 derivation. This is not at all compelling, so let us now derive it in full.\r\n",
        "\r\n",
        "Firstly, as stated in 1-intro, the number of levels $L$ in a balanced binary tree with a total number nodes $N$ is $L=\\lfloor{\\log_2{N}+1}\\rfloor$ levels. For example, if $N=8$:"
      ]
    },
    {
      "cell_type": "markdown",
      "metadata": {
        "id": "rCpmz7XngE9b"
      },
      "source": [
        "<img src=\"https://drive.google.com/uc?export=view&id=1hg6qhDJJKr1C1pnmACSabt3ZcrYLna7e\" alt=\"binary-tree-8.png\" width=\"30%\"/>"
      ]
    },
    {
      "cell_type": "markdown",
      "metadata": {
        "id": "HIfN1LeMhIAE"
      },
      "source": [
        "then there are $L=\\lfloor{\\log_2(8)+1}\\rfloor = \\lfloor{3+1}\\rfloor = 4$ levels. Note that this is not the same terminology as the *height*, which is the maximum number of edges on a downward path, i.e. one less than $L$; here, the height $h=3$.\r\n",
        "\r\n",
        "Hopefully, you can see that $L$ remains $4$ as you increase $n$ from $8$ until $16$, at which point $L$ is now $5$.\r\n",
        "\r\n",
        "The above diagram and treatment is useful for considering binary search. Now, let us consider a similar treatment of mergesort. For example, take a diagram representing recursively halving a set of size $n=8$:"
      ]
    },
    {
      "cell_type": "markdown",
      "metadata": {
        "id": "x5sjQgW7kr_Y"
      },
      "source": [
        "<img src=\"https://drive.google.com/uc?export=view&id=1vDPLpXJGb0Jae7usdLoxs4bkHh31aw4m\" alt=\"binary-tree-merge-8.png\" width=\"50%\"/>"
      ]
    },
    {
      "cell_type": "markdown",
      "metadata": {
        "id": "oXSmcONQlHG8"
      },
      "source": [
        "Let us first consider a hypothetical mergesort-like algorithm, where a merge-like subroutine on each node of value $x$ takes exactly $x$ operations. Take the bottom level of the tree: 1 operation is performed for each of the 8 nodes, i.e. $n$ operations are performed. For the next layer up, 2 operations are performed for each of the 4 nodes, i.e. $n$ operations are performed. For the next, 4 operations are performed for each of the 2 nodes, i.e. $n$, and likewise finally 8 operations for the 1 node, i.e. $n$. We can see that there are $\\lfloor{\\log_2{n}+1}\\rfloor = 4$ levels, so the total number of operations is $T(n)=n(\\log_2{n}+1)=n\\log_2{n}+n$. Therefore, here $T(8)=32$. This can be confirmed by adding up all of the values present on the tree!\r\n",
        "\r\n",
        "Now, what if $n$ is not a power of 2? What if $n=9$? The graph will now look like so:"
      ]
    },
    {
      "cell_type": "markdown",
      "metadata": {
        "id": "zt9DTBmInC5j"
      },
      "source": [
        "<img src=\"https://drive.google.com/uc?export=view&id=1cZNdINgCLlrRk8m3PYPEu15rY6QXtDy8\" alt=\"binary-tree-merge-8.png\" width=\"60%\"/>"
      ]
    },
    {
      "cell_type": "markdown",
      "metadata": {
        "id": "x34Rv_S-nLd3"
      },
      "source": [
        "How many operations are now performed? Firstly, it should be clear there are 9 operations performed for the first 4 levels, i.e. that are still at least $n\\lfloor{\\log_2{n}+1}\\rfloor=9\\cdot 4=36$ operations. However, there is also an additional incomplete level which takes an extra 1 operation for each of the 2 nodes, i.e. an extra 2 operations. Therefore, here $T(n)=n\\lfloor{\\log_2{n}+1}\\rfloor+2=38$.\r\n",
        "\r\n",
        "What is this expression in the general case? We know that there are $n\\lfloor{\\log_2{n}+1}\\rfloor$ operations, plus some from an extra, incomplete level. Moving from $n=8$ to $n=9$ added 2 extra operations. Moving from $n=8$ to $n=10$ would instead add 4 extra operations. This pattern of twice the difference from the previous power of 2 holds.\r\n",
        "\r\n",
        "The 'overflow' from the previous power of 2 is simply $n-2^{\\lfloor{\\log_2{n}}\\rfloor}$, which thus means an additional $2(n-2^{\\lfloor{\\log_2{n}}\\rfloor})$ nodes/operations. So, our final complexity function is\r\n",
        "\r\n",
        "\\begin{align}\r\n",
        "T(n) &= n\\lfloor{\\log_2{n}+1}\\rfloor + 2(n-2^{\\lfloor{\\log_2{n}}\\rfloor}) \\\\\r\n",
        "&= n\\lfloor{\\log_2{n}+1}\\rfloor - 2\\cdot 2^{\\lfloor{\\log_2{n}}\\rfloor} + 2n \\\\\r\n",
        "&= n\\lfloor{\\log_2{n}+1}\\rfloor - 2^{\\lfloor{\\log_2{n}+1}\\rfloor} + 2n\r\n",
        "\\end{align}\r\n",
        "\r\n",
        "Remember, this was for a hypothetical version where the merge-like subroutine takes $x$ operations for each node of value $x$. In the worst case of mergesort, recall that the merge subroutine takes $x-1$ comparisons, instead. For $n=9$ again, the graph of values will now look like:"
      ]
    },
    {
      "cell_type": "markdown",
      "metadata": {
        "id": "DzA_PbkRB3WP"
      },
      "source": [
        "<img src=\"https://drive.google.com/uc?export=view&id=1IBqUklVmZ1SIYy3iBFLx06i3btJm2d7r\" alt=\"binary-tree-merge-8.png\" width=\"60%\"/>"
      ]
    },
    {
      "cell_type": "markdown",
      "metadata": {
        "id": "CD_QFF-CCSlo"
      },
      "source": [
        "In other words, there is 1 less operation for each node in the tree. From our results above regarding the 'overflow' nodes, the number of nodes $N$ in the tree is\r\n",
        "\r\n",
        "\\begin{align}\r\n",
        "N &= (2^0 + 2^1 + \\dots + 2^{\\lfloor{\\log_2{n}}\\rfloor}) - 2^{\\lfloor{\\log_2{n}+1}\\rfloor} + 2n \\\\\r\n",
        "&= 2^{\\lfloor{\\log_2{n}+1}\\rfloor} - 1 - 2^{\\lfloor{\\log_2{n}+1}\\rfloor} + 2n \\\\\r\n",
        "&= 2n - 1\r\n",
        "\\end{align}\r\n",
        "\r\n",
        "As there is 1 less operation for each of the $N$ nodes, the final expression for the number of comparisons is\r\n",
        "\r\n",
        "\\begin{align}\r\n",
        "T(n) &= n\\lfloor{\\log_2{n}+1}\\rfloor - 2^{\\lfloor{\\log_2{n}+1}\\rfloor} + 2n - (2n - 1) \\\\\r\n",
        "&= n\\lfloor{\\log_2{n}+1}\\rfloor - 2^{\\lfloor{\\log_2{n}+1}\\rfloor} + 1 \\\\\r\n",
        "\\end{align}\r\n",
        "\r\n",
        "This concludes a full derivation of the number of comparisons for mergesort in the worst case.\r\n",
        "\r\n",
        "Now, recall that for the best case, instead of each merge subroutine taking $n-1$ comparisons, it takes $\\left\\lfloor{\\frac{n}{2}}\\right\\rfloor$. If you think about applying $\\left\\lfloor{\\frac{x}{2}}\\right\\rfloor$ as the value to each node in the graph as before instead of $x-1$, you can imagine that this becomes significantly more difficult to solve, and indeed it is, so will be left at that."
      ]
    }
  ]
}